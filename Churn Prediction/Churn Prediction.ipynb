{
 "cells": [
  {
   "cell_type": "markdown",
   "id": "fccbcea6",
   "metadata": {},
   "source": [
    "# Homework assignment: Classification"
   ]
  },
  {
   "cell_type": "markdown",
   "id": "39f5d6aa",
   "metadata": {},
   "source": [
    "## Task 0 - Exploratory Data Analysis and Data Preparation\n",
    "Before building up our machine learning models, we would conduct exploratory data analysis and prepare the data at first."
   ]
  },
  {
   "cell_type": "code",
   "execution_count": 1,
   "id": "8fc2eea7",
   "metadata": {},
   "outputs": [],
   "source": [
    "#import necessary libraries\n",
    "import pandas as pd\n",
    "import numpy as np\n",
    "import matplotlib.pyplot as plt\n",
    "import seaborn as sns\n",
    "from scipy import stats\n",
    "from sklearn.model_selection import train_test_split, cross_val_score, cross_val_predict, GridSearchCV, RandomizedSearchCV\n",
    "from sklearn.preprocessing import OneHotEncoder, StandardScaler\n",
    "from sklearn.pipeline import Pipeline, make_pipeline, FunctionTransformer\n",
    "from sklearn.compose import ColumnTransformer, make_column_selector\n",
    "from sklearn.metrics import accuracy_score, precision_score, recall_score, f1_score, \\\n",
    "ConfusionMatrixDisplay, precision_recall_curve, classification_report, roc_auc_score, make_scorer\n",
    "from sklearn.tree import DecisionTreeClassifier\n",
    "from sklearn import tree\n",
    "from sklearn.neighbors import KNeighborsClassifier\n",
    "from sklearn.naive_bayes import GaussianNB\n",
    "from sklearn.ensemble import RandomForestClassifier"
   ]
  },
  {
   "cell_type": "code",
   "execution_count": 2,
   "id": "074fd145",
   "metadata": {},
   "outputs": [],
   "source": [
    "#matplotlib set up\n",
    "plt.rc('font', size=12)\n",
    "plt.rc('axes', labelsize=14, titlesize=14)\n",
    "plt.rc('legend', fontsize=12)\n",
    "plt.rc('xtick', labelsize=10)\n",
    "plt.rc('ytick', labelsize=10)"
   ]
  },
  {
   "cell_type": "code",
   "execution_count": 3,
   "id": "9a26b431",
   "metadata": {},
   "outputs": [],
   "source": [
    "#set seed to ensure model reproducibility\n",
    "SEED = 42"
   ]
  },
  {
   "cell_type": "code",
   "execution_count": 4,
   "id": "f8a8114d",
   "metadata": {},
   "outputs": [],
   "source": [
    "#load the data\n",
    "churn = pd.read_csv('01_FinTech_Churn.csv', sep=';')"
   ]
  },
  {
   "cell_type": "code",
   "execution_count": 5,
   "id": "22c9b3e2",
   "metadata": {},
   "outputs": [
    {
     "data": {
      "text/html": [
       "<div>\n",
       "<style scoped>\n",
       "    .dataframe tbody tr th:only-of-type {\n",
       "        vertical-align: middle;\n",
       "    }\n",
       "\n",
       "    .dataframe tbody tr th {\n",
       "        vertical-align: top;\n",
       "    }\n",
       "\n",
       "    .dataframe thead th {\n",
       "        text-align: right;\n",
       "    }\n",
       "</style>\n",
       "<table border=\"1\" class=\"dataframe\">\n",
       "  <thead>\n",
       "    <tr style=\"text-align: right;\">\n",
       "      <th></th>\n",
       "      <th>CCreditScore</th>\n",
       "      <th>CGeography</th>\n",
       "      <th>CGender</th>\n",
       "      <th>CAge</th>\n",
       "      <th>CTenure</th>\n",
       "      <th>CBalance</th>\n",
       "      <th>CNumOfProducts</th>\n",
       "      <th>CHasCrCard</th>\n",
       "      <th>CIsActiveMember</th>\n",
       "      <th>CEstimatedSalary</th>\n",
       "      <th>Churn</th>\n",
       "    </tr>\n",
       "  </thead>\n",
       "  <tbody>\n",
       "    <tr>\n",
       "      <th>0</th>\n",
       "      <td>619</td>\n",
       "      <td>France</td>\n",
       "      <td>Female</td>\n",
       "      <td>42</td>\n",
       "      <td>2</td>\n",
       "      <td>0.00</td>\n",
       "      <td>1</td>\n",
       "      <td>1</td>\n",
       "      <td>1</td>\n",
       "      <td>101348.88</td>\n",
       "      <td>1</td>\n",
       "    </tr>\n",
       "    <tr>\n",
       "      <th>1</th>\n",
       "      <td>608</td>\n",
       "      <td>Spain</td>\n",
       "      <td>Female</td>\n",
       "      <td>41</td>\n",
       "      <td>1</td>\n",
       "      <td>83807.86</td>\n",
       "      <td>1</td>\n",
       "      <td>0</td>\n",
       "      <td>1</td>\n",
       "      <td>112542.58</td>\n",
       "      <td>0</td>\n",
       "    </tr>\n",
       "    <tr>\n",
       "      <th>2</th>\n",
       "      <td>502</td>\n",
       "      <td>France</td>\n",
       "      <td>Female</td>\n",
       "      <td>42</td>\n",
       "      <td>8</td>\n",
       "      <td>159660.80</td>\n",
       "      <td>3</td>\n",
       "      <td>1</td>\n",
       "      <td>0</td>\n",
       "      <td>113931.57</td>\n",
       "      <td>1</td>\n",
       "    </tr>\n",
       "    <tr>\n",
       "      <th>3</th>\n",
       "      <td>699</td>\n",
       "      <td>France</td>\n",
       "      <td>Female</td>\n",
       "      <td>39</td>\n",
       "      <td>1</td>\n",
       "      <td>0.00</td>\n",
       "      <td>2</td>\n",
       "      <td>0</td>\n",
       "      <td>0</td>\n",
       "      <td>93826.63</td>\n",
       "      <td>0</td>\n",
       "    </tr>\n",
       "    <tr>\n",
       "      <th>4</th>\n",
       "      <td>850</td>\n",
       "      <td>Spain</td>\n",
       "      <td>Female</td>\n",
       "      <td>43</td>\n",
       "      <td>2</td>\n",
       "      <td>125510.82</td>\n",
       "      <td>1</td>\n",
       "      <td>1</td>\n",
       "      <td>1</td>\n",
       "      <td>79084.1</td>\n",
       "      <td>0</td>\n",
       "    </tr>\n",
       "  </tbody>\n",
       "</table>\n",
       "</div>"
      ],
      "text/plain": [
       "   CCreditScore CGeography CGender  CAge  CTenure   CBalance  CNumOfProducts  \\\n",
       "0           619     France  Female    42        2       0.00               1   \n",
       "1           608      Spain  Female    41        1   83807.86               1   \n",
       "2           502     France  Female    42        8  159660.80               3   \n",
       "3           699     France  Female    39        1       0.00               2   \n",
       "4           850      Spain  Female    43        2  125510.82               1   \n",
       "\n",
       "   CHasCrCard  CIsActiveMember CEstimatedSalary  Churn  \n",
       "0           1                1        101348.88      1  \n",
       "1           0                1        112542.58      0  \n",
       "2           1                0        113931.57      1  \n",
       "3           0                0         93826.63      0  \n",
       "4           1                1          79084.1      0  "
      ]
     },
     "execution_count": 5,
     "metadata": {},
     "output_type": "execute_result"
    }
   ],
   "source": [
    "churn.head()"
   ]
  },
  {
   "cell_type": "code",
   "execution_count": 6,
   "id": "02e530f7",
   "metadata": {},
   "outputs": [
    {
     "name": "stdout",
     "output_type": "stream",
     "text": [
      "<class 'pandas.core.frame.DataFrame'>\n",
      "RangeIndex: 10000 entries, 0 to 9999\n",
      "Data columns (total 11 columns):\n",
      " #   Column            Non-Null Count  Dtype  \n",
      "---  ------            --------------  -----  \n",
      " 0   CCreditScore      10000 non-null  int64  \n",
      " 1   CGeography        10000 non-null  object \n",
      " 2   CGender           10000 non-null  object \n",
      " 3   CAge              10000 non-null  int64  \n",
      " 4   CTenure           10000 non-null  int64  \n",
      " 5   CBalance          10000 non-null  float64\n",
      " 6   CNumOfProducts    10000 non-null  int64  \n",
      " 7   CHasCrCard        10000 non-null  int64  \n",
      " 8   CIsActiveMember   10000 non-null  int64  \n",
      " 9   CEstimatedSalary  10000 non-null  object \n",
      " 10  Churn             10000 non-null  int64  \n",
      "dtypes: float64(1), int64(7), object(3)\n",
      "memory usage: 859.5+ KB\n"
     ]
    }
   ],
   "source": [
    "churn.info()"
   ]
  },
  {
   "cell_type": "code",
   "execution_count": 7,
   "id": "4eb7956d",
   "metadata": {},
   "outputs": [
    {
     "data": {
      "text/plain": [
       "CCreditScore        False\n",
       "CGeography          False\n",
       "CGender             False\n",
       "CAge                False\n",
       "CTenure             False\n",
       "CBalance            False\n",
       "CNumOfProducts      False\n",
       "CHasCrCard          False\n",
       "CIsActiveMember     False\n",
       "CEstimatedSalary    False\n",
       "Churn               False\n",
       "dtype: bool"
      ]
     },
     "execution_count": 7,
     "metadata": {},
     "output_type": "execute_result"
    }
   ],
   "source": [
    "churn.isna().any()"
   ]
  },
  {
   "cell_type": "markdown",
   "id": "698ff797",
   "metadata": {},
   "source": [
    "After the first glimpse of the data, we find that:\n",
    "- There is no null value in the dataset\n",
    "- By inspecting the datatypes of the columns, we find that the datatype of `CEstimatedSalary` is \"object\" here, which ought to be float. Our first assumption is that the salary values are wrongly captured as \"string\" in the original data source. Thus, let's try to convert the string values into float by running the following code: "
   ]
  },
  {
   "cell_type": "code",
   "execution_count": 8,
   "id": "2bfab0ac",
   "metadata": {},
   "outputs": [],
   "source": [
    "#please note this code will lead to a ValueError: could not convert string to float: 'Nov 58',\n",
    "#so we comment out it here to avoid the disruption of the script during running\n",
    "#churn.CEstimatedSalary.astype(float)"
   ]
  },
  {
   "cell_type": "markdown",
   "id": "8dc99391",
   "metadata": {},
   "source": [
    "Note that by running the code above, we got a ValueError: could not convert string to float: 'Nov 58', this means that our previous assumption is not complete - the salary values are not only originally entered as \"string\", but also contain illegal values like \"Nov 58\", which can't be considered as estimated salary of the customer. There might be several of this kind of wrong values! Let's find all of them out with the help if the following function:"
   ]
  },
  {
   "cell_type": "code",
   "execution_count": 9,
   "id": "9d8fb975",
   "metadata": {},
   "outputs": [],
   "source": [
    "def locate_wrong_value(Series):\n",
    "    '''\n",
    "    locate and show the illegal value in a Series that is to be coverted into float.\n",
    "    E.g. \"Nov 58\" in the \"CEstimatedSalary\" in our dataset.\n",
    "    '''\n",
    "    i = 0\n",
    "    wrong_values = dict() #a dictionary to hold the wrong values\n",
    "    \n",
    "    while i <= len(Series) - 1:\n",
    "        try:\n",
    "            float(Series[i])\n",
    "        except ValueError:\n",
    "            wrong_values[i] = Series[i]\n",
    "            print(f\"Illegal value '{Series[i]}' found at index {i}\")\n",
    "        finally:\n",
    "            i += 1\n",
    "            continue\n",
    "            \n",
    "    if wrong_values == {}:\n",
    "        print(\"No illegal value found!\") #if there are no illegal values in the series\n",
    "        \n",
    "    return wrong_values"
   ]
  },
  {
   "cell_type": "code",
   "execution_count": 10,
   "id": "e7cfc4df",
   "metadata": {},
   "outputs": [
    {
     "name": "stdout",
     "output_type": "stream",
     "text": [
      "Illegal value 'Nov 58' found at index 2362\n"
     ]
    },
    {
     "data": {
      "text/plain": [
       "{2362: 'Nov 58'}"
      ]
     },
     "execution_count": 10,
     "metadata": {},
     "output_type": "execute_result"
    }
   ],
   "source": [
    "wrong_values = locate_wrong_value(churn.CEstimatedSalary)\n",
    "wrong_values"
   ]
  },
  {
   "cell_type": "code",
   "execution_count": 11,
   "id": "e732ed49",
   "metadata": {},
   "outputs": [
    {
     "data": {
      "text/html": [
       "<div>\n",
       "<style scoped>\n",
       "    .dataframe tbody tr th:only-of-type {\n",
       "        vertical-align: middle;\n",
       "    }\n",
       "\n",
       "    .dataframe tbody tr th {\n",
       "        vertical-align: top;\n",
       "    }\n",
       "\n",
       "    .dataframe thead th {\n",
       "        text-align: right;\n",
       "    }\n",
       "</style>\n",
       "<table border=\"1\" class=\"dataframe\">\n",
       "  <thead>\n",
       "    <tr style=\"text-align: right;\">\n",
       "      <th></th>\n",
       "      <th>CCreditScore</th>\n",
       "      <th>CGeography</th>\n",
       "      <th>CGender</th>\n",
       "      <th>CAge</th>\n",
       "      <th>CTenure</th>\n",
       "      <th>CBalance</th>\n",
       "      <th>CNumOfProducts</th>\n",
       "      <th>CHasCrCard</th>\n",
       "      <th>CIsActiveMember</th>\n",
       "      <th>CEstimatedSalary</th>\n",
       "      <th>Churn</th>\n",
       "    </tr>\n",
       "  </thead>\n",
       "  <tbody>\n",
       "    <tr>\n",
       "      <th>2362</th>\n",
       "      <td>709</td>\n",
       "      <td>Germany</td>\n",
       "      <td>Male</td>\n",
       "      <td>45</td>\n",
       "      <td>4</td>\n",
       "      <td>122917.71</td>\n",
       "      <td>1</td>\n",
       "      <td>1</td>\n",
       "      <td>1</td>\n",
       "      <td>Nov 58</td>\n",
       "      <td>1</td>\n",
       "    </tr>\n",
       "  </tbody>\n",
       "</table>\n",
       "</div>"
      ],
      "text/plain": [
       "      CCreditScore CGeography CGender  CAge  CTenure   CBalance  \\\n",
       "2362           709    Germany    Male    45        4  122917.71   \n",
       "\n",
       "      CNumOfProducts  CHasCrCard  CIsActiveMember CEstimatedSalary  Churn  \n",
       "2362               1           1                1           Nov 58      1  "
      ]
     },
     "execution_count": 11,
     "metadata": {},
     "output_type": "execute_result"
    }
   ],
   "source": [
    "churn.loc[wrong_values.keys()]"
   ]
  },
  {
   "cell_type": "markdown",
   "id": "5fc6b8e3",
   "metadata": {},
   "source": [
    "We successfully located the wrong value in `CEstimatedSalary` and will delete this instance from the dataset."
   ]
  },
  {
   "cell_type": "code",
   "execution_count": 12,
   "id": "d263c7d2",
   "metadata": {},
   "outputs": [],
   "source": [
    "churn.drop(index=wrong_values.keys(), inplace=True)"
   ]
  },
  {
   "cell_type": "markdown",
   "id": "a60a3c00",
   "metadata": {},
   "source": [
    "Check again this the function above:"
   ]
  },
  {
   "cell_type": "code",
   "execution_count": 13,
   "id": "15a5fba9",
   "metadata": {},
   "outputs": [
    {
     "name": "stdout",
     "output_type": "stream",
     "text": [
      "No illegal value found!\n"
     ]
    },
    {
     "data": {
      "text/plain": [
       "{}"
      ]
     },
     "execution_count": 13,
     "metadata": {},
     "output_type": "execute_result"
    }
   ],
   "source": [
    "locate_wrong_value(churn.CEstimatedSalary)"
   ]
  },
  {
   "cell_type": "markdown",
   "id": "f4cfeeb2",
   "metadata": {},
   "source": [
    "After removing the illegal value, we will then convert `CEstimatedSalary` column into float value as expected:"
   ]
  },
  {
   "cell_type": "code",
   "execution_count": 14,
   "id": "7b5d186c",
   "metadata": {},
   "outputs": [],
   "source": [
    "churn['CEstimatedSalary'] = churn.CEstimatedSalary.astype(float)"
   ]
  },
  {
   "cell_type": "code",
   "execution_count": 15,
   "id": "5e4a877a",
   "metadata": {},
   "outputs": [
    {
     "name": "stdout",
     "output_type": "stream",
     "text": [
      "<class 'pandas.core.frame.DataFrame'>\n",
      "Int64Index: 9999 entries, 0 to 9999\n",
      "Data columns (total 11 columns):\n",
      " #   Column            Non-Null Count  Dtype  \n",
      "---  ------            --------------  -----  \n",
      " 0   CCreditScore      9999 non-null   int64  \n",
      " 1   CGeography        9999 non-null   object \n",
      " 2   CGender           9999 non-null   object \n",
      " 3   CAge              9999 non-null   int64  \n",
      " 4   CTenure           9999 non-null   int64  \n",
      " 5   CBalance          9999 non-null   float64\n",
      " 6   CNumOfProducts    9999 non-null   int64  \n",
      " 7   CHasCrCard        9999 non-null   int64  \n",
      " 8   CIsActiveMember   9999 non-null   int64  \n",
      " 9   CEstimatedSalary  9999 non-null   float64\n",
      " 10  Churn             9999 non-null   int64  \n",
      "dtypes: float64(2), int64(7), object(2)\n",
      "memory usage: 1.2+ MB\n"
     ]
    }
   ],
   "source": [
    "churn.info()"
   ]
  },
  {
   "cell_type": "markdown",
   "id": "fa9effb1",
   "metadata": {},
   "source": [
    "Although the datatypes of columns `CHasCrCard`, `CIsActiveMember` and `Churn` are correct as integers, it would be more straightforward to convert them to \"categorical\", because they are categorical values in nature:"
   ]
  },
  {
   "cell_type": "code",
   "execution_count": 16,
   "id": "d61a5993",
   "metadata": {},
   "outputs": [],
   "source": [
    "churn[['CHasCrCard', 'CIsActiveMember', 'Churn']] = churn[['CHasCrCard', 'CIsActiveMember', 'Churn']].astype('category')"
   ]
  },
  {
   "cell_type": "code",
   "execution_count": 17,
   "id": "be13b778",
   "metadata": {
    "scrolled": true
   },
   "outputs": [
    {
     "name": "stdout",
     "output_type": "stream",
     "text": [
      "<class 'pandas.core.frame.DataFrame'>\n",
      "Int64Index: 9999 entries, 0 to 9999\n",
      "Data columns (total 11 columns):\n",
      " #   Column            Non-Null Count  Dtype   \n",
      "---  ------            --------------  -----   \n",
      " 0   CCreditScore      9999 non-null   int64   \n",
      " 1   CGeography        9999 non-null   object  \n",
      " 2   CGender           9999 non-null   object  \n",
      " 3   CAge              9999 non-null   int64   \n",
      " 4   CTenure           9999 non-null   int64   \n",
      " 5   CBalance          9999 non-null   float64 \n",
      " 6   CNumOfProducts    9999 non-null   int64   \n",
      " 7   CHasCrCard        9999 non-null   category\n",
      " 8   CIsActiveMember   9999 non-null   category\n",
      " 9   CEstimatedSalary  9999 non-null   float64 \n",
      " 10  Churn             9999 non-null   category\n",
      "dtypes: category(3), float64(2), int64(4), object(2)\n",
      "memory usage: 990.8+ KB\n"
     ]
    }
   ],
   "source": [
    "churn.info()"
   ]
  },
  {
   "cell_type": "markdown",
   "id": "fe4818dc",
   "metadata": {},
   "source": [
    "Let's inspect the categorical and numerical variables:"
   ]
  },
  {
   "cell_type": "code",
   "execution_count": 18,
   "id": "9e8ecc3f",
   "metadata": {},
   "outputs": [
    {
     "data": {
      "text/html": [
       "<div>\n",
       "<style scoped>\n",
       "    .dataframe tbody tr th:only-of-type {\n",
       "        vertical-align: middle;\n",
       "    }\n",
       "\n",
       "    .dataframe tbody tr th {\n",
       "        vertical-align: top;\n",
       "    }\n",
       "\n",
       "    .dataframe thead th {\n",
       "        text-align: right;\n",
       "    }\n",
       "</style>\n",
       "<table border=\"1\" class=\"dataframe\">\n",
       "  <thead>\n",
       "    <tr style=\"text-align: right;\">\n",
       "      <th></th>\n",
       "      <th>count</th>\n",
       "      <th>unique</th>\n",
       "      <th>top</th>\n",
       "      <th>freq</th>\n",
       "    </tr>\n",
       "  </thead>\n",
       "  <tbody>\n",
       "    <tr>\n",
       "      <th>CGeography</th>\n",
       "      <td>9999</td>\n",
       "      <td>3</td>\n",
       "      <td>France</td>\n",
       "      <td>5014</td>\n",
       "    </tr>\n",
       "    <tr>\n",
       "      <th>CGender</th>\n",
       "      <td>9999</td>\n",
       "      <td>2</td>\n",
       "      <td>Male</td>\n",
       "      <td>5456</td>\n",
       "    </tr>\n",
       "    <tr>\n",
       "      <th>CHasCrCard</th>\n",
       "      <td>9999</td>\n",
       "      <td>2</td>\n",
       "      <td>1</td>\n",
       "      <td>7054</td>\n",
       "    </tr>\n",
       "    <tr>\n",
       "      <th>CIsActiveMember</th>\n",
       "      <td>9999</td>\n",
       "      <td>2</td>\n",
       "      <td>1</td>\n",
       "      <td>5150</td>\n",
       "    </tr>\n",
       "    <tr>\n",
       "      <th>Churn</th>\n",
       "      <td>9999</td>\n",
       "      <td>2</td>\n",
       "      <td>0</td>\n",
       "      <td>7963</td>\n",
       "    </tr>\n",
       "  </tbody>\n",
       "</table>\n",
       "</div>"
      ],
      "text/plain": [
       "                count unique     top  freq\n",
       "CGeography       9999      3  France  5014\n",
       "CGender          9999      2    Male  5456\n",
       "CHasCrCard       9999      2       1  7054\n",
       "CIsActiveMember  9999      2       1  5150\n",
       "Churn            9999      2       0  7963"
      ]
     },
     "execution_count": 18,
     "metadata": {},
     "output_type": "execute_result"
    }
   ],
   "source": [
    "churn.describe(exclude=np.number).T"
   ]
  },
  {
   "cell_type": "code",
   "execution_count": 19,
   "id": "cf30902d",
   "metadata": {},
   "outputs": [
    {
     "name": "stdout",
     "output_type": "stream",
     "text": [
      "France     5014\n",
      "Germany    2508\n",
      "Spain      2477\n",
      "Name: CGeography, dtype: int64\n",
      "\n",
      "Male      5456\n",
      "Female    4543\n",
      "Name: CGender, dtype: int64\n",
      "\n",
      "1    7054\n",
      "0    2945\n",
      "Name: CHasCrCard, dtype: int64\n",
      "\n",
      "1    5150\n",
      "0    4849\n",
      "Name: CIsActiveMember, dtype: int64\n",
      "\n",
      "0    7963\n",
      "1    2036\n",
      "Name: Churn, dtype: int64\n",
      "\n"
     ]
    }
   ],
   "source": [
    "for col in churn.select_dtypes(exclude=np.number).columns:\n",
    "    print(churn[col].value_counts(), end='\\n\\n')"
   ]
  },
  {
   "cell_type": "code",
   "execution_count": 20,
   "id": "f0d9a7d9",
   "metadata": {},
   "outputs": [
    {
     "data": {
      "text/plain": [
       "0    0.79638\n",
       "1    0.20362\n",
       "Name: Churn, dtype: float64"
      ]
     },
     "execution_count": 20,
     "metadata": {},
     "output_type": "execute_result"
    }
   ],
   "source": [
    "churn.Churn.value_counts(normalize=True)"
   ]
  },
  {
   "cell_type": "markdown",
   "id": "d2586803",
   "metadata": {},
   "source": [
    "Based on the distribution of target label, we can see that although the dataset is a bit imbalanced, we won't conduct resampling in this project as it's not so imbalanced that we have to perform over- or under-sampling (like for example a ratio of 1:100 class distribution)."
   ]
  },
  {
   "cell_type": "code",
   "execution_count": 21,
   "id": "ad165930",
   "metadata": {},
   "outputs": [
    {
     "data": {
      "text/html": [
       "<div>\n",
       "<style scoped>\n",
       "    .dataframe tbody tr th:only-of-type {\n",
       "        vertical-align: middle;\n",
       "    }\n",
       "\n",
       "    .dataframe tbody tr th {\n",
       "        vertical-align: top;\n",
       "    }\n",
       "\n",
       "    .dataframe thead th {\n",
       "        text-align: right;\n",
       "    }\n",
       "</style>\n",
       "<table border=\"1\" class=\"dataframe\">\n",
       "  <thead>\n",
       "    <tr style=\"text-align: right;\">\n",
       "      <th></th>\n",
       "      <th>count</th>\n",
       "      <th>mean</th>\n",
       "      <th>std</th>\n",
       "      <th>min</th>\n",
       "      <th>25%</th>\n",
       "      <th>50%</th>\n",
       "      <th>75%</th>\n",
       "      <th>max</th>\n",
       "    </tr>\n",
       "  </thead>\n",
       "  <tbody>\n",
       "    <tr>\n",
       "      <th>CCreditScore</th>\n",
       "      <td>9999.0</td>\n",
       "      <td>650.522952</td>\n",
       "      <td>96.656363</td>\n",
       "      <td>350.00</td>\n",
       "      <td>584.000</td>\n",
       "      <td>652.00</td>\n",
       "      <td>718.000</td>\n",
       "      <td>850.00</td>\n",
       "    </tr>\n",
       "    <tr>\n",
       "      <th>CAge</th>\n",
       "      <td>9999.0</td>\n",
       "      <td>38.921192</td>\n",
       "      <td>10.488155</td>\n",
       "      <td>18.00</td>\n",
       "      <td>32.000</td>\n",
       "      <td>37.00</td>\n",
       "      <td>44.000</td>\n",
       "      <td>92.00</td>\n",
       "    </tr>\n",
       "    <tr>\n",
       "      <th>CTenure</th>\n",
       "      <td>9999.0</td>\n",
       "      <td>5.012901</td>\n",
       "      <td>2.892301</td>\n",
       "      <td>0.00</td>\n",
       "      <td>3.000</td>\n",
       "      <td>5.00</td>\n",
       "      <td>7.000</td>\n",
       "      <td>10.00</td>\n",
       "    </tr>\n",
       "    <tr>\n",
       "      <th>CBalance</th>\n",
       "      <td>9999.0</td>\n",
       "      <td>76481.245642</td>\n",
       "      <td>62398.797596</td>\n",
       "      <td>0.00</td>\n",
       "      <td>0.000</td>\n",
       "      <td>97188.62</td>\n",
       "      <td>127646.040</td>\n",
       "      <td>250898.09</td>\n",
       "    </tr>\n",
       "    <tr>\n",
       "      <th>CNumOfProducts</th>\n",
       "      <td>9999.0</td>\n",
       "      <td>1.530253</td>\n",
       "      <td>0.581659</td>\n",
       "      <td>1.00</td>\n",
       "      <td>1.000</td>\n",
       "      <td>1.00</td>\n",
       "      <td>2.000</td>\n",
       "      <td>4.00</td>\n",
       "    </tr>\n",
       "    <tr>\n",
       "      <th>CEstimatedSalary</th>\n",
       "      <td>9999.0</td>\n",
       "      <td>100100.248748</td>\n",
       "      <td>57504.658260</td>\n",
       "      <td>90.07</td>\n",
       "      <td>51013.655</td>\n",
       "      <td>100200.40</td>\n",
       "      <td>149392.065</td>\n",
       "      <td>199992.48</td>\n",
       "    </tr>\n",
       "  </tbody>\n",
       "</table>\n",
       "</div>"
      ],
      "text/plain": [
       "                   count           mean           std     min        25%  \\\n",
       "CCreditScore      9999.0     650.522952     96.656363  350.00    584.000   \n",
       "CAge              9999.0      38.921192     10.488155   18.00     32.000   \n",
       "CTenure           9999.0       5.012901      2.892301    0.00      3.000   \n",
       "CBalance          9999.0   76481.245642  62398.797596    0.00      0.000   \n",
       "CNumOfProducts    9999.0       1.530253      0.581659    1.00      1.000   \n",
       "CEstimatedSalary  9999.0  100100.248748  57504.658260   90.07  51013.655   \n",
       "\n",
       "                        50%         75%        max  \n",
       "CCreditScore         652.00     718.000     850.00  \n",
       "CAge                  37.00      44.000      92.00  \n",
       "CTenure                5.00       7.000      10.00  \n",
       "CBalance           97188.62  127646.040  250898.09  \n",
       "CNumOfProducts         1.00       2.000       4.00  \n",
       "CEstimatedSalary  100200.40  149392.065  199992.48  "
      ]
     },
     "execution_count": 21,
     "metadata": {},
     "output_type": "execute_result"
    }
   ],
   "source": [
    "#Descriptive statistical summary of numerical columns\n",
    "churn.describe(include=np.number).T"
   ]
  },
  {
   "cell_type": "markdown",
   "id": "7ad08fa4",
   "metadata": {},
   "source": [
    "Obviously, the numerical features are on very different scales, we will have to perform feature scaling later on before training our models. (Note that decision tree algorithm does not require feature scaling, nevertheless, we will include it in our pipeline for all the model in Task 1 below, because feature scaling is a prerequisite of other algorithms such as k-Nearest Neighbors.) Now, let's look at the distributions of the numerical features:"
   ]
  },
  {
   "cell_type": "code",
   "execution_count": 22,
   "id": "7480ff6b",
   "metadata": {},
   "outputs": [
    {
     "data": {
      "image/png": "[encoded data removed]",
      "text/plain": [
       "<Figure size 640x480 with 6 Axes>"
      ]
     },
     "metadata": {},
     "output_type": "display_data"
    }
   ],
   "source": [
    "churn.select_dtypes(include=np.number).hist(bins=30)\n",
    "plt.tight_layout()\n",
    "plt.show()"
   ]
  },
  {
   "cell_type": "markdown",
   "id": "369f3ec4",
   "metadata": {},
   "source": [
    "Note that the distribution of values in `CAge` column is right-skewed, we will thus also conduct the \"log-normalization\" on it before scaling. <br/> Now, we are good to build a preprocessing pipeline to include all the above mentioned transformation steps."
   ]
  },
  {
   "cell_type": "code",
   "execution_count": 23,
   "id": "4b532fc8",
   "metadata": {},
   "outputs": [],
   "source": [
    "#create a preprocessing pipeline containing the transformation of all the categorical features with one-hot encoding;\n",
    "#\"CAge\" with a log-transformer and the rest numerical features with standard-scaler\n",
    "log_pipeline = make_pipeline(FunctionTransformer(np.log, feature_names_out='one-to-one'), StandardScaler())\n",
    "\n",
    "preprocessing = ColumnTransformer([\n",
    "    ('cat', OneHotEncoder(sparse_output=False, handle_unknown='ignore'), make_column_selector(dtype_exclude=np.number)),\n",
    "    ('log', log_pipeline, ['CAge'])\n",
    "], remainder=StandardScaler(), verbose_feature_names_out=False)"
   ]
  },
  {
   "cell_type": "markdown",
   "id": "6caa4d64",
   "metadata": {},
   "source": [
    "Up to now, we finished EDA and built up a data transformation pipeline. As next, let's train our models."
   ]
  },
  {
   "cell_type": "markdown",
   "id": "7c0c1798",
   "metadata": {},
   "source": [
    "## Task 1\n",
    "Apply three different simple machine learning models, which we discussed in lecture 02. Describe your approach, interpret the performance, and justify (based on the results) which machine learning model you would choose."
   ]
  },
  {
   "cell_type": "markdown",
   "id": "b1fd8242",
   "metadata": {},
   "source": [
    "We will split our dataset into training and test data, launch 3 machine learning models - Decision Trees, k-Nearest Neighbors and Naive Bayes and compare their performance and decide one model for further task 2.<br>\n",
    "Please note that the performance of the models are evaluated merely on training and validation set, we won't touch the test set until we selected the final single model and are confident to launch it. In other words, we need to use part of the training set for model validation purpose, by conducting cross-validation."
   ]
  },
  {
   "cell_type": "markdown",
   "id": "3fa49765",
   "metadata": {},
   "source": [
    "### Split dataset"
   ]
  },
  {
   "cell_type": "code",
   "execution_count": 24,
   "id": "61ea5ff8",
   "metadata": {},
   "outputs": [],
   "source": [
    "#split data into training and testing set\n",
    "X_train, X_test, y_train, y_test = train_test_split(churn.iloc[:, :-1], churn.Churn, test_size=0.33, random_state=SEED)"
   ]
  },
  {
   "cell_type": "markdown",
   "id": "3ea404fe",
   "metadata": {},
   "source": [
    "Get view of the transformed traing data."
   ]
  },
  {
   "cell_type": "code",
   "execution_count": 25,
   "id": "dca8aa49",
   "metadata": {},
   "outputs": [
    {
     "data": {
      "text/html": [
       "<div>\n",
       "<style scoped>\n",
       "    .dataframe tbody tr th:only-of-type {\n",
       "        vertical-align: middle;\n",
       "    }\n",
       "\n",
       "    .dataframe tbody tr th {\n",
       "        vertical-align: top;\n",
       "    }\n",
       "\n",
       "    .dataframe thead th {\n",
       "        text-align: right;\n",
       "    }\n",
       "</style>\n",
       "<table border=\"1\" class=\"dataframe\">\n",
       "  <thead>\n",
       "    <tr style=\"text-align: right;\">\n",
       "      <th></th>\n",
       "      <th>CGeography_France</th>\n",
       "      <th>CGeography_Germany</th>\n",
       "      <th>CGeography_Spain</th>\n",
       "      <th>CGender_Female</th>\n",
       "      <th>CGender_Male</th>\n",
       "      <th>CHasCrCard_0</th>\n",
       "      <th>CHasCrCard_1</th>\n",
       "      <th>CIsActiveMember_0</th>\n",
       "      <th>CIsActiveMember_1</th>\n",
       "      <th>CAge</th>\n",
       "      <th>CCreditScore</th>\n",
       "      <th>CTenure</th>\n",
       "      <th>CBalance</th>\n",
       "      <th>CNumOfProducts</th>\n",
       "      <th>CEstimatedSalary</th>\n",
       "    </tr>\n",
       "  </thead>\n",
       "  <tbody>\n",
       "    <tr>\n",
       "      <th>0</th>\n",
       "      <td>1.0</td>\n",
       "      <td>0.0</td>\n",
       "      <td>0.0</td>\n",
       "      <td>0.0</td>\n",
       "      <td>1.0</td>\n",
       "      <td>0.0</td>\n",
       "      <td>1.0</td>\n",
       "      <td>0.0</td>\n",
       "      <td>1.0</td>\n",
       "      <td>-0.630469</td>\n",
       "      <td>0.316912</td>\n",
       "      <td>-0.690393</td>\n",
       "      <td>1.161351</td>\n",
       "      <td>0.826993</td>\n",
       "      <td>-0.173820</td>\n",
       "    </tr>\n",
       "    <tr>\n",
       "      <th>1</th>\n",
       "      <td>0.0</td>\n",
       "      <td>1.0</td>\n",
       "      <td>0.0</td>\n",
       "      <td>0.0</td>\n",
       "      <td>1.0</td>\n",
       "      <td>0.0</td>\n",
       "      <td>1.0</td>\n",
       "      <td>0.0</td>\n",
       "      <td>1.0</td>\n",
       "      <td>-0.070094</td>\n",
       "      <td>0.316912</td>\n",
       "      <td>1.038040</td>\n",
       "      <td>-0.048373</td>\n",
       "      <td>0.826993</td>\n",
       "      <td>-1.311908</td>\n",
       "    </tr>\n",
       "    <tr>\n",
       "      <th>2</th>\n",
       "      <td>0.0</td>\n",
       "      <td>1.0</td>\n",
       "      <td>0.0</td>\n",
       "      <td>0.0</td>\n",
       "      <td>1.0</td>\n",
       "      <td>0.0</td>\n",
       "      <td>1.0</td>\n",
       "      <td>1.0</td>\n",
       "      <td>0.0</td>\n",
       "      <td>1.014135</td>\n",
       "      <td>-0.086652</td>\n",
       "      <td>-0.344706</td>\n",
       "      <td>0.710798</td>\n",
       "      <td>-0.896187</td>\n",
       "      <td>-1.320959</td>\n",
       "    </tr>\n",
       "    <tr>\n",
       "      <th>3</th>\n",
       "      <td>0.0</td>\n",
       "      <td>0.0</td>\n",
       "      <td>1.0</td>\n",
       "      <td>0.0</td>\n",
       "      <td>1.0</td>\n",
       "      <td>0.0</td>\n",
       "      <td>1.0</td>\n",
       "      <td>0.0</td>\n",
       "      <td>1.0</td>\n",
       "      <td>0.230822</td>\n",
       "      <td>0.068565</td>\n",
       "      <td>1.729413</td>\n",
       "      <td>-1.217735</td>\n",
       "      <td>0.826993</td>\n",
       "      <td>-0.831923</td>\n",
       "    </tr>\n",
       "    <tr>\n",
       "      <th>4</th>\n",
       "      <td>1.0</td>\n",
       "      <td>0.0</td>\n",
       "      <td>0.0</td>\n",
       "      <td>0.0</td>\n",
       "      <td>1.0</td>\n",
       "      <td>0.0</td>\n",
       "      <td>1.0</td>\n",
       "      <td>1.0</td>\n",
       "      <td>0.0</td>\n",
       "      <td>-0.511696</td>\n",
       "      <td>-0.666128</td>\n",
       "      <td>1.383727</td>\n",
       "      <td>-1.217735</td>\n",
       "      <td>-0.896187</td>\n",
       "      <td>-1.629335</td>\n",
       "    </tr>\n",
       "  </tbody>\n",
       "</table>\n",
       "</div>"
      ],
      "text/plain": [
       "   CGeography_France  CGeography_Germany  CGeography_Spain  CGender_Female  \\\n",
       "0                1.0                 0.0               0.0             0.0   \n",
       "1                0.0                 1.0               0.0             0.0   \n",
       "2                0.0                 1.0               0.0             0.0   \n",
       "3                0.0                 0.0               1.0             0.0   \n",
       "4                1.0                 0.0               0.0             0.0   \n",
       "\n",
       "   CGender_Male  CHasCrCard_0  CHasCrCard_1  CIsActiveMember_0  \\\n",
       "0           1.0           0.0           1.0                0.0   \n",
       "1           1.0           0.0           1.0                0.0   \n",
       "2           1.0           0.0           1.0                1.0   \n",
       "3           1.0           0.0           1.0                0.0   \n",
       "4           1.0           0.0           1.0                1.0   \n",
       "\n",
       "   CIsActiveMember_1      CAge  CCreditScore   CTenure  CBalance  \\\n",
       "0                1.0 -0.630469      0.316912 -0.690393  1.161351   \n",
       "1                1.0 -0.070094      0.316912  1.038040 -0.048373   \n",
       "2                0.0  1.014135     -0.086652 -0.344706  0.710798   \n",
       "3                1.0  0.230822      0.068565  1.729413 -1.217735   \n",
       "4                0.0 -0.511696     -0.666128  1.383727 -1.217735   \n",
       "\n",
       "   CNumOfProducts  CEstimatedSalary  \n",
       "0        0.826993         -0.173820  \n",
       "1        0.826993         -1.311908  \n",
       "2       -0.896187         -1.320959  \n",
       "3        0.826993         -0.831923  \n",
       "4       -0.896187         -1.629335  "
      ]
     },
     "execution_count": 25,
     "metadata": {},
     "output_type": "execute_result"
    }
   ],
   "source": [
    "pd.DataFrame(preprocessing.fit_transform(X_train), columns=preprocessing.get_feature_names_out()).head()"
   ]
  },
  {
   "cell_type": "markdown",
   "id": "c0ae343f",
   "metadata": {},
   "source": [
    "Our processing pipeline functions well, we can now build and train the models."
   ]
  },
  {
   "cell_type": "code",
   "execution_count": 26,
   "id": "d23b5861",
   "metadata": {},
   "outputs": [
    {
     "data": {
      "text/html": [
       "<style>#sk-container-id-1 {color: black;background-color: white;}#sk-container-id-1 pre{padding: 0;}#sk-container-id-1 div.sk-toggleable {background-color: white;}#sk-container-id-1 label.sk-toggleable__label {cursor: pointer;display: block;width: 100%;margin-bottom: 0;padding: 0.3em;box-sizing: border-box;text-align: center;}#sk-container-id-1 label.sk-toggleable__label-arrow:before {content: \"▸\";float: left;margin-right: 0.25em;color: #696969;}#sk-container-id-1 label.sk-toggleable__label-arrow:hover:before {color: black;}#sk-container-id-1 div.sk-estimator:hover label.sk-toggleable__label-arrow:before {color: black;}#sk-container-id-1 div.sk-toggleable__content {max-height: 0;max-width: 0;overflow: hidden;text-align: left;background-color: #f0f8ff;}#sk-container-id-1 div.sk-toggleable__content pre {margin: 0.2em;color: black;border-radius: 0.25em;background-color: #f0f8ff;}#sk-container-id-1 input.sk-toggleable__control:checked~div.sk-toggleable__content {max-height: 200px;max-width: 100%;overflow: auto;}#sk-container-id-1 input.sk-toggleable__control:checked~label.sk-toggleable__label-arrow:before {content: \"▾\";}#sk-container-id-1 div.sk-estimator input.sk-toggleable__control:checked~label.sk-toggleable__label {background-color: #d4ebff;}#sk-container-id-1 div.sk-label input.sk-toggleable__control:checked~label.sk-toggleable__label {background-color: #d4ebff;}#sk-container-id-1 input.sk-hidden--visually {border: 0;clip: rect(1px 1px 1px 1px);clip: rect(1px, 1px, 1px, 1px);height: 1px;margin: -1px;overflow: hidden;padding: 0;position: absolute;width: 1px;}#sk-container-id-1 div.sk-estimator {font-family: monospace;background-color: #f0f8ff;border: 1px dotted black;border-radius: 0.25em;box-sizing: border-box;margin-bottom: 0.5em;}#sk-container-id-1 div.sk-estimator:hover {background-color: #d4ebff;}#sk-container-id-1 div.sk-parallel-item::after {content: \"\";width: 100%;border-bottom: 1px solid gray;flex-grow: 1;}#sk-container-id-1 div.sk-label:hover label.sk-toggleable__label {background-color: #d4ebff;}#sk-container-id-1 div.sk-serial::before {content: \"\";position: absolute;border-left: 1px solid gray;box-sizing: border-box;top: 0;bottom: 0;left: 50%;z-index: 0;}#sk-container-id-1 div.sk-serial {display: flex;flex-direction: column;align-items: center;background-color: white;padding-right: 0.2em;padding-left: 0.2em;position: relative;}#sk-container-id-1 div.sk-item {position: relative;z-index: 1;}#sk-container-id-1 div.sk-parallel {display: flex;align-items: stretch;justify-content: center;background-color: white;position: relative;}#sk-container-id-1 div.sk-item::before, #sk-container-id-1 div.sk-parallel-item::before {content: \"\";position: absolute;border-left: 1px solid gray;box-sizing: border-box;top: 0;bottom: 0;left: 50%;z-index: -1;}#sk-container-id-1 div.sk-parallel-item {display: flex;flex-direction: column;z-index: 1;position: relative;background-color: white;}#sk-container-id-1 div.sk-parallel-item:first-child::after {align-self: flex-end;width: 50%;}#sk-container-id-1 div.sk-parallel-item:last-child::after {align-self: flex-start;width: 50%;}#sk-container-id-1 div.sk-parallel-item:only-child::after {width: 0;}#sk-container-id-1 div.sk-dashed-wrapped {border: 1px dashed gray;margin: 0 0.4em 0.5em 0.4em;box-sizing: border-box;padding-bottom: 0.4em;background-color: white;}#sk-container-id-1 div.sk-label label {font-family: monospace;font-weight: bold;display: inline-block;line-height: 1.2em;}#sk-container-id-1 div.sk-label-container {text-align: center;}#sk-container-id-1 div.sk-container {/* jupyter's `normalize.less` sets `[hidden] { display: none; }` but bootstrap.min.css set `[hidden] { display: none !important; }` so we also need the `!important` here to be able to override the default hidden behavior on the sphinx rendered scikit-learn.org. See: https://github.com/scikit-learn/scikit-learn/issues/21755 */display: inline-block !important;position: relative;}#sk-container-id-1 div.sk-text-repr-fallback {display: none;}</style><div id=\"sk-container-id-1\" class=\"sk-top-container\"><div class=\"sk-text-repr-fallback\"><pre>Pipeline(steps=[(&#x27;columntransformer&#x27;,\n",
       "                 ColumnTransformer(remainder=StandardScaler(),\n",
       "                                   transformers=[(&#x27;cat&#x27;,\n",
       "                                                  OneHotEncoder(handle_unknown=&#x27;ignore&#x27;,\n",
       "                                                                sparse_output=False),\n",
       "                                                  &lt;sklearn.compose._column_transformer.make_column_selector object at 0x16c6761a0&gt;),\n",
       "                                                 (&#x27;log&#x27;,\n",
       "                                                  Pipeline(steps=[(&#x27;functiontransformer&#x27;,\n",
       "                                                                   FunctionTransformer(feature_names_out=&#x27;one-to-one&#x27;,\n",
       "                                                                                       func=&lt;ufunc &#x27;log&#x27;&gt;)),\n",
       "                                                                  (&#x27;standardscaler&#x27;,\n",
       "                                                                   StandardScaler())]),\n",
       "                                                  [&#x27;CAge&#x27;])],\n",
       "                                   verbose_feature_names_out=False)),\n",
       "                (&#x27;decisiontreeclassifier&#x27;,\n",
       "                 DecisionTreeClassifier(min_samples_leaf=0.04,\n",
       "                                        random_state=42))])</pre><b>In a Jupyter environment, please rerun this cell to show the HTML representation or trust the notebook. <br />On GitHub, the HTML representation is unable to render, please try loading this page with nbviewer.org.</b></div><div class=\"sk-container\" hidden><div class=\"sk-item sk-dashed-wrapped\"><div class=\"sk-label-container\"><div class=\"sk-label sk-toggleable\"><input class=\"sk-toggleable__control sk-hidden--visually\" id=\"sk-estimator-id-1\" type=\"checkbox\" ><label for=\"sk-estimator-id-1\" class=\"sk-toggleable__label sk-toggleable__label-arrow\">Pipeline</label><div class=\"sk-toggleable__content\"><pre>Pipeline(steps=[(&#x27;columntransformer&#x27;,\n",
       "                 ColumnTransformer(remainder=StandardScaler(),\n",
       "                                   transformers=[(&#x27;cat&#x27;,\n",
       "                                                  OneHotEncoder(handle_unknown=&#x27;ignore&#x27;,\n",
       "                                                                sparse_output=False),\n",
       "                                                  &lt;sklearn.compose._column_transformer.make_column_selector object at 0x16c6761a0&gt;),\n",
       "                                                 (&#x27;log&#x27;,\n",
       "                                                  Pipeline(steps=[(&#x27;functiontransformer&#x27;,\n",
       "                                                                   FunctionTransformer(feature_names_out=&#x27;one-to-one&#x27;,\n",
       "                                                                                       func=&lt;ufunc &#x27;log&#x27;&gt;)),\n",
       "                                                                  (&#x27;standardscaler&#x27;,\n",
       "                                                                   StandardScaler())]),\n",
       "                                                  [&#x27;CAge&#x27;])],\n",
       "                                   verbose_feature_names_out=False)),\n",
       "                (&#x27;decisiontreeclassifier&#x27;,\n",
       "                 DecisionTreeClassifier(min_samples_leaf=0.04,\n",
       "                                        random_state=42))])</pre></div></div></div><div class=\"sk-serial\"><div class=\"sk-item sk-dashed-wrapped\"><div class=\"sk-label-container\"><div class=\"sk-label sk-toggleable\"><input class=\"sk-toggleable__control sk-hidden--visually\" id=\"sk-estimator-id-2\" type=\"checkbox\" ><label for=\"sk-estimator-id-2\" class=\"sk-toggleable__label sk-toggleable__label-arrow\">columntransformer: ColumnTransformer</label><div class=\"sk-toggleable__content\"><pre>ColumnTransformer(remainder=StandardScaler(),\n",
       "                  transformers=[(&#x27;cat&#x27;,\n",
       "                                 OneHotEncoder(handle_unknown=&#x27;ignore&#x27;,\n",
       "                                               sparse_output=False),\n",
       "                                 &lt;sklearn.compose._column_transformer.make_column_selector object at 0x16c6761a0&gt;),\n",
       "                                (&#x27;log&#x27;,\n",
       "                                 Pipeline(steps=[(&#x27;functiontransformer&#x27;,\n",
       "                                                  FunctionTransformer(feature_names_out=&#x27;one-to-one&#x27;,\n",
       "                                                                      func=&lt;ufunc &#x27;log&#x27;&gt;)),\n",
       "                                                 (&#x27;standardscaler&#x27;,\n",
       "                                                  StandardScaler())]),\n",
       "                                 [&#x27;CAge&#x27;])],\n",
       "                  verbose_feature_names_out=False)</pre></div></div></div><div class=\"sk-parallel\"><div class=\"sk-parallel-item\"><div class=\"sk-item\"><div class=\"sk-label-container\"><div class=\"sk-label sk-toggleable\"><input class=\"sk-toggleable__control sk-hidden--visually\" id=\"sk-estimator-id-3\" type=\"checkbox\" ><label for=\"sk-estimator-id-3\" class=\"sk-toggleable__label sk-toggleable__label-arrow\">cat</label><div class=\"sk-toggleable__content\"><pre>&lt;sklearn.compose._column_transformer.make_column_selector object at 0x16c6761a0&gt;</pre></div></div></div><div class=\"sk-serial\"><div class=\"sk-item\"><div class=\"sk-estimator sk-toggleable\"><input class=\"sk-toggleable__control sk-hidden--visually\" id=\"sk-estimator-id-4\" type=\"checkbox\" ><label for=\"sk-estimator-id-4\" class=\"sk-toggleable__label sk-toggleable__label-arrow\">OneHotEncoder</label><div class=\"sk-toggleable__content\"><pre>OneHotEncoder(handle_unknown=&#x27;ignore&#x27;, sparse_output=False)</pre></div></div></div></div></div></div><div class=\"sk-parallel-item\"><div class=\"sk-item\"><div class=\"sk-label-container\"><div class=\"sk-label sk-toggleable\"><input class=\"sk-toggleable__control sk-hidden--visually\" id=\"sk-estimator-id-5\" type=\"checkbox\" ><label for=\"sk-estimator-id-5\" class=\"sk-toggleable__label sk-toggleable__label-arrow\">log</label><div class=\"sk-toggleable__content\"><pre>[&#x27;CAge&#x27;]</pre></div></div></div><div class=\"sk-serial\"><div class=\"sk-item\"><div class=\"sk-serial\"><div class=\"sk-item\"><div class=\"sk-estimator sk-toggleable\"><input class=\"sk-toggleable__control sk-hidden--visually\" id=\"sk-estimator-id-6\" type=\"checkbox\" ><label for=\"sk-estimator-id-6\" class=\"sk-toggleable__label sk-toggleable__label-arrow\">FunctionTransformer</label><div class=\"sk-toggleable__content\"><pre>FunctionTransformer(feature_names_out=&#x27;one-to-one&#x27;, func=&lt;ufunc &#x27;log&#x27;&gt;)</pre></div></div></div><div class=\"sk-item\"><div class=\"sk-estimator sk-toggleable\"><input class=\"sk-toggleable__control sk-hidden--visually\" id=\"sk-estimator-id-7\" type=\"checkbox\" ><label for=\"sk-estimator-id-7\" class=\"sk-toggleable__label sk-toggleable__label-arrow\">StandardScaler</label><div class=\"sk-toggleable__content\"><pre>StandardScaler()</pre></div></div></div></div></div></div></div></div><div class=\"sk-parallel-item\"><div class=\"sk-item\"><div class=\"sk-label-container\"><div class=\"sk-label sk-toggleable\"><input class=\"sk-toggleable__control sk-hidden--visually\" id=\"sk-estimator-id-8\" type=\"checkbox\" ><label for=\"sk-estimator-id-8\" class=\"sk-toggleable__label sk-toggleable__label-arrow\">remainder</label><div class=\"sk-toggleable__content\"><pre>[&#x27;CCreditScore&#x27;, &#x27;CTenure&#x27;, &#x27;CBalance&#x27;, &#x27;CNumOfProducts&#x27;, &#x27;CEstimatedSalary&#x27;]</pre></div></div></div><div class=\"sk-serial\"><div class=\"sk-item\"><div class=\"sk-estimator sk-toggleable\"><input class=\"sk-toggleable__control sk-hidden--visually\" id=\"sk-estimator-id-9\" type=\"checkbox\" ><label for=\"sk-estimator-id-9\" class=\"sk-toggleable__label sk-toggleable__label-arrow\">StandardScaler</label><div class=\"sk-toggleable__content\"><pre>StandardScaler()</pre></div></div></div></div></div></div></div></div><div class=\"sk-item\"><div class=\"sk-estimator sk-toggleable\"><input class=\"sk-toggleable__control sk-hidden--visually\" id=\"sk-estimator-id-10\" type=\"checkbox\" ><label for=\"sk-estimator-id-10\" class=\"sk-toggleable__label sk-toggleable__label-arrow\">DecisionTreeClassifier</label><div class=\"sk-toggleable__content\"><pre>DecisionTreeClassifier(min_samples_leaf=0.04, random_state=42)</pre></div></div></div></div></div></div></div>"
      ],
      "text/plain": [
       "Pipeline(steps=[('columntransformer',\n",
       "                 ColumnTransformer(remainder=StandardScaler(),\n",
       "                                   transformers=[('cat',\n",
       "                                                  OneHotEncoder(handle_unknown='ignore',\n",
       "                                                                sparse_output=False),\n",
       "                                                  <sklearn.compose._column_transformer.make_column_selector object at 0x16c6761a0>),\n",
       "                                                 ('log',\n",
       "                                                  Pipeline(steps=[('functiontransformer',\n",
       "                                                                   FunctionTransformer(feature_names_out='one-to-one',\n",
       "                                                                                       func=<ufunc 'log'>)),\n",
       "                                                                  ('standardscaler',\n",
       "                                                                   StandardScaler())]),\n",
       "                                                  ['CAge'])],\n",
       "                                   verbose_feature_names_out=False)),\n",
       "                ('decisiontreeclassifier',\n",
       "                 DecisionTreeClassifier(min_samples_leaf=0.04,\n",
       "                                        random_state=42))])"
      ]
     },
     "execution_count": 26,
     "metadata": {},
     "output_type": "execute_result"
    }
   ],
   "source": [
    "#create a Decision Tree classifier object, note that we arbitrarily select min_samples_leaf as 0.04 for now\n",
    "clf_tree = make_pipeline(preprocessing, DecisionTreeClassifier(min_samples_leaf=0.04, random_state=SEED))\n",
    "#train the model\n",
    "clf_tree.fit(X_train, y_train)"
   ]
  },
  {
   "cell_type": "code",
   "execution_count": 27,
   "id": "3cbcf2c1",
   "metadata": {},
   "outputs": [
    {
     "data": {
      "text/html": [
       "<style>#sk-container-id-2 {color: black;background-color: white;}#sk-container-id-2 pre{padding: 0;}#sk-container-id-2 div.sk-toggleable {background-color: white;}#sk-container-id-2 label.sk-toggleable__label {cursor: pointer;display: block;width: 100%;margin-bottom: 0;padding: 0.3em;box-sizing: border-box;text-align: center;}#sk-container-id-2 label.sk-toggleable__label-arrow:before {content: \"▸\";float: left;margin-right: 0.25em;color: #696969;}#sk-container-id-2 label.sk-toggleable__label-arrow:hover:before {color: black;}#sk-container-id-2 div.sk-estimator:hover label.sk-toggleable__label-arrow:before {color: black;}#sk-container-id-2 div.sk-toggleable__content {max-height: 0;max-width: 0;overflow: hidden;text-align: left;background-color: #f0f8ff;}#sk-container-id-2 div.sk-toggleable__content pre {margin: 0.2em;color: black;border-radius: 0.25em;background-color: #f0f8ff;}#sk-container-id-2 input.sk-toggleable__control:checked~div.sk-toggleable__content {max-height: 200px;max-width: 100%;overflow: auto;}#sk-container-id-2 input.sk-toggleable__control:checked~label.sk-toggleable__label-arrow:before {content: \"▾\";}#sk-container-id-2 div.sk-estimator input.sk-toggleable__control:checked~label.sk-toggleable__label {background-color: #d4ebff;}#sk-container-id-2 div.sk-label input.sk-toggleable__control:checked~label.sk-toggleable__label {background-color: #d4ebff;}#sk-container-id-2 input.sk-hidden--visually {border: 0;clip: rect(1px 1px 1px 1px);clip: rect(1px, 1px, 1px, 1px);height: 1px;margin: -1px;overflow: hidden;padding: 0;position: absolute;width: 1px;}#sk-container-id-2 div.sk-estimator {font-family: monospace;background-color: #f0f8ff;border: 1px dotted black;border-radius: 0.25em;box-sizing: border-box;margin-bottom: 0.5em;}#sk-container-id-2 div.sk-estimator:hover {background-color: #d4ebff;}#sk-container-id-2 div.sk-parallel-item::after {content: \"\";width: 100%;border-bottom: 1px solid gray;flex-grow: 1;}#sk-container-id-2 div.sk-label:hover label.sk-toggleable__label {background-color: #d4ebff;}#sk-container-id-2 div.sk-serial::before {content: \"\";position: absolute;border-left: 1px solid gray;box-sizing: border-box;top: 0;bottom: 0;left: 50%;z-index: 0;}#sk-container-id-2 div.sk-serial {display: flex;flex-direction: column;align-items: center;background-color: white;padding-right: 0.2em;padding-left: 0.2em;position: relative;}#sk-container-id-2 div.sk-item {position: relative;z-index: 1;}#sk-container-id-2 div.sk-parallel {display: flex;align-items: stretch;justify-content: center;background-color: white;position: relative;}#sk-container-id-2 div.sk-item::before, #sk-container-id-2 div.sk-parallel-item::before {content: \"\";position: absolute;border-left: 1px solid gray;box-sizing: border-box;top: 0;bottom: 0;left: 50%;z-index: -1;}#sk-container-id-2 div.sk-parallel-item {display: flex;flex-direction: column;z-index: 1;position: relative;background-color: white;}#sk-container-id-2 div.sk-parallel-item:first-child::after {align-self: flex-end;width: 50%;}#sk-container-id-2 div.sk-parallel-item:last-child::after {align-self: flex-start;width: 50%;}#sk-container-id-2 div.sk-parallel-item:only-child::after {width: 0;}#sk-container-id-2 div.sk-dashed-wrapped {border: 1px dashed gray;margin: 0 0.4em 0.5em 0.4em;box-sizing: border-box;padding-bottom: 0.4em;background-color: white;}#sk-container-id-2 div.sk-label label {font-family: monospace;font-weight: bold;display: inline-block;line-height: 1.2em;}#sk-container-id-2 div.sk-label-container {text-align: center;}#sk-container-id-2 div.sk-container {/* jupyter's `normalize.less` sets `[hidden] { display: none; }` but bootstrap.min.css set `[hidden] { display: none !important; }` so we also need the `!important` here to be able to override the default hidden behavior on the sphinx rendered scikit-learn.org. See: https://github.com/scikit-learn/scikit-learn/issues/21755 */display: inline-block !important;position: relative;}#sk-container-id-2 div.sk-text-repr-fallback {display: none;}</style><div id=\"sk-container-id-2\" class=\"sk-top-container\"><div class=\"sk-text-repr-fallback\"><pre>Pipeline(steps=[(&#x27;columntransformer&#x27;,\n",
       "                 ColumnTransformer(remainder=StandardScaler(),\n",
       "                                   transformers=[(&#x27;cat&#x27;,\n",
       "                                                  OneHotEncoder(handle_unknown=&#x27;ignore&#x27;,\n",
       "                                                                sparse_output=False),\n",
       "                                                  &lt;sklearn.compose._column_transformer.make_column_selector object at 0x16c6761a0&gt;),\n",
       "                                                 (&#x27;log&#x27;,\n",
       "                                                  Pipeline(steps=[(&#x27;functiontransformer&#x27;,\n",
       "                                                                   FunctionTransformer(feature_names_out=&#x27;one-to-one&#x27;,\n",
       "                                                                                       func=&lt;ufunc &#x27;log&#x27;&gt;)),\n",
       "                                                                  (&#x27;standardscaler&#x27;,\n",
       "                                                                   StandardScaler())]),\n",
       "                                                  [&#x27;CAge&#x27;])],\n",
       "                                   verbose_feature_names_out=False)),\n",
       "                (&#x27;kneighborsclassifier&#x27;, KNeighborsClassifier())])</pre><b>In a Jupyter environment, please rerun this cell to show the HTML representation or trust the notebook. <br />On GitHub, the HTML representation is unable to render, please try loading this page with nbviewer.org.</b></div><div class=\"sk-container\" hidden><div class=\"sk-item sk-dashed-wrapped\"><div class=\"sk-label-container\"><div class=\"sk-label sk-toggleable\"><input class=\"sk-toggleable__control sk-hidden--visually\" id=\"sk-estimator-id-11\" type=\"checkbox\" ><label for=\"sk-estimator-id-11\" class=\"sk-toggleable__label sk-toggleable__label-arrow\">Pipeline</label><div class=\"sk-toggleable__content\"><pre>Pipeline(steps=[(&#x27;columntransformer&#x27;,\n",
       "                 ColumnTransformer(remainder=StandardScaler(),\n",
       "                                   transformers=[(&#x27;cat&#x27;,\n",
       "                                                  OneHotEncoder(handle_unknown=&#x27;ignore&#x27;,\n",
       "                                                                sparse_output=False),\n",
       "                                                  &lt;sklearn.compose._column_transformer.make_column_selector object at 0x16c6761a0&gt;),\n",
       "                                                 (&#x27;log&#x27;,\n",
       "                                                  Pipeline(steps=[(&#x27;functiontransformer&#x27;,\n",
       "                                                                   FunctionTransformer(feature_names_out=&#x27;one-to-one&#x27;,\n",
       "                                                                                       func=&lt;ufunc &#x27;log&#x27;&gt;)),\n",
       "                                                                  (&#x27;standardscaler&#x27;,\n",
       "                                                                   StandardScaler())]),\n",
       "                                                  [&#x27;CAge&#x27;])],\n",
       "                                   verbose_feature_names_out=False)),\n",
       "                (&#x27;kneighborsclassifier&#x27;, KNeighborsClassifier())])</pre></div></div></div><div class=\"sk-serial\"><div class=\"sk-item sk-dashed-wrapped\"><div class=\"sk-label-container\"><div class=\"sk-label sk-toggleable\"><input class=\"sk-toggleable__control sk-hidden--visually\" id=\"sk-estimator-id-12\" type=\"checkbox\" ><label for=\"sk-estimator-id-12\" class=\"sk-toggleable__label sk-toggleable__label-arrow\">columntransformer: ColumnTransformer</label><div class=\"sk-toggleable__content\"><pre>ColumnTransformer(remainder=StandardScaler(),\n",
       "                  transformers=[(&#x27;cat&#x27;,\n",
       "                                 OneHotEncoder(handle_unknown=&#x27;ignore&#x27;,\n",
       "                                               sparse_output=False),\n",
       "                                 &lt;sklearn.compose._column_transformer.make_column_selector object at 0x16c6761a0&gt;),\n",
       "                                (&#x27;log&#x27;,\n",
       "                                 Pipeline(steps=[(&#x27;functiontransformer&#x27;,\n",
       "                                                  FunctionTransformer(feature_names_out=&#x27;one-to-one&#x27;,\n",
       "                                                                      func=&lt;ufunc &#x27;log&#x27;&gt;)),\n",
       "                                                 (&#x27;standardscaler&#x27;,\n",
       "                                                  StandardScaler())]),\n",
       "                                 [&#x27;CAge&#x27;])],\n",
       "                  verbose_feature_names_out=False)</pre></div></div></div><div class=\"sk-parallel\"><div class=\"sk-parallel-item\"><div class=\"sk-item\"><div class=\"sk-label-container\"><div class=\"sk-label sk-toggleable\"><input class=\"sk-toggleable__control sk-hidden--visually\" id=\"sk-estimator-id-13\" type=\"checkbox\" ><label for=\"sk-estimator-id-13\" class=\"sk-toggleable__label sk-toggleable__label-arrow\">cat</label><div class=\"sk-toggleable__content\"><pre>&lt;sklearn.compose._column_transformer.make_column_selector object at 0x16c6761a0&gt;</pre></div></div></div><div class=\"sk-serial\"><div class=\"sk-item\"><div class=\"sk-estimator sk-toggleable\"><input class=\"sk-toggleable__control sk-hidden--visually\" id=\"sk-estimator-id-14\" type=\"checkbox\" ><label for=\"sk-estimator-id-14\" class=\"sk-toggleable__label sk-toggleable__label-arrow\">OneHotEncoder</label><div class=\"sk-toggleable__content\"><pre>OneHotEncoder(handle_unknown=&#x27;ignore&#x27;, sparse_output=False)</pre></div></div></div></div></div></div><div class=\"sk-parallel-item\"><div class=\"sk-item\"><div class=\"sk-label-container\"><div class=\"sk-label sk-toggleable\"><input class=\"sk-toggleable__control sk-hidden--visually\" id=\"sk-estimator-id-15\" type=\"checkbox\" ><label for=\"sk-estimator-id-15\" class=\"sk-toggleable__label sk-toggleable__label-arrow\">log</label><div class=\"sk-toggleable__content\"><pre>[&#x27;CAge&#x27;]</pre></div></div></div><div class=\"sk-serial\"><div class=\"sk-item\"><div class=\"sk-serial\"><div class=\"sk-item\"><div class=\"sk-estimator sk-toggleable\"><input class=\"sk-toggleable__control sk-hidden--visually\" id=\"sk-estimator-id-16\" type=\"checkbox\" ><label for=\"sk-estimator-id-16\" class=\"sk-toggleable__label sk-toggleable__label-arrow\">FunctionTransformer</label><div class=\"sk-toggleable__content\"><pre>FunctionTransformer(feature_names_out=&#x27;one-to-one&#x27;, func=&lt;ufunc &#x27;log&#x27;&gt;)</pre></div></div></div><div class=\"sk-item\"><div class=\"sk-estimator sk-toggleable\"><input class=\"sk-toggleable__control sk-hidden--visually\" id=\"sk-estimator-id-17\" type=\"checkbox\" ><label for=\"sk-estimator-id-17\" class=\"sk-toggleable__label sk-toggleable__label-arrow\">StandardScaler</label><div class=\"sk-toggleable__content\"><pre>StandardScaler()</pre></div></div></div></div></div></div></div></div><div class=\"sk-parallel-item\"><div class=\"sk-item\"><div class=\"sk-label-container\"><div class=\"sk-label sk-toggleable\"><input class=\"sk-toggleable__control sk-hidden--visually\" id=\"sk-estimator-id-18\" type=\"checkbox\" ><label for=\"sk-estimator-id-18\" class=\"sk-toggleable__label sk-toggleable__label-arrow\">remainder</label><div class=\"sk-toggleable__content\"><pre>[&#x27;CCreditScore&#x27;, &#x27;CTenure&#x27;, &#x27;CBalance&#x27;, &#x27;CNumOfProducts&#x27;, &#x27;CEstimatedSalary&#x27;]</pre></div></div></div><div class=\"sk-serial\"><div class=\"sk-item\"><div class=\"sk-estimator sk-toggleable\"><input class=\"sk-toggleable__control sk-hidden--visually\" id=\"sk-estimator-id-19\" type=\"checkbox\" ><label for=\"sk-estimator-id-19\" class=\"sk-toggleable__label sk-toggleable__label-arrow\">StandardScaler</label><div class=\"sk-toggleable__content\"><pre>StandardScaler()</pre></div></div></div></div></div></div></div></div><div class=\"sk-item\"><div class=\"sk-estimator sk-toggleable\"><input class=\"sk-toggleable__control sk-hidden--visually\" id=\"sk-estimator-id-20\" type=\"checkbox\" ><label for=\"sk-estimator-id-20\" class=\"sk-toggleable__label sk-toggleable__label-arrow\">KNeighborsClassifier</label><div class=\"sk-toggleable__content\"><pre>KNeighborsClassifier()</pre></div></div></div></div></div></div></div>"
      ],
      "text/plain": [
       "Pipeline(steps=[('columntransformer',\n",
       "                 ColumnTransformer(remainder=StandardScaler(),\n",
       "                                   transformers=[('cat',\n",
       "                                                  OneHotEncoder(handle_unknown='ignore',\n",
       "                                                                sparse_output=False),\n",
       "                                                  <sklearn.compose._column_transformer.make_column_selector object at 0x16c6761a0>),\n",
       "                                                 ('log',\n",
       "                                                  Pipeline(steps=[('functiontransformer',\n",
       "                                                                   FunctionTransformer(feature_names_out='one-to-one',\n",
       "                                                                                       func=<ufunc 'log'>)),\n",
       "                                                                  ('standardscaler',\n",
       "                                                                   StandardScaler())]),\n",
       "                                                  ['CAge'])],\n",
       "                                   verbose_feature_names_out=False)),\n",
       "                ('kneighborsclassifier', KNeighborsClassifier())])"
      ]
     },
     "execution_count": 27,
     "metadata": {},
     "output_type": "execute_result"
    }
   ],
   "source": [
    "#create a KNN classifier object, note that we arbitrarily select n_neighbors as 5 for now\n",
    "clf_knn = make_pipeline(preprocessing, KNeighborsClassifier(n_neighbors=5))\n",
    "#train the model\n",
    "clf_knn.fit(X_train, y_train)"
   ]
  },
  {
   "cell_type": "code",
   "execution_count": 28,
   "id": "45c434c8",
   "metadata": {},
   "outputs": [
    {
     "data": {
      "text/html": [
       "<style>#sk-container-id-3 {color: black;background-color: white;}#sk-container-id-3 pre{padding: 0;}#sk-container-id-3 div.sk-toggleable {background-color: white;}#sk-container-id-3 label.sk-toggleable__label {cursor: pointer;display: block;width: 100%;margin-bottom: 0;padding: 0.3em;box-sizing: border-box;text-align: center;}#sk-container-id-3 label.sk-toggleable__label-arrow:before {content: \"▸\";float: left;margin-right: 0.25em;color: #696969;}#sk-container-id-3 label.sk-toggleable__label-arrow:hover:before {color: black;}#sk-container-id-3 div.sk-estimator:hover label.sk-toggleable__label-arrow:before {color: black;}#sk-container-id-3 div.sk-toggleable__content {max-height: 0;max-width: 0;overflow: hidden;text-align: left;background-color: #f0f8ff;}#sk-container-id-3 div.sk-toggleable__content pre {margin: 0.2em;color: black;border-radius: 0.25em;background-color: #f0f8ff;}#sk-container-id-3 input.sk-toggleable__control:checked~div.sk-toggleable__content {max-height: 200px;max-width: 100%;overflow: auto;}#sk-container-id-3 input.sk-toggleable__control:checked~label.sk-toggleable__label-arrow:before {content: \"▾\";}#sk-container-id-3 div.sk-estimator input.sk-toggleable__control:checked~label.sk-toggleable__label {background-color: #d4ebff;}#sk-container-id-3 div.sk-label input.sk-toggleable__control:checked~label.sk-toggleable__label {background-color: #d4ebff;}#sk-container-id-3 input.sk-hidden--visually {border: 0;clip: rect(1px 1px 1px 1px);clip: rect(1px, 1px, 1px, 1px);height: 1px;margin: -1px;overflow: hidden;padding: 0;position: absolute;width: 1px;}#sk-container-id-3 div.sk-estimator {font-family: monospace;background-color: #f0f8ff;border: 1px dotted black;border-radius: 0.25em;box-sizing: border-box;margin-bottom: 0.5em;}#sk-container-id-3 div.sk-estimator:hover {background-color: #d4ebff;}#sk-container-id-3 div.sk-parallel-item::after {content: \"\";width: 100%;border-bottom: 1px solid gray;flex-grow: 1;}#sk-container-id-3 div.sk-label:hover label.sk-toggleable__label {background-color: #d4ebff;}#sk-container-id-3 div.sk-serial::before {content: \"\";position: absolute;border-left: 1px solid gray;box-sizing: border-box;top: 0;bottom: 0;left: 50%;z-index: 0;}#sk-container-id-3 div.sk-serial {display: flex;flex-direction: column;align-items: center;background-color: white;padding-right: 0.2em;padding-left: 0.2em;position: relative;}#sk-container-id-3 div.sk-item {position: relative;z-index: 1;}#sk-container-id-3 div.sk-parallel {display: flex;align-items: stretch;justify-content: center;background-color: white;position: relative;}#sk-container-id-3 div.sk-item::before, #sk-container-id-3 div.sk-parallel-item::before {content: \"\";position: absolute;border-left: 1px solid gray;box-sizing: border-box;top: 0;bottom: 0;left: 50%;z-index: -1;}#sk-container-id-3 div.sk-parallel-item {display: flex;flex-direction: column;z-index: 1;position: relative;background-color: white;}#sk-container-id-3 div.sk-parallel-item:first-child::after {align-self: flex-end;width: 50%;}#sk-container-id-3 div.sk-parallel-item:last-child::after {align-self: flex-start;width: 50%;}#sk-container-id-3 div.sk-parallel-item:only-child::after {width: 0;}#sk-container-id-3 div.sk-dashed-wrapped {border: 1px dashed gray;margin: 0 0.4em 0.5em 0.4em;box-sizing: border-box;padding-bottom: 0.4em;background-color: white;}#sk-container-id-3 div.sk-label label {font-family: monospace;font-weight: bold;display: inline-block;line-height: 1.2em;}#sk-container-id-3 div.sk-label-container {text-align: center;}#sk-container-id-3 div.sk-container {/* jupyter's `normalize.less` sets `[hidden] { display: none; }` but bootstrap.min.css set `[hidden] { display: none !important; }` so we also need the `!important` here to be able to override the default hidden behavior on the sphinx rendered scikit-learn.org. See: https://github.com/scikit-learn/scikit-learn/issues/21755 */display: inline-block !important;position: relative;}#sk-container-id-3 div.sk-text-repr-fallback {display: none;}</style><div id=\"sk-container-id-3\" class=\"sk-top-container\"><div class=\"sk-text-repr-fallback\"><pre>Pipeline(steps=[(&#x27;columntransformer&#x27;,\n",
       "                 ColumnTransformer(remainder=StandardScaler(),\n",
       "                                   transformers=[(&#x27;cat&#x27;,\n",
       "                                                  OneHotEncoder(handle_unknown=&#x27;ignore&#x27;,\n",
       "                                                                sparse_output=False),\n",
       "                                                  &lt;sklearn.compose._column_transformer.make_column_selector object at 0x16c6761a0&gt;),\n",
       "                                                 (&#x27;log&#x27;,\n",
       "                                                  Pipeline(steps=[(&#x27;functiontransformer&#x27;,\n",
       "                                                                   FunctionTransformer(feature_names_out=&#x27;one-to-one&#x27;,\n",
       "                                                                                       func=&lt;ufunc &#x27;log&#x27;&gt;)),\n",
       "                                                                  (&#x27;standardscaler&#x27;,\n",
       "                                                                   StandardScaler())]),\n",
       "                                                  [&#x27;CAge&#x27;])],\n",
       "                                   verbose_feature_names_out=False)),\n",
       "                (&#x27;gaussiannb&#x27;, GaussianNB())])</pre><b>In a Jupyter environment, please rerun this cell to show the HTML representation or trust the notebook. <br />On GitHub, the HTML representation is unable to render, please try loading this page with nbviewer.org.</b></div><div class=\"sk-container\" hidden><div class=\"sk-item sk-dashed-wrapped\"><div class=\"sk-label-container\"><div class=\"sk-label sk-toggleable\"><input class=\"sk-toggleable__control sk-hidden--visually\" id=\"sk-estimator-id-21\" type=\"checkbox\" ><label for=\"sk-estimator-id-21\" class=\"sk-toggleable__label sk-toggleable__label-arrow\">Pipeline</label><div class=\"sk-toggleable__content\"><pre>Pipeline(steps=[(&#x27;columntransformer&#x27;,\n",
       "                 ColumnTransformer(remainder=StandardScaler(),\n",
       "                                   transformers=[(&#x27;cat&#x27;,\n",
       "                                                  OneHotEncoder(handle_unknown=&#x27;ignore&#x27;,\n",
       "                                                                sparse_output=False),\n",
       "                                                  &lt;sklearn.compose._column_transformer.make_column_selector object at 0x16c6761a0&gt;),\n",
       "                                                 (&#x27;log&#x27;,\n",
       "                                                  Pipeline(steps=[(&#x27;functiontransformer&#x27;,\n",
       "                                                                   FunctionTransformer(feature_names_out=&#x27;one-to-one&#x27;,\n",
       "                                                                                       func=&lt;ufunc &#x27;log&#x27;&gt;)),\n",
       "                                                                  (&#x27;standardscaler&#x27;,\n",
       "                                                                   StandardScaler())]),\n",
       "                                                  [&#x27;CAge&#x27;])],\n",
       "                                   verbose_feature_names_out=False)),\n",
       "                (&#x27;gaussiannb&#x27;, GaussianNB())])</pre></div></div></div><div class=\"sk-serial\"><div class=\"sk-item sk-dashed-wrapped\"><div class=\"sk-label-container\"><div class=\"sk-label sk-toggleable\"><input class=\"sk-toggleable__control sk-hidden--visually\" id=\"sk-estimator-id-22\" type=\"checkbox\" ><label for=\"sk-estimator-id-22\" class=\"sk-toggleable__label sk-toggleable__label-arrow\">columntransformer: ColumnTransformer</label><div class=\"sk-toggleable__content\"><pre>ColumnTransformer(remainder=StandardScaler(),\n",
       "                  transformers=[(&#x27;cat&#x27;,\n",
       "                                 OneHotEncoder(handle_unknown=&#x27;ignore&#x27;,\n",
       "                                               sparse_output=False),\n",
       "                                 &lt;sklearn.compose._column_transformer.make_column_selector object at 0x16c6761a0&gt;),\n",
       "                                (&#x27;log&#x27;,\n",
       "                                 Pipeline(steps=[(&#x27;functiontransformer&#x27;,\n",
       "                                                  FunctionTransformer(feature_names_out=&#x27;one-to-one&#x27;,\n",
       "                                                                      func=&lt;ufunc &#x27;log&#x27;&gt;)),\n",
       "                                                 (&#x27;standardscaler&#x27;,\n",
       "                                                  StandardScaler())]),\n",
       "                                 [&#x27;CAge&#x27;])],\n",
       "                  verbose_feature_names_out=False)</pre></div></div></div><div class=\"sk-parallel\"><div class=\"sk-parallel-item\"><div class=\"sk-item\"><div class=\"sk-label-container\"><div class=\"sk-label sk-toggleable\"><input class=\"sk-toggleable__control sk-hidden--visually\" id=\"sk-estimator-id-23\" type=\"checkbox\" ><label for=\"sk-estimator-id-23\" class=\"sk-toggleable__label sk-toggleable__label-arrow\">cat</label><div class=\"sk-toggleable__content\"><pre>&lt;sklearn.compose._column_transformer.make_column_selector object at 0x16c6761a0&gt;</pre></div></div></div><div class=\"sk-serial\"><div class=\"sk-item\"><div class=\"sk-estimator sk-toggleable\"><input class=\"sk-toggleable__control sk-hidden--visually\" id=\"sk-estimator-id-24\" type=\"checkbox\" ><label for=\"sk-estimator-id-24\" class=\"sk-toggleable__label sk-toggleable__label-arrow\">OneHotEncoder</label><div class=\"sk-toggleable__content\"><pre>OneHotEncoder(handle_unknown=&#x27;ignore&#x27;, sparse_output=False)</pre></div></div></div></div></div></div><div class=\"sk-parallel-item\"><div class=\"sk-item\"><div class=\"sk-label-container\"><div class=\"sk-label sk-toggleable\"><input class=\"sk-toggleable__control sk-hidden--visually\" id=\"sk-estimator-id-25\" type=\"checkbox\" ><label for=\"sk-estimator-id-25\" class=\"sk-toggleable__label sk-toggleable__label-arrow\">log</label><div class=\"sk-toggleable__content\"><pre>[&#x27;CAge&#x27;]</pre></div></div></div><div class=\"sk-serial\"><div class=\"sk-item\"><div class=\"sk-serial\"><div class=\"sk-item\"><div class=\"sk-estimator sk-toggleable\"><input class=\"sk-toggleable__control sk-hidden--visually\" id=\"sk-estimator-id-26\" type=\"checkbox\" ><label for=\"sk-estimator-id-26\" class=\"sk-toggleable__label sk-toggleable__label-arrow\">FunctionTransformer</label><div class=\"sk-toggleable__content\"><pre>FunctionTransformer(feature_names_out=&#x27;one-to-one&#x27;, func=&lt;ufunc &#x27;log&#x27;&gt;)</pre></div></div></div><div class=\"sk-item\"><div class=\"sk-estimator sk-toggleable\"><input class=\"sk-toggleable__control sk-hidden--visually\" id=\"sk-estimator-id-27\" type=\"checkbox\" ><label for=\"sk-estimator-id-27\" class=\"sk-toggleable__label sk-toggleable__label-arrow\">StandardScaler</label><div class=\"sk-toggleable__content\"><pre>StandardScaler()</pre></div></div></div></div></div></div></div></div><div class=\"sk-parallel-item\"><div class=\"sk-item\"><div class=\"sk-label-container\"><div class=\"sk-label sk-toggleable\"><input class=\"sk-toggleable__control sk-hidden--visually\" id=\"sk-estimator-id-28\" type=\"checkbox\" ><label for=\"sk-estimator-id-28\" class=\"sk-toggleable__label sk-toggleable__label-arrow\">remainder</label><div class=\"sk-toggleable__content\"><pre>[&#x27;CCreditScore&#x27;, &#x27;CTenure&#x27;, &#x27;CBalance&#x27;, &#x27;CNumOfProducts&#x27;, &#x27;CEstimatedSalary&#x27;]</pre></div></div></div><div class=\"sk-serial\"><div class=\"sk-item\"><div class=\"sk-estimator sk-toggleable\"><input class=\"sk-toggleable__control sk-hidden--visually\" id=\"sk-estimator-id-29\" type=\"checkbox\" ><label for=\"sk-estimator-id-29\" class=\"sk-toggleable__label sk-toggleable__label-arrow\">StandardScaler</label><div class=\"sk-toggleable__content\"><pre>StandardScaler()</pre></div></div></div></div></div></div></div></div><div class=\"sk-item\"><div class=\"sk-estimator sk-toggleable\"><input class=\"sk-toggleable__control sk-hidden--visually\" id=\"sk-estimator-id-30\" type=\"checkbox\" ><label for=\"sk-estimator-id-30\" class=\"sk-toggleable__label sk-toggleable__label-arrow\">GaussianNB</label><div class=\"sk-toggleable__content\"><pre>GaussianNB()</pre></div></div></div></div></div></div></div>"
      ],
      "text/plain": [
       "Pipeline(steps=[('columntransformer',\n",
       "                 ColumnTransformer(remainder=StandardScaler(),\n",
       "                                   transformers=[('cat',\n",
       "                                                  OneHotEncoder(handle_unknown='ignore',\n",
       "                                                                sparse_output=False),\n",
       "                                                  <sklearn.compose._column_transformer.make_column_selector object at 0x16c6761a0>),\n",
       "                                                 ('log',\n",
       "                                                  Pipeline(steps=[('functiontransformer',\n",
       "                                                                   FunctionTransformer(feature_names_out='one-to-one',\n",
       "                                                                                       func=<ufunc 'log'>)),\n",
       "                                                                  ('standardscaler',\n",
       "                                                                   StandardScaler())]),\n",
       "                                                  ['CAge'])],\n",
       "                                   verbose_feature_names_out=False)),\n",
       "                ('gaussiannb', GaussianNB())])"
      ]
     },
     "execution_count": 28,
     "metadata": {},
     "output_type": "execute_result"
    }
   ],
   "source": [
    "#create a Gaussian Classifier\n",
    "clf_gnb = make_pipeline(preprocessing, GaussianNB())\n",
    "#train the model\n",
    "clf_gnb.fit(X_train, y_train)"
   ]
  },
  {
   "cell_type": "markdown",
   "id": "0b49fcd3",
   "metadata": {},
   "source": [
    "#### Evaluate the 3 models on both training data and validation data\n",
    "We calculate accuracy, precision, recall, f1 and auc score of the trained model on the whole training data and also conduct 5-fold cross-validation to calculate the respective evaluation metrics by specifying the \"scoring\" parameter, and display the metrics together. We will create a function to output a dictionary of metrics:"
   ]
  },
  {
   "cell_type": "code",
   "execution_count": 29,
   "id": "af313d3d",
   "metadata": {},
   "outputs": [],
   "source": [
    "def get_metrics(model, y_pred):\n",
    "    '''\n",
    "    output a dictionary containing the model's performance metrics\n",
    "    on the entire training set and of a 5-fold cross-validation\n",
    "    by inputting the model and the predicted labels on the train dataset\n",
    "    '''\n",
    "    metrics = {\n",
    "        'accuracy_train' : accuracy_score(y_train, y_pred),\n",
    "        'accuracy_valid' : cross_val_score(model, X_train, y_train, cv=5, n_jobs=-1, scoring='accuracy').mean(),\n",
    "        'precision_train' : precision_score(y_train, y_pred),\n",
    "        'precision_valid' : cross_val_score(model, X_train, y_train, cv=5, n_jobs=-1, scoring='precision').mean(),\n",
    "        'recall_train' : recall_score(y_train, y_pred),\n",
    "        'recall_valid' : cross_val_score(model, X_train, y_train, cv=5, n_jobs=-1, scoring='recall').mean(),\n",
    "        'f1_train' : f1_score(y_train, y_pred),\n",
    "        'f1_valid' : cross_val_score(model, X_train, y_train, cv=5, n_jobs=-1, scoring='f1').mean(),\n",
    "        'auc_train': roc_auc_score(y_train, y_pred),\n",
    "        'auc_valid': cross_val_score(model, X_train, y_train, cv=5, n_jobs=-1, scoring='roc_auc').mean(),\n",
    "    }\n",
    "    \n",
    "    return metrics"
   ]
  },
  {
   "cell_type": "code",
   "execution_count": 30,
   "id": "bb4858df",
   "metadata": {},
   "outputs": [],
   "source": [
    "#evaluate the decision tree model\n",
    "#predict the label for train dataset\n",
    "y_pred_train_tree = clf_tree.predict(X_train)\n",
    "\n",
    "# Calculate model accuracy, precision, recall, f1 and roc_auc score of decision tree\n",
    "metrics_tree = pd.DataFrame(pd.Series(get_metrics(clf_tree, y_pred_train_tree)), columns=['metrics tree'])"
   ]
  },
  {
   "cell_type": "code",
   "execution_count": 31,
   "id": "6de0022d",
   "metadata": {},
   "outputs": [
    {
     "data": {
      "text/html": [
       "<div>\n",
       "<style scoped>\n",
       "    .dataframe tbody tr th:only-of-type {\n",
       "        vertical-align: middle;\n",
       "    }\n",
       "\n",
       "    .dataframe tbody tr th {\n",
       "        vertical-align: top;\n",
       "    }\n",
       "\n",
       "    .dataframe thead th {\n",
       "        text-align: right;\n",
       "    }\n",
       "</style>\n",
       "<table border=\"1\" class=\"dataframe\">\n",
       "  <thead>\n",
       "    <tr style=\"text-align: right;\">\n",
       "      <th></th>\n",
       "      <th>metrics tree</th>\n",
       "    </tr>\n",
       "  </thead>\n",
       "  <tbody>\n",
       "    <tr>\n",
       "      <th>accuracy_train</th>\n",
       "      <td>0.822660</td>\n",
       "    </tr>\n",
       "    <tr>\n",
       "      <th>accuracy_valid</th>\n",
       "      <td>0.822661</td>\n",
       "    </tr>\n",
       "    <tr>\n",
       "      <th>precision_train</th>\n",
       "      <td>0.636020</td>\n",
       "    </tr>\n",
       "    <tr>\n",
       "      <th>precision_valid</th>\n",
       "      <td>0.692462</td>\n",
       "    </tr>\n",
       "    <tr>\n",
       "      <th>recall_train</th>\n",
       "      <td>0.359687</td>\n",
       "    </tr>\n",
       "    <tr>\n",
       "      <th>recall_valid</th>\n",
       "      <td>0.286360</td>\n",
       "    </tr>\n",
       "    <tr>\n",
       "      <th>f1_train</th>\n",
       "      <td>0.459509</td>\n",
       "    </tr>\n",
       "    <tr>\n",
       "      <th>f1_valid</th>\n",
       "      <td>0.397881</td>\n",
       "    </tr>\n",
       "    <tr>\n",
       "      <th>auc_train</th>\n",
       "      <td>0.652553</td>\n",
       "    </tr>\n",
       "    <tr>\n",
       "      <th>auc_valid</th>\n",
       "      <td>0.793315</td>\n",
       "    </tr>\n",
       "  </tbody>\n",
       "</table>\n",
       "</div>"
      ],
      "text/plain": [
       "                 metrics tree\n",
       "accuracy_train       0.822660\n",
       "accuracy_valid       0.822661\n",
       "precision_train      0.636020\n",
       "precision_valid      0.692462\n",
       "recall_train         0.359687\n",
       "recall_valid         0.286360\n",
       "f1_train             0.459509\n",
       "f1_valid             0.397881\n",
       "auc_train            0.652553\n",
       "auc_valid            0.793315"
      ]
     },
     "execution_count": 31,
     "metadata": {},
     "output_type": "execute_result"
    }
   ],
   "source": [
    "metrics_tree"
   ]
  },
  {
   "cell_type": "code",
   "execution_count": 32,
   "id": "aded76cd",
   "metadata": {},
   "outputs": [],
   "source": [
    "#evaluate the knn model\n",
    "# Predict the label for train dataset\n",
    "y_pred_train_knn = clf_knn.predict(X_train)\n",
    "\n",
    "# Calculate performance metrics of knn\n",
    "metrics_knn = pd.DataFrame(pd.Series(get_metrics(clf_knn, y_pred_train_knn)), columns=['metrics knn'])"
   ]
  },
  {
   "cell_type": "code",
   "execution_count": 33,
   "id": "b26d1877",
   "metadata": {},
   "outputs": [],
   "source": [
    "#evaluate the naive bayes model\n",
    "# Predict the label for train dataset\n",
    "y_pred_train_gnb = clf_gnb.predict(X_train)\n",
    "\n",
    "# Calculate performance metrics of naive bayes\n",
    "metrics_gnb = pd.DataFrame(pd.Series(get_metrics(clf_gnb, y_pred_train_gnb)), columns=['metrics gnb'])"
   ]
  },
  {
   "cell_type": "code",
   "execution_count": 34,
   "id": "168d6f95",
   "metadata": {},
   "outputs": [
    {
     "data": {
      "text/html": [
       "<div>\n",
       "<style scoped>\n",
       "    .dataframe tbody tr th:only-of-type {\n",
       "        vertical-align: middle;\n",
       "    }\n",
       "\n",
       "    .dataframe tbody tr th {\n",
       "        vertical-align: top;\n",
       "    }\n",
       "\n",
       "    .dataframe thead th {\n",
       "        text-align: right;\n",
       "    }\n",
       "</style>\n",
       "<table border=\"1\" class=\"dataframe\">\n",
       "  <thead>\n",
       "    <tr style=\"text-align: right;\">\n",
       "      <th></th>\n",
       "      <th>metrics tree</th>\n",
       "      <th>metrics knn</th>\n",
       "      <th>metrics gnb</th>\n",
       "    </tr>\n",
       "  </thead>\n",
       "  <tbody>\n",
       "    <tr>\n",
       "      <th>accuracy_train</th>\n",
       "      <td>0.822660</td>\n",
       "      <td>0.871772</td>\n",
       "      <td>0.811315</td>\n",
       "    </tr>\n",
       "    <tr>\n",
       "      <th>accuracy_valid</th>\n",
       "      <td>0.822661</td>\n",
       "      <td>0.825496</td>\n",
       "      <td>0.811165</td>\n",
       "    </tr>\n",
       "    <tr>\n",
       "      <th>precision_train</th>\n",
       "      <td>0.636020</td>\n",
       "      <td>0.788971</td>\n",
       "      <td>0.570707</td>\n",
       "    </tr>\n",
       "    <tr>\n",
       "      <th>precision_valid</th>\n",
       "      <td>0.692462</td>\n",
       "      <td>0.632144</td>\n",
       "      <td>0.571498</td>\n",
       "    </tr>\n",
       "    <tr>\n",
       "      <th>recall_train</th>\n",
       "      <td>0.359687</td>\n",
       "      <td>0.529915</td>\n",
       "      <td>0.402422</td>\n",
       "    </tr>\n",
       "    <tr>\n",
       "      <th>recall_valid</th>\n",
       "      <td>0.286360</td>\n",
       "      <td>0.401007</td>\n",
       "      <td>0.401713</td>\n",
       "    </tr>\n",
       "    <tr>\n",
       "      <th>f1_train</th>\n",
       "      <td>0.459509</td>\n",
       "      <td>0.634001</td>\n",
       "      <td>0.472013</td>\n",
       "    </tr>\n",
       "    <tr>\n",
       "      <th>f1_valid</th>\n",
       "      <td>0.397881</td>\n",
       "      <td>0.490597</td>\n",
       "      <td>0.471333</td>\n",
       "    </tr>\n",
       "    <tr>\n",
       "      <th>auc_train</th>\n",
       "      <td>0.652553</td>\n",
       "      <td>0.746166</td>\n",
       "      <td>0.661079</td>\n",
       "    </tr>\n",
       "    <tr>\n",
       "      <th>auc_valid</th>\n",
       "      <td>0.793315</td>\n",
       "      <td>0.775113</td>\n",
       "      <td>0.789602</td>\n",
       "    </tr>\n",
       "  </tbody>\n",
       "</table>\n",
       "</div>"
      ],
      "text/plain": [
       "                 metrics tree  metrics knn  metrics gnb\n",
       "accuracy_train       0.822660     0.871772     0.811315\n",
       "accuracy_valid       0.822661     0.825496     0.811165\n",
       "precision_train      0.636020     0.788971     0.570707\n",
       "precision_valid      0.692462     0.632144     0.571498\n",
       "recall_train         0.359687     0.529915     0.402422\n",
       "recall_valid         0.286360     0.401007     0.401713\n",
       "f1_train             0.459509     0.634001     0.472013\n",
       "f1_valid             0.397881     0.490597     0.471333\n",
       "auc_train            0.652553     0.746166     0.661079\n",
       "auc_valid            0.793315     0.775113     0.789602"
      ]
     },
     "execution_count": 34,
     "metadata": {},
     "output_type": "execute_result"
    }
   ],
   "source": [
    "metrics_compare = pd.concat([metrics_tree, metrics_knn, metrics_gnb], axis=1)\n",
    "metrics_compare"
   ]
  },
  {
   "cell_type": "markdown",
   "id": "b962be76",
   "metadata": {},
   "source": [
    "Let's visualize the performance metrics of the three models:"
   ]
  },
  {
   "cell_type": "code",
   "execution_count": 35,
   "id": "7165cd08",
   "metadata": {},
   "outputs": [
    {
     "data": {
      "image/png": "[encoded data removed]",
      "text/plain": [
       "<Figure size 1600x600 with 1 Axes>"
      ]
     },
     "metadata": {},
     "output_type": "display_data"
    }
   ],
   "source": [
    "metrics_compare.plot(kind='bar', figsize=(16, 6), grid=True, fontsize=14, rot=0,\n",
    "                     title='Comparison of Performance Metrics of the 3 Models')\n",
    "plt.show()"
   ]
  },
  {
   "cell_type": "markdown",
   "id": "3343916b",
   "metadata": {},
   "source": [
    "Based on the comparison of the performance metrics of the 3 models above, we can see that both decision tree and knn outperform the naive bayes model, so we won't consider naive bayes afterwards. Although the metrics of knn seems better than that of the decision tree, knn is obviously suffering from overfitting - the metrics on the training data is far better than on the validation data. However, this may also because that we arbitrarily select n_neighbors as 5 to build knn. As follows, we will explore some different n_neighbors to see if this could improve the performance of knn and hopefully also eliminate overfitting."
   ]
  },
  {
   "cell_type": "markdown",
   "id": "282b0b05",
   "metadata": {},
   "source": [
    "We will define a function to plot the accuracy scores of knn models trained with different n_neighbors hyperparameter value. Please note that we inspect the accuracy score on the validation data by utilizing cross-validation here, we still do not touch the test set in the model selection phase, until we are confident enough to launch a model!"
   ]
  },
  {
   "cell_type": "code",
   "execution_count": 36,
   "id": "0c51eb49",
   "metadata": {},
   "outputs": [],
   "source": [
    "def elbow(n, n_jobs=-1):\n",
    "    '''\n",
    "    plot the accuracy scores of knn models trained with different n_neighbors hyperparameter value\n",
    "    '''\n",
    "    accuracy = []\n",
    "    \n",
    "    for i in range(1, n+1):\n",
    "        knn = make_pipeline(preprocessing, KNeighborsClassifier(n_neighbors=i, n_jobs=n_jobs))\n",
    "        knn.fit(X_train, y_train)\n",
    "        accuracy.append(cross_val_score(knn, X_train, y_train, cv=3, n_jobs=-1).mean())\n",
    "        \n",
    "    plt.figure(figsize=(22, 6))\n",
    "    plt.gcf().set_size_inches(24, 6)\n",
    "    plt.plot(range(1,n+1), accuracy, 'b--', marker='o', markerfacecolor='r', markersize=8)\n",
    "    plt.xticks(range(1, n+1), fontsize=12)\n",
    "    plt.yticks(fontsize=14)\n",
    "    plt.title('Accuracy vs K Value')\n",
    "    plt.xlabel('K')\n",
    "    plt.ylabel('Accuracy')\n",
    "    plt.grid()\n",
    "    plt.show()"
   ]
  },
  {
   "cell_type": "code",
   "execution_count": 37,
   "id": "77633692",
   "metadata": {},
   "outputs": [
    {
     "data": {
      "image/png": "[encoded data removed]",
      "text/plain": [
       "<Figure size 2400x600 with 1 Axes>"
      ]
     },
     "metadata": {},
     "output_type": "display_data"
    }
   ],
   "source": [
    "elbow(80)"
   ]
  },
  {
   "cell_type": "markdown",
   "id": "a2b18060",
   "metadata": {},
   "source": [
    "According to the elbow-chart, we decide `n_neighbors=23` be the best k and calculate the performance metrics based on this:"
   ]
  },
  {
   "cell_type": "code",
   "execution_count": 38,
   "id": "e885a331",
   "metadata": {},
   "outputs": [],
   "source": [
    "knn_best = make_pipeline(preprocessing, KNeighborsClassifier(n_neighbors=23, n_jobs=-1))\n",
    "knn_best.fit(X_train, y_train)\n",
    "\n",
    "y_pred_train_knn_best = knn_best.predict(X_train)\n",
    "\n",
    "#calculate performance metrics\n",
    "metrics_knn_best = pd.DataFrame(pd.Series(get_metrics(knn_best, y_pred_train_knn_best)), columns=['metrics knn best'])"
   ]
  },
  {
   "cell_type": "code",
   "execution_count": 39,
   "id": "be4b6927",
   "metadata": {},
   "outputs": [
    {
     "data": {
      "text/html": [
       "<div>\n",
       "<style scoped>\n",
       "    .dataframe tbody tr th:only-of-type {\n",
       "        vertical-align: middle;\n",
       "    }\n",
       "\n",
       "    .dataframe tbody tr th {\n",
       "        vertical-align: top;\n",
       "    }\n",
       "\n",
       "    .dataframe thead th {\n",
       "        text-align: right;\n",
       "    }\n",
       "</style>\n",
       "<table border=\"1\" class=\"dataframe\">\n",
       "  <thead>\n",
       "    <tr style=\"text-align: right;\">\n",
       "      <th></th>\n",
       "      <th>metrics tree</th>\n",
       "      <th>metrics knn</th>\n",
       "      <th>metrics gnb</th>\n",
       "      <th>metrics knn best</th>\n",
       "    </tr>\n",
       "  </thead>\n",
       "  <tbody>\n",
       "    <tr>\n",
       "      <th>accuracy_train</th>\n",
       "      <td>0.822660</td>\n",
       "      <td>0.871772</td>\n",
       "      <td>0.811315</td>\n",
       "      <td>0.850575</td>\n",
       "    </tr>\n",
       "    <tr>\n",
       "      <th>accuracy_valid</th>\n",
       "      <td>0.822661</td>\n",
       "      <td>0.825496</td>\n",
       "      <td>0.811165</td>\n",
       "      <td>0.838185</td>\n",
       "    </tr>\n",
       "    <tr>\n",
       "      <th>precision_train</th>\n",
       "      <td>0.636020</td>\n",
       "      <td>0.788971</td>\n",
       "      <td>0.570707</td>\n",
       "      <td>0.803008</td>\n",
       "    </tr>\n",
       "    <tr>\n",
       "      <th>precision_valid</th>\n",
       "      <td>0.692462</td>\n",
       "      <td>0.632144</td>\n",
       "      <td>0.571498</td>\n",
       "      <td>0.768664</td>\n",
       "    </tr>\n",
       "    <tr>\n",
       "      <th>recall_train</th>\n",
       "      <td>0.359687</td>\n",
       "      <td>0.529915</td>\n",
       "      <td>0.402422</td>\n",
       "      <td>0.380342</td>\n",
       "    </tr>\n",
       "    <tr>\n",
       "      <th>recall_valid</th>\n",
       "      <td>0.286360</td>\n",
       "      <td>0.401007</td>\n",
       "      <td>0.401713</td>\n",
       "      <td>0.326924</td>\n",
       "    </tr>\n",
       "    <tr>\n",
       "      <th>f1_train</th>\n",
       "      <td>0.459509</td>\n",
       "      <td>0.634001</td>\n",
       "      <td>0.472013</td>\n",
       "      <td>0.516191</td>\n",
       "    </tr>\n",
       "    <tr>\n",
       "      <th>f1_valid</th>\n",
       "      <td>0.397881</td>\n",
       "      <td>0.490597</td>\n",
       "      <td>0.471333</td>\n",
       "      <td>0.458555</td>\n",
       "    </tr>\n",
       "    <tr>\n",
       "      <th>auc_train</th>\n",
       "      <td>0.652553</td>\n",
       "      <td>0.746166</td>\n",
       "      <td>0.661079</td>\n",
       "      <td>0.677801</td>\n",
       "    </tr>\n",
       "    <tr>\n",
       "      <th>auc_valid</th>\n",
       "      <td>0.793315</td>\n",
       "      <td>0.775113</td>\n",
       "      <td>0.789602</td>\n",
       "      <td>0.829730</td>\n",
       "    </tr>\n",
       "  </tbody>\n",
       "</table>\n",
       "</div>"
      ],
      "text/plain": [
       "                 metrics tree  metrics knn  metrics gnb  metrics knn best\n",
       "accuracy_train       0.822660     0.871772     0.811315          0.850575\n",
       "accuracy_valid       0.822661     0.825496     0.811165          0.838185\n",
       "precision_train      0.636020     0.788971     0.570707          0.803008\n",
       "precision_valid      0.692462     0.632144     0.571498          0.768664\n",
       "recall_train         0.359687     0.529915     0.402422          0.380342\n",
       "recall_valid         0.286360     0.401007     0.401713          0.326924\n",
       "f1_train             0.459509     0.634001     0.472013          0.516191\n",
       "f1_valid             0.397881     0.490597     0.471333          0.458555\n",
       "auc_train            0.652553     0.746166     0.661079          0.677801\n",
       "auc_valid            0.793315     0.775113     0.789602          0.829730"
      ]
     },
     "execution_count": 39,
     "metadata": {},
     "output_type": "execute_result"
    }
   ],
   "source": [
    "metrics_compare_01 = pd.concat([metrics_compare, metrics_knn_best], axis=1)\n",
    "metrics_compare_01"
   ]
  },
  {
   "cell_type": "markdown",
   "id": "bf18cb59",
   "metadata": {},
   "source": [
    "In addition, let's also display the confusion matrix of these 2 models: (Note that we use `cross_val_predict` on training set to perform a k-fold cross-validation to get the \"out-of-sample\" predictions for each instance)."
   ]
  },
  {
   "cell_type": "code",
   "execution_count": 40,
   "id": "6e7cd882",
   "metadata": {},
   "outputs": [
    {
     "data": {
      "image/png": "[encoded data removed]",
      "text/plain": [
       "<Figure size 900x400 with 4 Axes>"
      ]
     },
     "metadata": {},
     "output_type": "display_data"
    }
   ],
   "source": [
    "#get the \"out-of-sample\" predictions\n",
    "pred_train_tree = cross_val_predict(clf_tree, X_train, y_train, cv=5, n_jobs=1)\n",
    "pred_train_knn = cross_val_predict(knn_best, X_train, y_train, cv=5, n_jobs=1)\n",
    "\n",
    "fig, axs = plt.subplots(1, 2, figsize=(9, 4))\n",
    "ConfusionMatrixDisplay.from_predictions(y_train, pred_train_tree, ax=axs[0])\n",
    "ConfusionMatrixDisplay.from_predictions(y_train, pred_train_knn, ax=axs[1])\n",
    "axs[0].set_title('Decision Tree')\n",
    "axs[1].set_title('KNN')\n",
    "\n",
    "plt.show()"
   ]
  },
  {
   "cell_type": "markdown",
   "id": "40db68e1",
   "metadata": {},
   "source": [
    "The adjusted knn model classifies more instances correctly than the decision tree model, but we shall not ignore the potential risk of the knn model:\n",
    "although we selected the best number of neighbors for knn (with the hope to eliminate overfitting), the overfitting problem **still exists** (for example, the accuracy on the training data is still much higher than that on the validation data). Based on this knowledge, even though knn performs a bit better than the decision tree model, we will choose our decision tree model in task 1 for the reason that \n",
    "1. we won't take the risk of overfitting (as is the case for knn) and\n",
    "2. we just arbitrarily selected min_samples_leaf=0.04 as the single hyperparameter previously by building the model, we will fine tune hyperparameters on the decision tree model in the next task to make it perform even better.\n",
    "\n",
    "We will test the fine-tuned decision tree model on the test set only at the end of task 2 when we are confident to launch the model."
   ]
  },
  {
   "cell_type": "markdown",
   "id": "57b803c0",
   "metadata": {},
   "source": [
    "## Task 2\n",
    "Select the machine learning model that you have chosen in task 1. Now try optimizing your results by applying the advanced concepts (lecture 04). Use cross-validation (lecture 04) when evaluating your results. Describe your approach, interpret the performance, and justify which machine learning model you would choose."
   ]
  },
  {
   "cell_type": "code",
   "execution_count": 41,
   "id": "bf58fdd5",
   "metadata": {},
   "outputs": [
    {
     "name": "stdout",
     "output_type": "stream",
     "text": [
      "<class 'pandas.core.frame.DataFrame'>\n",
      "Int64Index: 6699 entries, 5757 to 7271\n",
      "Data columns (total 15 columns):\n",
      " #   Column              Non-Null Count  Dtype  \n",
      "---  ------              --------------  -----  \n",
      " 0   CGeography_France   6699 non-null   float64\n",
      " 1   CGeography_Germany  6699 non-null   float64\n",
      " 2   CGeography_Spain    6699 non-null   float64\n",
      " 3   CGender_Female      6699 non-null   float64\n",
      " 4   CGender_Male        6699 non-null   float64\n",
      " 5   CHasCrCard_0        6699 non-null   float64\n",
      " 6   CHasCrCard_1        6699 non-null   float64\n",
      " 7   CIsActiveMember_0   6699 non-null   float64\n",
      " 8   CIsActiveMember_1   6699 non-null   float64\n",
      " 9   CAge                6699 non-null   float64\n",
      " 10  CCreditScore        6699 non-null   float64\n",
      " 11  CTenure             6699 non-null   float64\n",
      " 12  CBalance            6699 non-null   float64\n",
      " 13  CNumOfProducts      6699 non-null   float64\n",
      " 14  CEstimatedSalary    6699 non-null   float64\n",
      "dtypes: float64(15)\n",
      "memory usage: 837.4 KB\n"
     ]
    }
   ],
   "source": [
    "pd.DataFrame(preprocessing.fit_transform(X_train), columns=preprocessing.get_feature_names_out(), \n",
    "             index=X_train.index).info()"
   ]
  },
  {
   "cell_type": "markdown",
   "id": "480232ce",
   "metadata": {},
   "source": [
    "If we look at our transformed training dataset once again as shown above, we don't have the problem of \"curse of dimensionality\" here, because our number of samples are far more than the number of features. Thus, feature selection and extraction are unnecessary here; Moreover, since we have already used cross-validation technique to evaluate how well our algorithms generalize when trained on a specific dataset in task 1 and detected the overfitting risk of knn model, our focus for this task is to conduct Hyperparameter Tuning to optimize our decision tree model.\n",
    "\n",
    "We will create a new full pipeline containing the preprocessing steps and the decision tree classifier:"
   ]
  },
  {
   "cell_type": "code",
   "execution_count": 42,
   "id": "770f96a8",
   "metadata": {},
   "outputs": [],
   "source": [
    "full_pipeline_tree = Pipeline([\n",
    "    ('preprocessing', preprocessing),\n",
    "    ('tree', DecisionTreeClassifier(random_state=SEED))\n",
    "])"
   ]
  },
  {
   "cell_type": "markdown",
   "id": "e4829943",
   "metadata": {},
   "source": [
    "We will use grid search cross-validation to tune the `max_leaf_nodes`, `max_depth`, `min_samples_split` and `min_samples_leaf` hyperparameters and then inspect the results."
   ]
  },
  {
   "cell_type": "code",
   "execution_count": 43,
   "id": "134950f1",
   "metadata": {},
   "outputs": [
    {
     "data": {
      "text/html": [
       "<style>#sk-container-id-4 {color: black;background-color: white;}#sk-container-id-4 pre{padding: 0;}#sk-container-id-4 div.sk-toggleable {background-color: white;}#sk-container-id-4 label.sk-toggleable__label {cursor: pointer;display: block;width: 100%;margin-bottom: 0;padding: 0.3em;box-sizing: border-box;text-align: center;}#sk-container-id-4 label.sk-toggleable__label-arrow:before {content: \"▸\";float: left;margin-right: 0.25em;color: #696969;}#sk-container-id-4 label.sk-toggleable__label-arrow:hover:before {color: black;}#sk-container-id-4 div.sk-estimator:hover label.sk-toggleable__label-arrow:before {color: black;}#sk-container-id-4 div.sk-toggleable__content {max-height: 0;max-width: 0;overflow: hidden;text-align: left;background-color: #f0f8ff;}#sk-container-id-4 div.sk-toggleable__content pre {margin: 0.2em;color: black;border-radius: 0.25em;background-color: #f0f8ff;}#sk-container-id-4 input.sk-toggleable__control:checked~div.sk-toggleable__content {max-height: 200px;max-width: 100%;overflow: auto;}#sk-container-id-4 input.sk-toggleable__control:checked~label.sk-toggleable__label-arrow:before {content: \"▾\";}#sk-container-id-4 div.sk-estimator input.sk-toggleable__control:checked~label.sk-toggleable__label {background-color: #d4ebff;}#sk-container-id-4 div.sk-label input.sk-toggleable__control:checked~label.sk-toggleable__label {background-color: #d4ebff;}#sk-container-id-4 input.sk-hidden--visually {border: 0;clip: rect(1px 1px 1px 1px);clip: rect(1px, 1px, 1px, 1px);height: 1px;margin: -1px;overflow: hidden;padding: 0;position: absolute;width: 1px;}#sk-container-id-4 div.sk-estimator {font-family: monospace;background-color: #f0f8ff;border: 1px dotted black;border-radius: 0.25em;box-sizing: border-box;margin-bottom: 0.5em;}#sk-container-id-4 div.sk-estimator:hover {background-color: #d4ebff;}#sk-container-id-4 div.sk-parallel-item::after {content: \"\";width: 100%;border-bottom: 1px solid gray;flex-grow: 1;}#sk-container-id-4 div.sk-label:hover label.sk-toggleable__label {background-color: #d4ebff;}#sk-container-id-4 div.sk-serial::before {content: \"\";position: absolute;border-left: 1px solid gray;box-sizing: border-box;top: 0;bottom: 0;left: 50%;z-index: 0;}#sk-container-id-4 div.sk-serial {display: flex;flex-direction: column;align-items: center;background-color: white;padding-right: 0.2em;padding-left: 0.2em;position: relative;}#sk-container-id-4 div.sk-item {position: relative;z-index: 1;}#sk-container-id-4 div.sk-parallel {display: flex;align-items: stretch;justify-content: center;background-color: white;position: relative;}#sk-container-id-4 div.sk-item::before, #sk-container-id-4 div.sk-parallel-item::before {content: \"\";position: absolute;border-left: 1px solid gray;box-sizing: border-box;top: 0;bottom: 0;left: 50%;z-index: -1;}#sk-container-id-4 div.sk-parallel-item {display: flex;flex-direction: column;z-index: 1;position: relative;background-color: white;}#sk-container-id-4 div.sk-parallel-item:first-child::after {align-self: flex-end;width: 50%;}#sk-container-id-4 div.sk-parallel-item:last-child::after {align-self: flex-start;width: 50%;}#sk-container-id-4 div.sk-parallel-item:only-child::after {width: 0;}#sk-container-id-4 div.sk-dashed-wrapped {border: 1px dashed gray;margin: 0 0.4em 0.5em 0.4em;box-sizing: border-box;padding-bottom: 0.4em;background-color: white;}#sk-container-id-4 div.sk-label label {font-family: monospace;font-weight: bold;display: inline-block;line-height: 1.2em;}#sk-container-id-4 div.sk-label-container {text-align: center;}#sk-container-id-4 div.sk-container {/* jupyter's `normalize.less` sets `[hidden] { display: none; }` but bootstrap.min.css set `[hidden] { display: none !important; }` so we also need the `!important` here to be able to override the default hidden behavior on the sphinx rendered scikit-learn.org. See: https://github.com/scikit-learn/scikit-learn/issues/21755 */display: inline-block !important;position: relative;}#sk-container-id-4 div.sk-text-repr-fallback {display: none;}</style><div id=\"sk-container-id-4\" class=\"sk-top-container\"><div class=\"sk-text-repr-fallback\"><pre>GridSearchCV(cv=5,\n",
       "             estimator=Pipeline(steps=[(&#x27;preprocessing&#x27;,\n",
       "                                        ColumnTransformer(remainder=StandardScaler(),\n",
       "                                                          transformers=[(&#x27;cat&#x27;,\n",
       "                                                                         OneHotEncoder(handle_unknown=&#x27;ignore&#x27;,\n",
       "                                                                                       sparse_output=False),\n",
       "                                                                         &lt;sklearn.compose._column_transformer.make_column_selector object at 0x16c6761a0&gt;),\n",
       "                                                                        (&#x27;log&#x27;,\n",
       "                                                                         Pipeline(steps=[(&#x27;functiontransformer&#x27;,\n",
       "                                                                                          FunctionTransformer(feature_names_out=&#x27;...\n",
       "                                                                         [&#x27;CAge&#x27;])],\n",
       "                                                          verbose_feature_names_out=False)),\n",
       "                                       (&#x27;tree&#x27;,\n",
       "                                        DecisionTreeClassifier(random_state=42))]),\n",
       "             n_jobs=-1,\n",
       "             param_grid={&#x27;tree__max_depth&#x27;: [1, 2, 3, 4, 5, 6],\n",
       "                         &#x27;tree__max_leaf_nodes&#x27;: [2, 3, 4, 5, 6, 7, 8, 9, 10,\n",
       "                                                  11, 12, 13, 14, 15, 16, 17,\n",
       "                                                  18, 19, 20, 21, 22, 23, 24,\n",
       "                                                  25, 26, 27, 28, 29, 30, 31, ...],\n",
       "                         &#x27;tree__min_samples_leaf&#x27;: [0.003, 0.005, 0.01, 0.04,\n",
       "                                                    0.06, 0.08],\n",
       "                         &#x27;tree__min_samples_split&#x27;: [2, 3, 4]})</pre><b>In a Jupyter environment, please rerun this cell to show the HTML representation or trust the notebook. <br />On GitHub, the HTML representation is unable to render, please try loading this page with nbviewer.org.</b></div><div class=\"sk-container\" hidden><div class=\"sk-item sk-dashed-wrapped\"><div class=\"sk-label-container\"><div class=\"sk-label sk-toggleable\"><input class=\"sk-toggleable__control sk-hidden--visually\" id=\"sk-estimator-id-31\" type=\"checkbox\" ><label for=\"sk-estimator-id-31\" class=\"sk-toggleable__label sk-toggleable__label-arrow\">GridSearchCV</label><div class=\"sk-toggleable__content\"><pre>GridSearchCV(cv=5,\n",
       "             estimator=Pipeline(steps=[(&#x27;preprocessing&#x27;,\n",
       "                                        ColumnTransformer(remainder=StandardScaler(),\n",
       "                                                          transformers=[(&#x27;cat&#x27;,\n",
       "                                                                         OneHotEncoder(handle_unknown=&#x27;ignore&#x27;,\n",
       "                                                                                       sparse_output=False),\n",
       "                                                                         &lt;sklearn.compose._column_transformer.make_column_selector object at 0x16c6761a0&gt;),\n",
       "                                                                        (&#x27;log&#x27;,\n",
       "                                                                         Pipeline(steps=[(&#x27;functiontransformer&#x27;,\n",
       "                                                                                          FunctionTransformer(feature_names_out=&#x27;...\n",
       "                                                                         [&#x27;CAge&#x27;])],\n",
       "                                                          verbose_feature_names_out=False)),\n",
       "                                       (&#x27;tree&#x27;,\n",
       "                                        DecisionTreeClassifier(random_state=42))]),\n",
       "             n_jobs=-1,\n",
       "             param_grid={&#x27;tree__max_depth&#x27;: [1, 2, 3, 4, 5, 6],\n",
       "                         &#x27;tree__max_leaf_nodes&#x27;: [2, 3, 4, 5, 6, 7, 8, 9, 10,\n",
       "                                                  11, 12, 13, 14, 15, 16, 17,\n",
       "                                                  18, 19, 20, 21, 22, 23, 24,\n",
       "                                                  25, 26, 27, 28, 29, 30, 31, ...],\n",
       "                         &#x27;tree__min_samples_leaf&#x27;: [0.003, 0.005, 0.01, 0.04,\n",
       "                                                    0.06, 0.08],\n",
       "                         &#x27;tree__min_samples_split&#x27;: [2, 3, 4]})</pre></div></div></div><div class=\"sk-parallel\"><div class=\"sk-parallel-item\"><div class=\"sk-item\"><div class=\"sk-label-container\"><div class=\"sk-label sk-toggleable\"><input class=\"sk-toggleable__control sk-hidden--visually\" id=\"sk-estimator-id-32\" type=\"checkbox\" ><label for=\"sk-estimator-id-32\" class=\"sk-toggleable__label sk-toggleable__label-arrow\">estimator: Pipeline</label><div class=\"sk-toggleable__content\"><pre>Pipeline(steps=[(&#x27;preprocessing&#x27;,\n",
       "                 ColumnTransformer(remainder=StandardScaler(),\n",
       "                                   transformers=[(&#x27;cat&#x27;,\n",
       "                                                  OneHotEncoder(handle_unknown=&#x27;ignore&#x27;,\n",
       "                                                                sparse_output=False),\n",
       "                                                  &lt;sklearn.compose._column_transformer.make_column_selector object at 0x16c6761a0&gt;),\n",
       "                                                 (&#x27;log&#x27;,\n",
       "                                                  Pipeline(steps=[(&#x27;functiontransformer&#x27;,\n",
       "                                                                   FunctionTransformer(feature_names_out=&#x27;one-to-one&#x27;,\n",
       "                                                                                       func=&lt;ufunc &#x27;log&#x27;&gt;)),\n",
       "                                                                  (&#x27;standardscaler&#x27;,\n",
       "                                                                   StandardScaler())]),\n",
       "                                                  [&#x27;CAge&#x27;])],\n",
       "                                   verbose_feature_names_out=False)),\n",
       "                (&#x27;tree&#x27;, DecisionTreeClassifier(random_state=42))])</pre></div></div></div><div class=\"sk-serial\"><div class=\"sk-item\"><div class=\"sk-serial\"><div class=\"sk-item sk-dashed-wrapped\"><div class=\"sk-label-container\"><div class=\"sk-label sk-toggleable\"><input class=\"sk-toggleable__control sk-hidden--visually\" id=\"sk-estimator-id-33\" type=\"checkbox\" ><label for=\"sk-estimator-id-33\" class=\"sk-toggleable__label sk-toggleable__label-arrow\">preprocessing: ColumnTransformer</label><div class=\"sk-toggleable__content\"><pre>ColumnTransformer(remainder=StandardScaler(),\n",
       "                  transformers=[(&#x27;cat&#x27;,\n",
       "                                 OneHotEncoder(handle_unknown=&#x27;ignore&#x27;,\n",
       "                                               sparse_output=False),\n",
       "                                 &lt;sklearn.compose._column_transformer.make_column_selector object at 0x16c6761a0&gt;),\n",
       "                                (&#x27;log&#x27;,\n",
       "                                 Pipeline(steps=[(&#x27;functiontransformer&#x27;,\n",
       "                                                  FunctionTransformer(feature_names_out=&#x27;one-to-one&#x27;,\n",
       "                                                                      func=&lt;ufunc &#x27;log&#x27;&gt;)),\n",
       "                                                 (&#x27;standardscaler&#x27;,\n",
       "                                                  StandardScaler())]),\n",
       "                                 [&#x27;CAge&#x27;])],\n",
       "                  verbose_feature_names_out=False)</pre></div></div></div><div class=\"sk-parallel\"><div class=\"sk-parallel-item\"><div class=\"sk-item\"><div class=\"sk-label-container\"><div class=\"sk-label sk-toggleable\"><input class=\"sk-toggleable__control sk-hidden--visually\" id=\"sk-estimator-id-34\" type=\"checkbox\" ><label for=\"sk-estimator-id-34\" class=\"sk-toggleable__label sk-toggleable__label-arrow\">cat</label><div class=\"sk-toggleable__content\"><pre>&lt;sklearn.compose._column_transformer.make_column_selector object at 0x16c6761a0&gt;</pre></div></div></div><div class=\"sk-serial\"><div class=\"sk-item\"><div class=\"sk-estimator sk-toggleable\"><input class=\"sk-toggleable__control sk-hidden--visually\" id=\"sk-estimator-id-35\" type=\"checkbox\" ><label for=\"sk-estimator-id-35\" class=\"sk-toggleable__label sk-toggleable__label-arrow\">OneHotEncoder</label><div class=\"sk-toggleable__content\"><pre>OneHotEncoder(handle_unknown=&#x27;ignore&#x27;, sparse_output=False)</pre></div></div></div></div></div></div><div class=\"sk-parallel-item\"><div class=\"sk-item\"><div class=\"sk-label-container\"><div class=\"sk-label sk-toggleable\"><input class=\"sk-toggleable__control sk-hidden--visually\" id=\"sk-estimator-id-36\" type=\"checkbox\" ><label for=\"sk-estimator-id-36\" class=\"sk-toggleable__label sk-toggleable__label-arrow\">log</label><div class=\"sk-toggleable__content\"><pre>[&#x27;CAge&#x27;]</pre></div></div></div><div class=\"sk-serial\"><div class=\"sk-item\"><div class=\"sk-serial\"><div class=\"sk-item\"><div class=\"sk-estimator sk-toggleable\"><input class=\"sk-toggleable__control sk-hidden--visually\" id=\"sk-estimator-id-37\" type=\"checkbox\" ><label for=\"sk-estimator-id-37\" class=\"sk-toggleable__label sk-toggleable__label-arrow\">FunctionTransformer</label><div class=\"sk-toggleable__content\"><pre>FunctionTransformer(feature_names_out=&#x27;one-to-one&#x27;, func=&lt;ufunc &#x27;log&#x27;&gt;)</pre></div></div></div><div class=\"sk-item\"><div class=\"sk-estimator sk-toggleable\"><input class=\"sk-toggleable__control sk-hidden--visually\" id=\"sk-estimator-id-38\" type=\"checkbox\" ><label for=\"sk-estimator-id-38\" class=\"sk-toggleable__label sk-toggleable__label-arrow\">StandardScaler</label><div class=\"sk-toggleable__content\"><pre>StandardScaler()</pre></div></div></div></div></div></div></div></div><div class=\"sk-parallel-item\"><div class=\"sk-item\"><div class=\"sk-label-container\"><div class=\"sk-label sk-toggleable\"><input class=\"sk-toggleable__control sk-hidden--visually\" id=\"sk-estimator-id-39\" type=\"checkbox\" ><label for=\"sk-estimator-id-39\" class=\"sk-toggleable__label sk-toggleable__label-arrow\">remainder</label><div class=\"sk-toggleable__content\"><pre>[&#x27;CCreditScore&#x27;, &#x27;CTenure&#x27;, &#x27;CBalance&#x27;, &#x27;CNumOfProducts&#x27;, &#x27;CEstimatedSalary&#x27;]</pre></div></div></div><div class=\"sk-serial\"><div class=\"sk-item\"><div class=\"sk-estimator sk-toggleable\"><input class=\"sk-toggleable__control sk-hidden--visually\" id=\"sk-estimator-id-40\" type=\"checkbox\" ><label for=\"sk-estimator-id-40\" class=\"sk-toggleable__label sk-toggleable__label-arrow\">StandardScaler</label><div class=\"sk-toggleable__content\"><pre>StandardScaler()</pre></div></div></div></div></div></div></div></div><div class=\"sk-item\"><div class=\"sk-estimator sk-toggleable\"><input class=\"sk-toggleable__control sk-hidden--visually\" id=\"sk-estimator-id-41\" type=\"checkbox\" ><label for=\"sk-estimator-id-41\" class=\"sk-toggleable__label sk-toggleable__label-arrow\">DecisionTreeClassifier</label><div class=\"sk-toggleable__content\"><pre>DecisionTreeClassifier(random_state=42)</pre></div></div></div></div></div></div></div></div></div></div></div></div>"
      ],
      "text/plain": [
       "GridSearchCV(cv=5,\n",
       "             estimator=Pipeline(steps=[('preprocessing',\n",
       "                                        ColumnTransformer(remainder=StandardScaler(),\n",
       "                                                          transformers=[('cat',\n",
       "                                                                         OneHotEncoder(handle_unknown='ignore',\n",
       "                                                                                       sparse_output=False),\n",
       "                                                                         <sklearn.compose._column_transformer.make_column_selector object at 0x16c6761a0>),\n",
       "                                                                        ('log',\n",
       "                                                                         Pipeline(steps=[('functiontransformer',\n",
       "                                                                                          FunctionTransformer(feature_names_out='...\n",
       "                                                                         ['CAge'])],\n",
       "                                                          verbose_feature_names_out=False)),\n",
       "                                       ('tree',\n",
       "                                        DecisionTreeClassifier(random_state=42))]),\n",
       "             n_jobs=-1,\n",
       "             param_grid={'tree__max_depth': [1, 2, 3, 4, 5, 6],\n",
       "                         'tree__max_leaf_nodes': [2, 3, 4, 5, 6, 7, 8, 9, 10,\n",
       "                                                  11, 12, 13, 14, 15, 16, 17,\n",
       "                                                  18, 19, 20, 21, 22, 23, 24,\n",
       "                                                  25, 26, 27, 28, 29, 30, 31, ...],\n",
       "                         'tree__min_samples_leaf': [0.003, 0.005, 0.01, 0.04,\n",
       "                                                    0.06, 0.08],\n",
       "                         'tree__min_samples_split': [2, 3, 4]})"
      ]
     },
     "execution_count": 43,
     "metadata": {},
     "output_type": "execute_result"
    }
   ],
   "source": [
    "params = {\n",
    "    'tree__max_leaf_nodes': list(range(2, 100)),\n",
    "    'tree__max_depth': list(range(1, 7)),\n",
    "    'tree__min_samples_split': [2, 3, 4],\n",
    "    'tree__min_samples_leaf':  [0.003, 0.005, 0.01, 0.04, 0.06, 0.08],\n",
    "}\n",
    "\n",
    "grid_search_cv_tree = GridSearchCV(full_pipeline_tree, params, cv=5, n_jobs=-1)\n",
    "grid_search_cv_tree.fit(X_train, y_train)"
   ]
  },
  {
   "cell_type": "code",
   "execution_count": 44,
   "id": "dadb3890",
   "metadata": {},
   "outputs": [
    {
     "data": {
      "text/plain": [
       "{'tree__max_depth': 5,\n",
       " 'tree__max_leaf_nodes': 10,\n",
       " 'tree__min_samples_leaf': 0.003,\n",
       " 'tree__min_samples_split': 2}"
      ]
     },
     "execution_count": 44,
     "metadata": {},
     "output_type": "execute_result"
    }
   ],
   "source": [
    "#show the best hyperparameters\n",
    "grid_search_cv_tree.best_params_"
   ]
  },
  {
   "cell_type": "markdown",
   "id": "f93e64c8",
   "metadata": {},
   "source": [
    "Now that we can get our finally optimized decision tree model with the best hyperparameters, we can access the best estimator using `best_estimator_` (Note that `GridSearchCV` finds the best estimator and retrains the model on the whole training set, because the `refit` parameter is True by default). We will evaluate the performance of the final model as we did in task 1."
   ]
  },
  {
   "cell_type": "code",
   "execution_count": 45,
   "id": "1e20369d",
   "metadata": {},
   "outputs": [],
   "source": [
    "final_tree = grid_search_cv_tree.best_estimator_"
   ]
  },
  {
   "cell_type": "code",
   "execution_count": 46,
   "id": "cfbbcd21",
   "metadata": {},
   "outputs": [
    {
     "data": {
      "text/html": [
       "<div>\n",
       "<style scoped>\n",
       "    .dataframe tbody tr th:only-of-type {\n",
       "        vertical-align: middle;\n",
       "    }\n",
       "\n",
       "    .dataframe tbody tr th {\n",
       "        vertical-align: top;\n",
       "    }\n",
       "\n",
       "    .dataframe thead th {\n",
       "        text-align: right;\n",
       "    }\n",
       "</style>\n",
       "<table border=\"1\" class=\"dataframe\">\n",
       "  <thead>\n",
       "    <tr style=\"text-align: right;\">\n",
       "      <th></th>\n",
       "      <th>metrics tree</th>\n",
       "      <th>metrics knn</th>\n",
       "      <th>metrics gnb</th>\n",
       "      <th>metrics knn best</th>\n",
       "      <th>metrics final tree</th>\n",
       "    </tr>\n",
       "  </thead>\n",
       "  <tbody>\n",
       "    <tr>\n",
       "      <th>accuracy_train</th>\n",
       "      <td>0.822660</td>\n",
       "      <td>0.871772</td>\n",
       "      <td>0.811315</td>\n",
       "      <td>0.850575</td>\n",
       "      <td>0.848186</td>\n",
       "    </tr>\n",
       "    <tr>\n",
       "      <th>accuracy_valid</th>\n",
       "      <td>0.822661</td>\n",
       "      <td>0.825496</td>\n",
       "      <td>0.811165</td>\n",
       "      <td>0.838185</td>\n",
       "      <td>0.851173</td>\n",
       "    </tr>\n",
       "    <tr>\n",
       "      <th>precision_train</th>\n",
       "      <td>0.636020</td>\n",
       "      <td>0.788971</td>\n",
       "      <td>0.570707</td>\n",
       "      <td>0.803008</td>\n",
       "      <td>0.754271</td>\n",
       "    </tr>\n",
       "    <tr>\n",
       "      <th>precision_valid</th>\n",
       "      <td>0.692462</td>\n",
       "      <td>0.632144</td>\n",
       "      <td>0.571498</td>\n",
       "      <td>0.768664</td>\n",
       "      <td>0.749444</td>\n",
       "    </tr>\n",
       "    <tr>\n",
       "      <th>recall_train</th>\n",
       "      <td>0.359687</td>\n",
       "      <td>0.529915</td>\n",
       "      <td>0.402422</td>\n",
       "      <td>0.380342</td>\n",
       "      <td>0.408832</td>\n",
       "    </tr>\n",
       "    <tr>\n",
       "      <th>recall_valid</th>\n",
       "      <td>0.286360</td>\n",
       "      <td>0.401007</td>\n",
       "      <td>0.401713</td>\n",
       "      <td>0.326924</td>\n",
       "      <td>0.437331</td>\n",
       "    </tr>\n",
       "    <tr>\n",
       "      <th>f1_train</th>\n",
       "      <td>0.459509</td>\n",
       "      <td>0.634001</td>\n",
       "      <td>0.472013</td>\n",
       "      <td>0.516191</td>\n",
       "      <td>0.530254</td>\n",
       "    </tr>\n",
       "    <tr>\n",
       "      <th>f1_valid</th>\n",
       "      <td>0.397881</td>\n",
       "      <td>0.490597</td>\n",
       "      <td>0.471333</td>\n",
       "      <td>0.458555</td>\n",
       "      <td>0.551771</td>\n",
       "    </tr>\n",
       "    <tr>\n",
       "      <th>auc_train</th>\n",
       "      <td>0.652553</td>\n",
       "      <td>0.746166</td>\n",
       "      <td>0.661079</td>\n",
       "      <td>0.677801</td>\n",
       "      <td>0.686758</td>\n",
       "    </tr>\n",
       "    <tr>\n",
       "      <th>auc_valid</th>\n",
       "      <td>0.793315</td>\n",
       "      <td>0.775113</td>\n",
       "      <td>0.789602</td>\n",
       "      <td>0.829730</td>\n",
       "      <td>0.808483</td>\n",
       "    </tr>\n",
       "  </tbody>\n",
       "</table>\n",
       "</div>"
      ],
      "text/plain": [
       "                 metrics tree  metrics knn  metrics gnb  metrics knn best  \\\n",
       "accuracy_train       0.822660     0.871772     0.811315          0.850575   \n",
       "accuracy_valid       0.822661     0.825496     0.811165          0.838185   \n",
       "precision_train      0.636020     0.788971     0.570707          0.803008   \n",
       "precision_valid      0.692462     0.632144     0.571498          0.768664   \n",
       "recall_train         0.359687     0.529915     0.402422          0.380342   \n",
       "recall_valid         0.286360     0.401007     0.401713          0.326924   \n",
       "f1_train             0.459509     0.634001     0.472013          0.516191   \n",
       "f1_valid             0.397881     0.490597     0.471333          0.458555   \n",
       "auc_train            0.652553     0.746166     0.661079          0.677801   \n",
       "auc_valid            0.793315     0.775113     0.789602          0.829730   \n",
       "\n",
       "                 metrics final tree  \n",
       "accuracy_train             0.848186  \n",
       "accuracy_valid             0.851173  \n",
       "precision_train            0.754271  \n",
       "precision_valid            0.749444  \n",
       "recall_train               0.408832  \n",
       "recall_valid               0.437331  \n",
       "f1_train                   0.530254  \n",
       "f1_valid                   0.551771  \n",
       "auc_train                  0.686758  \n",
       "auc_valid                  0.808483  "
      ]
     },
     "execution_count": 46,
     "metadata": {},
     "output_type": "execute_result"
    }
   ],
   "source": [
    "#evaluate the final model\n",
    "#predict the label for train dataset\n",
    "y_pred_tree = final_tree.predict(X_train)\n",
    "\n",
    "# Calculate performance metrics\n",
    "metrics_final_tree = pd.DataFrame(pd.Series(get_metrics(final_tree, y_pred_tree)), columns=['metrics final tree'])\n",
    "\n",
    "metrics_compare_02 = pd.concat([metrics_compare_01, metrics_final_tree], axis=1)\n",
    "metrics_compare_02"
   ]
  },
  {
   "cell_type": "markdown",
   "id": "038b66d2",
   "metadata": {},
   "source": [
    "The accuracy score on the validation data of our final model is even better than the previous knn with the best number of neighbors, which indicates a good generalization ability! More importantly, our optimized decision tree doesn't suffer from overfitting. Let's display the confusion matrices of the decision tree before and after hyperparameter tuning:"
   ]
  },
  {
   "cell_type": "code",
   "execution_count": 47,
   "id": "3393bd7c",
   "metadata": {},
   "outputs": [
    {
     "data": {
      "image/png": "[encoded data removed]",
      "text/plain": [
       "<Figure size 900x400 with 4 Axes>"
      ]
     },
     "metadata": {},
     "output_type": "display_data"
    }
   ],
   "source": [
    "#get the \"out-of-sample\" predictions\n",
    "pred_train_final_tree = cross_val_predict(final_tree, X_train, y_train, cv=5, n_jobs=1)\n",
    "\n",
    "fig, axs = plt.subplots(1, 2, figsize=(9, 4))\n",
    "ConfusionMatrixDisplay.from_predictions(y_train, pred_train_tree, ax=axs[0])\n",
    "ConfusionMatrixDisplay.from_predictions(y_train, pred_train_final_tree, ax=axs[1])\n",
    "axs[0].set_title('Decision Tree before Tuning')\n",
    "axs[1].set_title('Decision Tree after Tuning')\n",
    "\n",
    "plt.show()"
   ]
  },
  {
   "cell_type": "markdown",
   "id": "fc31a6be",
   "metadata": {},
   "source": [
    "Also on the above confusion matrix we can see the increase of the correctly classified samples after tuning: (5088+614) > (5109+402). \n",
    "\n",
    "Now we are confident to check the final model's performance on the test set:"
   ]
  },
  {
   "cell_type": "code",
   "execution_count": 48,
   "id": "0de88709",
   "metadata": {},
   "outputs": [
    {
     "data": {
      "text/html": [
       "<div>\n",
       "<style scoped>\n",
       "    .dataframe tbody tr th:only-of-type {\n",
       "        vertical-align: middle;\n",
       "    }\n",
       "\n",
       "    .dataframe tbody tr th {\n",
       "        vertical-align: top;\n",
       "    }\n",
       "\n",
       "    .dataframe thead th {\n",
       "        text-align: right;\n",
       "    }\n",
       "</style>\n",
       "<table border=\"1\" class=\"dataframe\">\n",
       "  <thead>\n",
       "    <tr style=\"text-align: right;\">\n",
       "      <th></th>\n",
       "      <th>decision tree test data perform</th>\n",
       "    </tr>\n",
       "  </thead>\n",
       "  <tbody>\n",
       "    <tr>\n",
       "      <th>accuracy_test</th>\n",
       "      <td>0.853636</td>\n",
       "    </tr>\n",
       "    <tr>\n",
       "      <th>precision_test</th>\n",
       "      <td>0.730650</td>\n",
       "    </tr>\n",
       "    <tr>\n",
       "      <th>recall_test</th>\n",
       "      <td>0.373418</td>\n",
       "    </tr>\n",
       "    <tr>\n",
       "      <th>f1</th>\n",
       "      <td>0.494241</td>\n",
       "    </tr>\n",
       "  </tbody>\n",
       "</table>\n",
       "</div>"
      ],
      "text/plain": [
       "                decision tree test data perform\n",
       "accuracy_test                          0.853636\n",
       "precision_test                         0.730650\n",
       "recall_test                            0.373418\n",
       "f1                                     0.494241"
      ]
     },
     "execution_count": 48,
     "metadata": {},
     "output_type": "execute_result"
    }
   ],
   "source": [
    "pred_test_final_tree = final_tree.predict(X_test)\n",
    "\n",
    "# Calculate the metrics on the test set\n",
    "metrics_test_tree = {\n",
    "    'accuracy_test': accuracy_score(y_test, pred_test_final_tree),\n",
    "    'precision_test': precision_score(y_test, pred_test_final_tree),\n",
    "    'recall_test': recall_score(y_test, pred_test_final_tree),\n",
    "    'f1': f1_score(y_test, pred_test_final_tree)\n",
    "}\n",
    "metrics_test_tree = pd.DataFrame(pd.Series(metrics_test_tree), columns=['decision tree test data perform'])\n",
    "metrics_test_tree"
   ]
  },
  {
   "cell_type": "markdown",
   "id": "b795714d",
   "metadata": {},
   "source": [
    "The model accuracy on test data is even better! Finally, we display the confusion matrix of the model on the test data."
   ]
  },
  {
   "cell_type": "code",
   "execution_count": 49,
   "id": "8f797604",
   "metadata": {
    "scrolled": false
   },
   "outputs": [
    {
     "data": {
      "image/png": "[encoded data removed]",
      "text/plain": [
       "<Figure size 640x480 with 2 Axes>"
      ]
     },
     "metadata": {},
     "output_type": "display_data"
    }
   ],
   "source": [
    "ConfusionMatrixDisplay.from_predictions(y_test, pred_test_final_tree)\n",
    "plt.title('Final Decision Tree on Test Set')\n",
    "plt.show()"
   ]
  },
  {
   "cell_type": "markdown",
   "id": "a8aafaf7",
   "metadata": {},
   "source": [
    "Based on the analysis, tuning and evaluation above, we would choose `final_tree` as our final model."
   ]
  },
  {
   "cell_type": "markdown",
   "id": "c0cc9509",
   "metadata": {},
   "source": [
    "## Task 3\n",
    "Apply one ensemble learning technique (lecture 05) to see whether those techniques lead to a better performance than in task 1 and task 2. You should also apply the advanced concepts (lecture 04) to improve the model. Describe your approach, interpret the performance, and justify the final machine learning selection."
   ]
  },
  {
   "cell_type": "markdown",
   "id": "b7a5107a",
   "metadata": {},
   "source": [
    "In this task, we will train a random forest (RF), evaluate it and tune the hyperparameters by performing randomized search."
   ]
  },
  {
   "cell_type": "code",
   "execution_count": 50,
   "id": "f4644ff2",
   "metadata": {},
   "outputs": [
    {
     "data": {
      "text/html": [
       "<style>#sk-container-id-5 {color: black;background-color: white;}#sk-container-id-5 pre{padding: 0;}#sk-container-id-5 div.sk-toggleable {background-color: white;}#sk-container-id-5 label.sk-toggleable__label {cursor: pointer;display: block;width: 100%;margin-bottom: 0;padding: 0.3em;box-sizing: border-box;text-align: center;}#sk-container-id-5 label.sk-toggleable__label-arrow:before {content: \"▸\";float: left;margin-right: 0.25em;color: #696969;}#sk-container-id-5 label.sk-toggleable__label-arrow:hover:before {color: black;}#sk-container-id-5 div.sk-estimator:hover label.sk-toggleable__label-arrow:before {color: black;}#sk-container-id-5 div.sk-toggleable__content {max-height: 0;max-width: 0;overflow: hidden;text-align: left;background-color: #f0f8ff;}#sk-container-id-5 div.sk-toggleable__content pre {margin: 0.2em;color: black;border-radius: 0.25em;background-color: #f0f8ff;}#sk-container-id-5 input.sk-toggleable__control:checked~div.sk-toggleable__content {max-height: 200px;max-width: 100%;overflow: auto;}#sk-container-id-5 input.sk-toggleable__control:checked~label.sk-toggleable__label-arrow:before {content: \"▾\";}#sk-container-id-5 div.sk-estimator input.sk-toggleable__control:checked~label.sk-toggleable__label {background-color: #d4ebff;}#sk-container-id-5 div.sk-label input.sk-toggleable__control:checked~label.sk-toggleable__label {background-color: #d4ebff;}#sk-container-id-5 input.sk-hidden--visually {border: 0;clip: rect(1px 1px 1px 1px);clip: rect(1px, 1px, 1px, 1px);height: 1px;margin: -1px;overflow: hidden;padding: 0;position: absolute;width: 1px;}#sk-container-id-5 div.sk-estimator {font-family: monospace;background-color: #f0f8ff;border: 1px dotted black;border-radius: 0.25em;box-sizing: border-box;margin-bottom: 0.5em;}#sk-container-id-5 div.sk-estimator:hover {background-color: #d4ebff;}#sk-container-id-5 div.sk-parallel-item::after {content: \"\";width: 100%;border-bottom: 1px solid gray;flex-grow: 1;}#sk-container-id-5 div.sk-label:hover label.sk-toggleable__label {background-color: #d4ebff;}#sk-container-id-5 div.sk-serial::before {content: \"\";position: absolute;border-left: 1px solid gray;box-sizing: border-box;top: 0;bottom: 0;left: 50%;z-index: 0;}#sk-container-id-5 div.sk-serial {display: flex;flex-direction: column;align-items: center;background-color: white;padding-right: 0.2em;padding-left: 0.2em;position: relative;}#sk-container-id-5 div.sk-item {position: relative;z-index: 1;}#sk-container-id-5 div.sk-parallel {display: flex;align-items: stretch;justify-content: center;background-color: white;position: relative;}#sk-container-id-5 div.sk-item::before, #sk-container-id-5 div.sk-parallel-item::before {content: \"\";position: absolute;border-left: 1px solid gray;box-sizing: border-box;top: 0;bottom: 0;left: 50%;z-index: -1;}#sk-container-id-5 div.sk-parallel-item {display: flex;flex-direction: column;z-index: 1;position: relative;background-color: white;}#sk-container-id-5 div.sk-parallel-item:first-child::after {align-self: flex-end;width: 50%;}#sk-container-id-5 div.sk-parallel-item:last-child::after {align-self: flex-start;width: 50%;}#sk-container-id-5 div.sk-parallel-item:only-child::after {width: 0;}#sk-container-id-5 div.sk-dashed-wrapped {border: 1px dashed gray;margin: 0 0.4em 0.5em 0.4em;box-sizing: border-box;padding-bottom: 0.4em;background-color: white;}#sk-container-id-5 div.sk-label label {font-family: monospace;font-weight: bold;display: inline-block;line-height: 1.2em;}#sk-container-id-5 div.sk-label-container {text-align: center;}#sk-container-id-5 div.sk-container {/* jupyter's `normalize.less` sets `[hidden] { display: none; }` but bootstrap.min.css set `[hidden] { display: none !important; }` so we also need the `!important` here to be able to override the default hidden behavior on the sphinx rendered scikit-learn.org. See: https://github.com/scikit-learn/scikit-learn/issues/21755 */display: inline-block !important;position: relative;}#sk-container-id-5 div.sk-text-repr-fallback {display: none;}</style><div id=\"sk-container-id-5\" class=\"sk-top-container\"><div class=\"sk-text-repr-fallback\"><pre>Pipeline(steps=[(&#x27;preprocessing&#x27;,\n",
       "                 ColumnTransformer(remainder=StandardScaler(),\n",
       "                                   transformers=[(&#x27;cat&#x27;,\n",
       "                                                  OneHotEncoder(handle_unknown=&#x27;ignore&#x27;,\n",
       "                                                                sparse_output=False),\n",
       "                                                  &lt;sklearn.compose._column_transformer.make_column_selector object at 0x16c6761a0&gt;),\n",
       "                                                 (&#x27;log&#x27;,\n",
       "                                                  Pipeline(steps=[(&#x27;functiontransformer&#x27;,\n",
       "                                                                   FunctionTransformer(feature_names_out=&#x27;one-to-one&#x27;,\n",
       "                                                                                       func=&lt;ufunc &#x27;log&#x27;&gt;)),\n",
       "                                                                  (&#x27;standardscaler&#x27;,\n",
       "                                                                   StandardScaler())]),\n",
       "                                                  [&#x27;CAge&#x27;])],\n",
       "                                   verbose_feature_names_out=False)),\n",
       "                (&#x27;forest&#x27;, RandomForestClassifier(random_state=42))])</pre><b>In a Jupyter environment, please rerun this cell to show the HTML representation or trust the notebook. <br />On GitHub, the HTML representation is unable to render, please try loading this page with nbviewer.org.</b></div><div class=\"sk-container\" hidden><div class=\"sk-item sk-dashed-wrapped\"><div class=\"sk-label-container\"><div class=\"sk-label sk-toggleable\"><input class=\"sk-toggleable__control sk-hidden--visually\" id=\"sk-estimator-id-42\" type=\"checkbox\" ><label for=\"sk-estimator-id-42\" class=\"sk-toggleable__label sk-toggleable__label-arrow\">Pipeline</label><div class=\"sk-toggleable__content\"><pre>Pipeline(steps=[(&#x27;preprocessing&#x27;,\n",
       "                 ColumnTransformer(remainder=StandardScaler(),\n",
       "                                   transformers=[(&#x27;cat&#x27;,\n",
       "                                                  OneHotEncoder(handle_unknown=&#x27;ignore&#x27;,\n",
       "                                                                sparse_output=False),\n",
       "                                                  &lt;sklearn.compose._column_transformer.make_column_selector object at 0x16c6761a0&gt;),\n",
       "                                                 (&#x27;log&#x27;,\n",
       "                                                  Pipeline(steps=[(&#x27;functiontransformer&#x27;,\n",
       "                                                                   FunctionTransformer(feature_names_out=&#x27;one-to-one&#x27;,\n",
       "                                                                                       func=&lt;ufunc &#x27;log&#x27;&gt;)),\n",
       "                                                                  (&#x27;standardscaler&#x27;,\n",
       "                                                                   StandardScaler())]),\n",
       "                                                  [&#x27;CAge&#x27;])],\n",
       "                                   verbose_feature_names_out=False)),\n",
       "                (&#x27;forest&#x27;, RandomForestClassifier(random_state=42))])</pre></div></div></div><div class=\"sk-serial\"><div class=\"sk-item sk-dashed-wrapped\"><div class=\"sk-label-container\"><div class=\"sk-label sk-toggleable\"><input class=\"sk-toggleable__control sk-hidden--visually\" id=\"sk-estimator-id-43\" type=\"checkbox\" ><label for=\"sk-estimator-id-43\" class=\"sk-toggleable__label sk-toggleable__label-arrow\">preprocessing: ColumnTransformer</label><div class=\"sk-toggleable__content\"><pre>ColumnTransformer(remainder=StandardScaler(),\n",
       "                  transformers=[(&#x27;cat&#x27;,\n",
       "                                 OneHotEncoder(handle_unknown=&#x27;ignore&#x27;,\n",
       "                                               sparse_output=False),\n",
       "                                 &lt;sklearn.compose._column_transformer.make_column_selector object at 0x16c6761a0&gt;),\n",
       "                                (&#x27;log&#x27;,\n",
       "                                 Pipeline(steps=[(&#x27;functiontransformer&#x27;,\n",
       "                                                  FunctionTransformer(feature_names_out=&#x27;one-to-one&#x27;,\n",
       "                                                                      func=&lt;ufunc &#x27;log&#x27;&gt;)),\n",
       "                                                 (&#x27;standardscaler&#x27;,\n",
       "                                                  StandardScaler())]),\n",
       "                                 [&#x27;CAge&#x27;])],\n",
       "                  verbose_feature_names_out=False)</pre></div></div></div><div class=\"sk-parallel\"><div class=\"sk-parallel-item\"><div class=\"sk-item\"><div class=\"sk-label-container\"><div class=\"sk-label sk-toggleable\"><input class=\"sk-toggleable__control sk-hidden--visually\" id=\"sk-estimator-id-44\" type=\"checkbox\" ><label for=\"sk-estimator-id-44\" class=\"sk-toggleable__label sk-toggleable__label-arrow\">cat</label><div class=\"sk-toggleable__content\"><pre>&lt;sklearn.compose._column_transformer.make_column_selector object at 0x16c6761a0&gt;</pre></div></div></div><div class=\"sk-serial\"><div class=\"sk-item\"><div class=\"sk-estimator sk-toggleable\"><input class=\"sk-toggleable__control sk-hidden--visually\" id=\"sk-estimator-id-45\" type=\"checkbox\" ><label for=\"sk-estimator-id-45\" class=\"sk-toggleable__label sk-toggleable__label-arrow\">OneHotEncoder</label><div class=\"sk-toggleable__content\"><pre>OneHotEncoder(handle_unknown=&#x27;ignore&#x27;, sparse_output=False)</pre></div></div></div></div></div></div><div class=\"sk-parallel-item\"><div class=\"sk-item\"><div class=\"sk-label-container\"><div class=\"sk-label sk-toggleable\"><input class=\"sk-toggleable__control sk-hidden--visually\" id=\"sk-estimator-id-46\" type=\"checkbox\" ><label for=\"sk-estimator-id-46\" class=\"sk-toggleable__label sk-toggleable__label-arrow\">log</label><div class=\"sk-toggleable__content\"><pre>[&#x27;CAge&#x27;]</pre></div></div></div><div class=\"sk-serial\"><div class=\"sk-item\"><div class=\"sk-serial\"><div class=\"sk-item\"><div class=\"sk-estimator sk-toggleable\"><input class=\"sk-toggleable__control sk-hidden--visually\" id=\"sk-estimator-id-47\" type=\"checkbox\" ><label for=\"sk-estimator-id-47\" class=\"sk-toggleable__label sk-toggleable__label-arrow\">FunctionTransformer</label><div class=\"sk-toggleable__content\"><pre>FunctionTransformer(feature_names_out=&#x27;one-to-one&#x27;, func=&lt;ufunc &#x27;log&#x27;&gt;)</pre></div></div></div><div class=\"sk-item\"><div class=\"sk-estimator sk-toggleable\"><input class=\"sk-toggleable__control sk-hidden--visually\" id=\"sk-estimator-id-48\" type=\"checkbox\" ><label for=\"sk-estimator-id-48\" class=\"sk-toggleable__label sk-toggleable__label-arrow\">StandardScaler</label><div class=\"sk-toggleable__content\"><pre>StandardScaler()</pre></div></div></div></div></div></div></div></div><div class=\"sk-parallel-item\"><div class=\"sk-item\"><div class=\"sk-label-container\"><div class=\"sk-label sk-toggleable\"><input class=\"sk-toggleable__control sk-hidden--visually\" id=\"sk-estimator-id-49\" type=\"checkbox\" ><label for=\"sk-estimator-id-49\" class=\"sk-toggleable__label sk-toggleable__label-arrow\">remainder</label><div class=\"sk-toggleable__content\"><pre>[&#x27;CCreditScore&#x27;, &#x27;CTenure&#x27;, &#x27;CBalance&#x27;, &#x27;CNumOfProducts&#x27;, &#x27;CEstimatedSalary&#x27;]</pre></div></div></div><div class=\"sk-serial\"><div class=\"sk-item\"><div class=\"sk-estimator sk-toggleable\"><input class=\"sk-toggleable__control sk-hidden--visually\" id=\"sk-estimator-id-50\" type=\"checkbox\" ><label for=\"sk-estimator-id-50\" class=\"sk-toggleable__label sk-toggleable__label-arrow\">StandardScaler</label><div class=\"sk-toggleable__content\"><pre>StandardScaler()</pre></div></div></div></div></div></div></div></div><div class=\"sk-item\"><div class=\"sk-estimator sk-toggleable\"><input class=\"sk-toggleable__control sk-hidden--visually\" id=\"sk-estimator-id-51\" type=\"checkbox\" ><label for=\"sk-estimator-id-51\" class=\"sk-toggleable__label sk-toggleable__label-arrow\">RandomForestClassifier</label><div class=\"sk-toggleable__content\"><pre>RandomForestClassifier(random_state=42)</pre></div></div></div></div></div></div></div>"
      ],
      "text/plain": [
       "Pipeline(steps=[('preprocessing',\n",
       "                 ColumnTransformer(remainder=StandardScaler(),\n",
       "                                   transformers=[('cat',\n",
       "                                                  OneHotEncoder(handle_unknown='ignore',\n",
       "                                                                sparse_output=False),\n",
       "                                                  <sklearn.compose._column_transformer.make_column_selector object at 0x16c6761a0>),\n",
       "                                                 ('log',\n",
       "                                                  Pipeline(steps=[('functiontransformer',\n",
       "                                                                   FunctionTransformer(feature_names_out='one-to-one',\n",
       "                                                                                       func=<ufunc 'log'>)),\n",
       "                                                                  ('standardscaler',\n",
       "                                                                   StandardScaler())]),\n",
       "                                                  ['CAge'])],\n",
       "                                   verbose_feature_names_out=False)),\n",
       "                ('forest', RandomForestClassifier(random_state=42))])"
      ]
     },
     "execution_count": 50,
     "metadata": {},
     "output_type": "execute_result"
    }
   ],
   "source": [
    "#create a pipeline for the random forest classifier\n",
    "full_pipeline_rf = Pipeline([\n",
    "    ('preprocessing', preprocessing),\n",
    "    ('forest', RandomForestClassifier(random_state=SEED))\n",
    "])\n",
    "\n",
    "#train the model\n",
    "full_pipeline_rf.fit(X_train, y_train)"
   ]
  },
  {
   "cell_type": "code",
   "execution_count": 51,
   "id": "a3f5b5f5",
   "metadata": {},
   "outputs": [
    {
     "data": {
      "text/html": [
       "<div>\n",
       "<style scoped>\n",
       "    .dataframe tbody tr th:only-of-type {\n",
       "        vertical-align: middle;\n",
       "    }\n",
       "\n",
       "    .dataframe tbody tr th {\n",
       "        vertical-align: top;\n",
       "    }\n",
       "\n",
       "    .dataframe thead th {\n",
       "        text-align: right;\n",
       "    }\n",
       "</style>\n",
       "<table border=\"1\" class=\"dataframe\">\n",
       "  <thead>\n",
       "    <tr style=\"text-align: right;\">\n",
       "      <th></th>\n",
       "      <th>metrics rf untuned</th>\n",
       "    </tr>\n",
       "  </thead>\n",
       "  <tbody>\n",
       "    <tr>\n",
       "      <th>accuracy_train</th>\n",
       "      <td>1.000000</td>\n",
       "    </tr>\n",
       "    <tr>\n",
       "      <th>accuracy_valid</th>\n",
       "      <td>0.850723</td>\n",
       "    </tr>\n",
       "    <tr>\n",
       "      <th>precision_train</th>\n",
       "      <td>1.000000</td>\n",
       "    </tr>\n",
       "    <tr>\n",
       "      <th>precision_valid</th>\n",
       "      <td>0.741062</td>\n",
       "    </tr>\n",
       "    <tr>\n",
       "      <th>recall_train</th>\n",
       "      <td>1.000000</td>\n",
       "    </tr>\n",
       "    <tr>\n",
       "      <th>recall_valid</th>\n",
       "      <td>0.444431</td>\n",
       "    </tr>\n",
       "    <tr>\n",
       "      <th>f1_train</th>\n",
       "      <td>1.000000</td>\n",
       "    </tr>\n",
       "    <tr>\n",
       "      <th>f1_valid</th>\n",
       "      <td>0.555184</td>\n",
       "    </tr>\n",
       "    <tr>\n",
       "      <th>auc_train</th>\n",
       "      <td>1.000000</td>\n",
       "    </tr>\n",
       "    <tr>\n",
       "      <th>auc_valid</th>\n",
       "      <td>0.840323</td>\n",
       "    </tr>\n",
       "  </tbody>\n",
       "</table>\n",
       "</div>"
      ],
      "text/plain": [
       "                 metrics rf untuned\n",
       "accuracy_train             1.000000\n",
       "accuracy_valid             0.850723\n",
       "precision_train            1.000000\n",
       "precision_valid            0.741062\n",
       "recall_train               1.000000\n",
       "recall_valid               0.444431\n",
       "f1_train                   1.000000\n",
       "f1_valid                   0.555184\n",
       "auc_train                  1.000000\n",
       "auc_valid                  0.840323"
      ]
     },
     "execution_count": 51,
     "metadata": {},
     "output_type": "execute_result"
    }
   ],
   "source": [
    "#predict the label for train dataset\n",
    "y_pred_rf_untuned = full_pipeline_rf.predict(X_train)\n",
    "\n",
    "# Calculate performance metrics\n",
    "pd.DataFrame(pd.Series(get_metrics(full_pipeline_rf, y_pred_rf_untuned)), columns=['metrics rf untuned'])"
   ]
  },
  {
   "cell_type": "markdown",
   "id": "ae4bd4b3",
   "metadata": {},
   "source": [
    "Obviously, the random forest model is severely overfitted with an accuracy of 1 on training data and 0.85 on validation data. We have to conduct hyperparameter tuning on it to tackle overfitting by constraining the `max_features` and `max_depth` parameter with the help of randomized search to reduce model complexity and thus reduce variance."
   ]
  },
  {
   "cell_type": "code",
   "execution_count": 52,
   "id": "e35b3e04",
   "metadata": {},
   "outputs": [
    {
     "data": {
      "text/html": [
       "<style>#sk-container-id-6 {color: black;background-color: white;}#sk-container-id-6 pre{padding: 0;}#sk-container-id-6 div.sk-toggleable {background-color: white;}#sk-container-id-6 label.sk-toggleable__label {cursor: pointer;display: block;width: 100%;margin-bottom: 0;padding: 0.3em;box-sizing: border-box;text-align: center;}#sk-container-id-6 label.sk-toggleable__label-arrow:before {content: \"▸\";float: left;margin-right: 0.25em;color: #696969;}#sk-container-id-6 label.sk-toggleable__label-arrow:hover:before {color: black;}#sk-container-id-6 div.sk-estimator:hover label.sk-toggleable__label-arrow:before {color: black;}#sk-container-id-6 div.sk-toggleable__content {max-height: 0;max-width: 0;overflow: hidden;text-align: left;background-color: #f0f8ff;}#sk-container-id-6 div.sk-toggleable__content pre {margin: 0.2em;color: black;border-radius: 0.25em;background-color: #f0f8ff;}#sk-container-id-6 input.sk-toggleable__control:checked~div.sk-toggleable__content {max-height: 200px;max-width: 100%;overflow: auto;}#sk-container-id-6 input.sk-toggleable__control:checked~label.sk-toggleable__label-arrow:before {content: \"▾\";}#sk-container-id-6 div.sk-estimator input.sk-toggleable__control:checked~label.sk-toggleable__label {background-color: #d4ebff;}#sk-container-id-6 div.sk-label input.sk-toggleable__control:checked~label.sk-toggleable__label {background-color: #d4ebff;}#sk-container-id-6 input.sk-hidden--visually {border: 0;clip: rect(1px 1px 1px 1px);clip: rect(1px, 1px, 1px, 1px);height: 1px;margin: -1px;overflow: hidden;padding: 0;position: absolute;width: 1px;}#sk-container-id-6 div.sk-estimator {font-family: monospace;background-color: #f0f8ff;border: 1px dotted black;border-radius: 0.25em;box-sizing: border-box;margin-bottom: 0.5em;}#sk-container-id-6 div.sk-estimator:hover {background-color: #d4ebff;}#sk-container-id-6 div.sk-parallel-item::after {content: \"\";width: 100%;border-bottom: 1px solid gray;flex-grow: 1;}#sk-container-id-6 div.sk-label:hover label.sk-toggleable__label {background-color: #d4ebff;}#sk-container-id-6 div.sk-serial::before {content: \"\";position: absolute;border-left: 1px solid gray;box-sizing: border-box;top: 0;bottom: 0;left: 50%;z-index: 0;}#sk-container-id-6 div.sk-serial {display: flex;flex-direction: column;align-items: center;background-color: white;padding-right: 0.2em;padding-left: 0.2em;position: relative;}#sk-container-id-6 div.sk-item {position: relative;z-index: 1;}#sk-container-id-6 div.sk-parallel {display: flex;align-items: stretch;justify-content: center;background-color: white;position: relative;}#sk-container-id-6 div.sk-item::before, #sk-container-id-6 div.sk-parallel-item::before {content: \"\";position: absolute;border-left: 1px solid gray;box-sizing: border-box;top: 0;bottom: 0;left: 50%;z-index: -1;}#sk-container-id-6 div.sk-parallel-item {display: flex;flex-direction: column;z-index: 1;position: relative;background-color: white;}#sk-container-id-6 div.sk-parallel-item:first-child::after {align-self: flex-end;width: 50%;}#sk-container-id-6 div.sk-parallel-item:last-child::after {align-self: flex-start;width: 50%;}#sk-container-id-6 div.sk-parallel-item:only-child::after {width: 0;}#sk-container-id-6 div.sk-dashed-wrapped {border: 1px dashed gray;margin: 0 0.4em 0.5em 0.4em;box-sizing: border-box;padding-bottom: 0.4em;background-color: white;}#sk-container-id-6 div.sk-label label {font-family: monospace;font-weight: bold;display: inline-block;line-height: 1.2em;}#sk-container-id-6 div.sk-label-container {text-align: center;}#sk-container-id-6 div.sk-container {/* jupyter's `normalize.less` sets `[hidden] { display: none; }` but bootstrap.min.css set `[hidden] { display: none !important; }` so we also need the `!important` here to be able to override the default hidden behavior on the sphinx rendered scikit-learn.org. See: https://github.com/scikit-learn/scikit-learn/issues/21755 */display: inline-block !important;position: relative;}#sk-container-id-6 div.sk-text-repr-fallback {display: none;}</style><div id=\"sk-container-id-6\" class=\"sk-top-container\"><div class=\"sk-text-repr-fallback\"><pre>RandomizedSearchCV(cv=5,\n",
       "                   estimator=Pipeline(steps=[(&#x27;preprocessing&#x27;,\n",
       "                                              ColumnTransformer(remainder=StandardScaler(),\n",
       "                                                                transformers=[(&#x27;cat&#x27;,\n",
       "                                                                               OneHotEncoder(handle_unknown=&#x27;ignore&#x27;,\n",
       "                                                                                             sparse_output=False),\n",
       "                                                                               &lt;sklearn.compose._column_transformer.make_column_selector object at 0x16c6761a0&gt;),\n",
       "                                                                              (&#x27;log&#x27;,\n",
       "                                                                               Pipeline(steps=[(&#x27;functiontransformer&#x27;,\n",
       "                                                                                                FunctionTransformer(feature_names...\n",
       "                                                                                                StandardScaler())]),\n",
       "                                                                               [&#x27;CAge&#x27;])],\n",
       "                                                                verbose_feature_names_out=False)),\n",
       "                                             (&#x27;forest&#x27;,\n",
       "                                              RandomForestClassifier(random_state=42))]),\n",
       "                   n_jobs=-1,\n",
       "                   param_distributions={&#x27;forest__max_depth&#x27;: &lt;scipy.stats._distn_infrastructure.rv_discrete_frozen object at 0x17797ff70&gt;,\n",
       "                                        &#x27;forest__max_features&#x27;: &lt;scipy.stats._distn_infrastructure.rv_discrete_frozen object at 0x175374a30&gt;},\n",
       "                   random_state=42)</pre><b>In a Jupyter environment, please rerun this cell to show the HTML representation or trust the notebook. <br />On GitHub, the HTML representation is unable to render, please try loading this page with nbviewer.org.</b></div><div class=\"sk-container\" hidden><div class=\"sk-item sk-dashed-wrapped\"><div class=\"sk-label-container\"><div class=\"sk-label sk-toggleable\"><input class=\"sk-toggleable__control sk-hidden--visually\" id=\"sk-estimator-id-52\" type=\"checkbox\" ><label for=\"sk-estimator-id-52\" class=\"sk-toggleable__label sk-toggleable__label-arrow\">RandomizedSearchCV</label><div class=\"sk-toggleable__content\"><pre>RandomizedSearchCV(cv=5,\n",
       "                   estimator=Pipeline(steps=[(&#x27;preprocessing&#x27;,\n",
       "                                              ColumnTransformer(remainder=StandardScaler(),\n",
       "                                                                transformers=[(&#x27;cat&#x27;,\n",
       "                                                                               OneHotEncoder(handle_unknown=&#x27;ignore&#x27;,\n",
       "                                                                                             sparse_output=False),\n",
       "                                                                               &lt;sklearn.compose._column_transformer.make_column_selector object at 0x16c6761a0&gt;),\n",
       "                                                                              (&#x27;log&#x27;,\n",
       "                                                                               Pipeline(steps=[(&#x27;functiontransformer&#x27;,\n",
       "                                                                                                FunctionTransformer(feature_names...\n",
       "                                                                                                StandardScaler())]),\n",
       "                                                                               [&#x27;CAge&#x27;])],\n",
       "                                                                verbose_feature_names_out=False)),\n",
       "                                             (&#x27;forest&#x27;,\n",
       "                                              RandomForestClassifier(random_state=42))]),\n",
       "                   n_jobs=-1,\n",
       "                   param_distributions={&#x27;forest__max_depth&#x27;: &lt;scipy.stats._distn_infrastructure.rv_discrete_frozen object at 0x17797ff70&gt;,\n",
       "                                        &#x27;forest__max_features&#x27;: &lt;scipy.stats._distn_infrastructure.rv_discrete_frozen object at 0x175374a30&gt;},\n",
       "                   random_state=42)</pre></div></div></div><div class=\"sk-parallel\"><div class=\"sk-parallel-item\"><div class=\"sk-item\"><div class=\"sk-label-container\"><div class=\"sk-label sk-toggleable\"><input class=\"sk-toggleable__control sk-hidden--visually\" id=\"sk-estimator-id-53\" type=\"checkbox\" ><label for=\"sk-estimator-id-53\" class=\"sk-toggleable__label sk-toggleable__label-arrow\">estimator: Pipeline</label><div class=\"sk-toggleable__content\"><pre>Pipeline(steps=[(&#x27;preprocessing&#x27;,\n",
       "                 ColumnTransformer(remainder=StandardScaler(),\n",
       "                                   transformers=[(&#x27;cat&#x27;,\n",
       "                                                  OneHotEncoder(handle_unknown=&#x27;ignore&#x27;,\n",
       "                                                                sparse_output=False),\n",
       "                                                  &lt;sklearn.compose._column_transformer.make_column_selector object at 0x16c6761a0&gt;),\n",
       "                                                 (&#x27;log&#x27;,\n",
       "                                                  Pipeline(steps=[(&#x27;functiontransformer&#x27;,\n",
       "                                                                   FunctionTransformer(feature_names_out=&#x27;one-to-one&#x27;,\n",
       "                                                                                       func=&lt;ufunc &#x27;log&#x27;&gt;)),\n",
       "                                                                  (&#x27;standardscaler&#x27;,\n",
       "                                                                   StandardScaler())]),\n",
       "                                                  [&#x27;CAge&#x27;])],\n",
       "                                   verbose_feature_names_out=False)),\n",
       "                (&#x27;forest&#x27;, RandomForestClassifier(random_state=42))])</pre></div></div></div><div class=\"sk-serial\"><div class=\"sk-item\"><div class=\"sk-serial\"><div class=\"sk-item sk-dashed-wrapped\"><div class=\"sk-label-container\"><div class=\"sk-label sk-toggleable\"><input class=\"sk-toggleable__control sk-hidden--visually\" id=\"sk-estimator-id-54\" type=\"checkbox\" ><label for=\"sk-estimator-id-54\" class=\"sk-toggleable__label sk-toggleable__label-arrow\">preprocessing: ColumnTransformer</label><div class=\"sk-toggleable__content\"><pre>ColumnTransformer(remainder=StandardScaler(),\n",
       "                  transformers=[(&#x27;cat&#x27;,\n",
       "                                 OneHotEncoder(handle_unknown=&#x27;ignore&#x27;,\n",
       "                                               sparse_output=False),\n",
       "                                 &lt;sklearn.compose._column_transformer.make_column_selector object at 0x16c6761a0&gt;),\n",
       "                                (&#x27;log&#x27;,\n",
       "                                 Pipeline(steps=[(&#x27;functiontransformer&#x27;,\n",
       "                                                  FunctionTransformer(feature_names_out=&#x27;one-to-one&#x27;,\n",
       "                                                                      func=&lt;ufunc &#x27;log&#x27;&gt;)),\n",
       "                                                 (&#x27;standardscaler&#x27;,\n",
       "                                                  StandardScaler())]),\n",
       "                                 [&#x27;CAge&#x27;])],\n",
       "                  verbose_feature_names_out=False)</pre></div></div></div><div class=\"sk-parallel\"><div class=\"sk-parallel-item\"><div class=\"sk-item\"><div class=\"sk-label-container\"><div class=\"sk-label sk-toggleable\"><input class=\"sk-toggleable__control sk-hidden--visually\" id=\"sk-estimator-id-55\" type=\"checkbox\" ><label for=\"sk-estimator-id-55\" class=\"sk-toggleable__label sk-toggleable__label-arrow\">cat</label><div class=\"sk-toggleable__content\"><pre>&lt;sklearn.compose._column_transformer.make_column_selector object at 0x16c6761a0&gt;</pre></div></div></div><div class=\"sk-serial\"><div class=\"sk-item\"><div class=\"sk-estimator sk-toggleable\"><input class=\"sk-toggleable__control sk-hidden--visually\" id=\"sk-estimator-id-56\" type=\"checkbox\" ><label for=\"sk-estimator-id-56\" class=\"sk-toggleable__label sk-toggleable__label-arrow\">OneHotEncoder</label><div class=\"sk-toggleable__content\"><pre>OneHotEncoder(handle_unknown=&#x27;ignore&#x27;, sparse_output=False)</pre></div></div></div></div></div></div><div class=\"sk-parallel-item\"><div class=\"sk-item\"><div class=\"sk-label-container\"><div class=\"sk-label sk-toggleable\"><input class=\"sk-toggleable__control sk-hidden--visually\" id=\"sk-estimator-id-57\" type=\"checkbox\" ><label for=\"sk-estimator-id-57\" class=\"sk-toggleable__label sk-toggleable__label-arrow\">log</label><div class=\"sk-toggleable__content\"><pre>[&#x27;CAge&#x27;]</pre></div></div></div><div class=\"sk-serial\"><div class=\"sk-item\"><div class=\"sk-serial\"><div class=\"sk-item\"><div class=\"sk-estimator sk-toggleable\"><input class=\"sk-toggleable__control sk-hidden--visually\" id=\"sk-estimator-id-58\" type=\"checkbox\" ><label for=\"sk-estimator-id-58\" class=\"sk-toggleable__label sk-toggleable__label-arrow\">FunctionTransformer</label><div class=\"sk-toggleable__content\"><pre>FunctionTransformer(feature_names_out=&#x27;one-to-one&#x27;, func=&lt;ufunc &#x27;log&#x27;&gt;)</pre></div></div></div><div class=\"sk-item\"><div class=\"sk-estimator sk-toggleable\"><input class=\"sk-toggleable__control sk-hidden--visually\" id=\"sk-estimator-id-59\" type=\"checkbox\" ><label for=\"sk-estimator-id-59\" class=\"sk-toggleable__label sk-toggleable__label-arrow\">StandardScaler</label><div class=\"sk-toggleable__content\"><pre>StandardScaler()</pre></div></div></div></div></div></div></div></div><div class=\"sk-parallel-item\"><div class=\"sk-item\"><div class=\"sk-label-container\"><div class=\"sk-label sk-toggleable\"><input class=\"sk-toggleable__control sk-hidden--visually\" id=\"sk-estimator-id-60\" type=\"checkbox\" ><label for=\"sk-estimator-id-60\" class=\"sk-toggleable__label sk-toggleable__label-arrow\">remainder</label><div class=\"sk-toggleable__content\"><pre>[&#x27;CCreditScore&#x27;, &#x27;CTenure&#x27;, &#x27;CBalance&#x27;, &#x27;CNumOfProducts&#x27;, &#x27;CEstimatedSalary&#x27;]</pre></div></div></div><div class=\"sk-serial\"><div class=\"sk-item\"><div class=\"sk-estimator sk-toggleable\"><input class=\"sk-toggleable__control sk-hidden--visually\" id=\"sk-estimator-id-61\" type=\"checkbox\" ><label for=\"sk-estimator-id-61\" class=\"sk-toggleable__label sk-toggleable__label-arrow\">StandardScaler</label><div class=\"sk-toggleable__content\"><pre>StandardScaler()</pre></div></div></div></div></div></div></div></div><div class=\"sk-item\"><div class=\"sk-estimator sk-toggleable\"><input class=\"sk-toggleable__control sk-hidden--visually\" id=\"sk-estimator-id-62\" type=\"checkbox\" ><label for=\"sk-estimator-id-62\" class=\"sk-toggleable__label sk-toggleable__label-arrow\">RandomForestClassifier</label><div class=\"sk-toggleable__content\"><pre>RandomForestClassifier(random_state=42)</pre></div></div></div></div></div></div></div></div></div></div></div></div>"
      ],
      "text/plain": [
       "RandomizedSearchCV(cv=5,\n",
       "                   estimator=Pipeline(steps=[('preprocessing',\n",
       "                                              ColumnTransformer(remainder=StandardScaler(),\n",
       "                                                                transformers=[('cat',\n",
       "                                                                               OneHotEncoder(handle_unknown='ignore',\n",
       "                                                                                             sparse_output=False),\n",
       "                                                                               <sklearn.compose._column_transformer.make_column_selector object at 0x16c6761a0>),\n",
       "                                                                              ('log',\n",
       "                                                                               Pipeline(steps=[('functiontransformer',\n",
       "                                                                                                FunctionTransformer(feature_names...\n",
       "                                                                                                StandardScaler())]),\n",
       "                                                                               ['CAge'])],\n",
       "                                                                verbose_feature_names_out=False)),\n",
       "                                             ('forest',\n",
       "                                              RandomForestClassifier(random_state=42))]),\n",
       "                   n_jobs=-1,\n",
       "                   param_distributions={'forest__max_depth': <scipy.stats._distn_infrastructure.rv_discrete_frozen object at 0x17797ff70>,\n",
       "                                        'forest__max_features': <scipy.stats._distn_infrastructure.rv_discrete_frozen object at 0x175374a30>},\n",
       "                   random_state=42)"
      ]
     },
     "execution_count": 52,
     "metadata": {},
     "output_type": "execute_result"
    }
   ],
   "source": [
    "param_distribs = {\n",
    "    'forest__max_features': stats.randint(2, 16),\n",
    "    'forest__max_depth': stats.randint(1, 7)\n",
    "}\n",
    "\n",
    "random_search_cv_rf = RandomizedSearchCV(full_pipeline_rf, param_distribs, \n",
    "                                       n_iter=10, cv=5, n_jobs=-1, random_state=SEED)\n",
    "random_search_cv_rf.fit(X_train, y_train)"
   ]
  },
  {
   "cell_type": "code",
   "execution_count": 53,
   "id": "4df48273",
   "metadata": {},
   "outputs": [
    {
     "data": {
      "text/plain": [
       "{'forest__max_depth': 5, 'forest__max_features': 5}"
      ]
     },
     "execution_count": 53,
     "metadata": {},
     "output_type": "execute_result"
    }
   ],
   "source": [
    "#the best hyperparameters\n",
    "random_search_cv_rf.best_params_"
   ]
  },
  {
   "cell_type": "markdown",
   "id": "8053eefb",
   "metadata": {},
   "source": [
    "Now that we can get our finally optimized random forest model with its best hyperparameters, we can access the best estimator using `best_estimator_`. We can then evaluate the performance of the final model as we did in task 2."
   ]
  },
  {
   "cell_type": "code",
   "execution_count": 54,
   "id": "038703f9",
   "metadata": {},
   "outputs": [],
   "source": [
    "final_rf = random_search_cv_rf.best_estimator_"
   ]
  },
  {
   "cell_type": "code",
   "execution_count": 55,
   "id": "0d5cab7e",
   "metadata": {},
   "outputs": [
    {
     "data": {
      "text/html": [
       "<div>\n",
       "<style scoped>\n",
       "    .dataframe tbody tr th:only-of-type {\n",
       "        vertical-align: middle;\n",
       "    }\n",
       "\n",
       "    .dataframe tbody tr th {\n",
       "        vertical-align: top;\n",
       "    }\n",
       "\n",
       "    .dataframe thead th {\n",
       "        text-align: right;\n",
       "    }\n",
       "</style>\n",
       "<table border=\"1\" class=\"dataframe\">\n",
       "  <thead>\n",
       "    <tr style=\"text-align: right;\">\n",
       "      <th></th>\n",
       "      <th>metrics tree</th>\n",
       "      <th>metrics knn</th>\n",
       "      <th>metrics gnb</th>\n",
       "      <th>metrics knn best</th>\n",
       "      <th>metrics final tree</th>\n",
       "      <th>metrics final random forest</th>\n",
       "    </tr>\n",
       "  </thead>\n",
       "  <tbody>\n",
       "    <tr>\n",
       "      <th>accuracy_train</th>\n",
       "      <td>0.822660</td>\n",
       "      <td>0.871772</td>\n",
       "      <td>0.811315</td>\n",
       "      <td>0.850575</td>\n",
       "      <td>0.848186</td>\n",
       "      <td>0.859083</td>\n",
       "    </tr>\n",
       "    <tr>\n",
       "      <th>accuracy_valid</th>\n",
       "      <td>0.822661</td>\n",
       "      <td>0.825496</td>\n",
       "      <td>0.811165</td>\n",
       "      <td>0.838185</td>\n",
       "      <td>0.851173</td>\n",
       "      <td>0.853561</td>\n",
       "    </tr>\n",
       "    <tr>\n",
       "      <th>precision_train</th>\n",
       "      <td>0.636020</td>\n",
       "      <td>0.788971</td>\n",
       "      <td>0.570707</td>\n",
       "      <td>0.803008</td>\n",
       "      <td>0.754271</td>\n",
       "      <td>0.826705</td>\n",
       "    </tr>\n",
       "    <tr>\n",
       "      <th>precision_valid</th>\n",
       "      <td>0.692462</td>\n",
       "      <td>0.632144</td>\n",
       "      <td>0.571498</td>\n",
       "      <td>0.768664</td>\n",
       "      <td>0.749444</td>\n",
       "      <td>0.801761</td>\n",
       "    </tr>\n",
       "    <tr>\n",
       "      <th>recall_train</th>\n",
       "      <td>0.359687</td>\n",
       "      <td>0.529915</td>\n",
       "      <td>0.402422</td>\n",
       "      <td>0.380342</td>\n",
       "      <td>0.408832</td>\n",
       "      <td>0.414530</td>\n",
       "    </tr>\n",
       "    <tr>\n",
       "      <th>recall_valid</th>\n",
       "      <td>0.286360</td>\n",
       "      <td>0.401007</td>\n",
       "      <td>0.401713</td>\n",
       "      <td>0.326924</td>\n",
       "      <td>0.437331</td>\n",
       "      <td>0.403142</td>\n",
       "    </tr>\n",
       "    <tr>\n",
       "      <th>f1_train</th>\n",
       "      <td>0.459509</td>\n",
       "      <td>0.634001</td>\n",
       "      <td>0.472013</td>\n",
       "      <td>0.516191</td>\n",
       "      <td>0.530254</td>\n",
       "      <td>0.552182</td>\n",
       "    </tr>\n",
       "    <tr>\n",
       "      <th>f1_valid</th>\n",
       "      <td>0.397881</td>\n",
       "      <td>0.490597</td>\n",
       "      <td>0.471333</td>\n",
       "      <td>0.458555</td>\n",
       "      <td>0.551771</td>\n",
       "      <td>0.535624</td>\n",
       "    </tr>\n",
       "    <tr>\n",
       "      <th>auc_train</th>\n",
       "      <td>0.652553</td>\n",
       "      <td>0.746166</td>\n",
       "      <td>0.661079</td>\n",
       "      <td>0.677801</td>\n",
       "      <td>0.686758</td>\n",
       "      <td>0.695745</td>\n",
       "    </tr>\n",
       "    <tr>\n",
       "      <th>auc_valid</th>\n",
       "      <td>0.793315</td>\n",
       "      <td>0.775113</td>\n",
       "      <td>0.789602</td>\n",
       "      <td>0.829730</td>\n",
       "      <td>0.808483</td>\n",
       "      <td>0.852077</td>\n",
       "    </tr>\n",
       "  </tbody>\n",
       "</table>\n",
       "</div>"
      ],
      "text/plain": [
       "                 metrics tree  metrics knn  metrics gnb  metrics knn best  \\\n",
       "accuracy_train       0.822660     0.871772     0.811315          0.850575   \n",
       "accuracy_valid       0.822661     0.825496     0.811165          0.838185   \n",
       "precision_train      0.636020     0.788971     0.570707          0.803008   \n",
       "precision_valid      0.692462     0.632144     0.571498          0.768664   \n",
       "recall_train         0.359687     0.529915     0.402422          0.380342   \n",
       "recall_valid         0.286360     0.401007     0.401713          0.326924   \n",
       "f1_train             0.459509     0.634001     0.472013          0.516191   \n",
       "f1_valid             0.397881     0.490597     0.471333          0.458555   \n",
       "auc_train            0.652553     0.746166     0.661079          0.677801   \n",
       "auc_valid            0.793315     0.775113     0.789602          0.829730   \n",
       "\n",
       "                 metrics final tree  metrics final random forest  \n",
       "accuracy_train             0.848186                     0.859083  \n",
       "accuracy_valid             0.851173                     0.853561  \n",
       "precision_train            0.754271                     0.826705  \n",
       "precision_valid            0.749444                     0.801761  \n",
       "recall_train               0.408832                     0.414530  \n",
       "recall_valid               0.437331                     0.403142  \n",
       "f1_train                   0.530254                     0.552182  \n",
       "f1_valid                   0.551771                     0.535624  \n",
       "auc_train                  0.686758                     0.695745  \n",
       "auc_valid                  0.808483                     0.852077  "
      ]
     },
     "execution_count": 55,
     "metadata": {},
     "output_type": "execute_result"
    }
   ],
   "source": [
    "#evaluate the final model\n",
    "#predict the label for train dataset\n",
    "y_pred_rf = final_rf.predict(X_train)\n",
    "\n",
    "# Calculate performance metrics\n",
    "metrics_final_rf = pd.DataFrame(pd.Series(get_metrics(final_rf, y_pred_rf)), columns=['metrics final random forest'])\n",
    "\n",
    "metrics_compare_03 = pd.concat([metrics_compare_02, metrics_final_rf], axis=1)\n",
    "metrics_compare_03"
   ]
  },
  {
   "cell_type": "markdown",
   "id": "7912b896",
   "metadata": {},
   "source": [
    "Let's also display the confusion matrices of the decision tree and random forest:"
   ]
  },
  {
   "cell_type": "code",
   "execution_count": 56,
   "id": "b46e4b28",
   "metadata": {},
   "outputs": [
    {
     "data": {
      "image/png": "[encoded data removed]",
      "text/plain": [
       "<Figure size 1200x400 with 4 Axes>"
      ]
     },
     "metadata": {},
     "output_type": "display_data"
    }
   ],
   "source": [
    "#get the \"out-of-sample\" predictions\n",
    "pred_train_rf = cross_val_predict(final_rf, X_train, y_train, cv=5, n_jobs=1)\n",
    "\n",
    "fig, axs = plt.subplots(1, 2, figsize=(12, 4))\n",
    "ConfusionMatrixDisplay.from_predictions(y_train, pred_train_final_tree, ax=axs[0])\n",
    "ConfusionMatrixDisplay.from_predictions(y_train, pred_train_rf, ax=axs[1])\n",
    "axs[0].set_title('Decision Tree on Training Set')\n",
    "axs[1].set_title('Random Forest On Training Set')\n",
    "\n",
    "plt.show()"
   ]
  },
  {
   "cell_type": "markdown",
   "id": "1f8eb412",
   "metadata": {},
   "source": [
    "Both the list of the performance metrics and the confusion matrix indicate that the accuracy score on both training and validation data of our finally tuned random forest model is better than the decision tree. Our model's performance get further improved after the tuning, overfitting is no more a problem."
   ]
  },
  {
   "cell_type": "markdown",
   "id": "7058ddad",
   "metadata": {},
   "source": [
    "Now we are confident to check the final model's performance on the test set and display the results together with the results from task 2:"
   ]
  },
  {
   "cell_type": "code",
   "execution_count": 57,
   "id": "b8a4ea69",
   "metadata": {},
   "outputs": [
    {
     "data": {
      "text/html": [
       "<div>\n",
       "<style scoped>\n",
       "    .dataframe tbody tr th:only-of-type {\n",
       "        vertical-align: middle;\n",
       "    }\n",
       "\n",
       "    .dataframe tbody tr th {\n",
       "        vertical-align: top;\n",
       "    }\n",
       "\n",
       "    .dataframe thead th {\n",
       "        text-align: right;\n",
       "    }\n",
       "</style>\n",
       "<table border=\"1\" class=\"dataframe\">\n",
       "  <thead>\n",
       "    <tr style=\"text-align: right;\">\n",
       "      <th></th>\n",
       "      <th>decision tree test data perform</th>\n",
       "      <th>random forest test data perform</th>\n",
       "    </tr>\n",
       "  </thead>\n",
       "  <tbody>\n",
       "    <tr>\n",
       "      <th>accuracy_test</th>\n",
       "      <td>0.853636</td>\n",
       "      <td>0.866061</td>\n",
       "    </tr>\n",
       "    <tr>\n",
       "      <th>precision_test</th>\n",
       "      <td>0.730650</td>\n",
       "      <td>0.802548</td>\n",
       "    </tr>\n",
       "    <tr>\n",
       "      <th>recall_test</th>\n",
       "      <td>0.373418</td>\n",
       "      <td>0.398734</td>\n",
       "    </tr>\n",
       "    <tr>\n",
       "      <th>f1</th>\n",
       "      <td>0.494241</td>\n",
       "      <td>0.532770</td>\n",
       "    </tr>\n",
       "  </tbody>\n",
       "</table>\n",
       "</div>"
      ],
      "text/plain": [
       "                decision tree test data perform  \\\n",
       "accuracy_test                          0.853636   \n",
       "precision_test                         0.730650   \n",
       "recall_test                            0.373418   \n",
       "f1                                     0.494241   \n",
       "\n",
       "                random forest test data perform  \n",
       "accuracy_test                          0.866061  \n",
       "precision_test                         0.802548  \n",
       "recall_test                            0.398734  \n",
       "f1                                     0.532770  "
      ]
     },
     "execution_count": 57,
     "metadata": {},
     "output_type": "execute_result"
    }
   ],
   "source": [
    "pred_test_final_rf = final_rf.predict(X_test)\n",
    "\n",
    "# Calculate the metrics on the test set\n",
    "metrics_test_rf = {\n",
    "    'accuracy_test': accuracy_score(y_test, pred_test_final_rf),\n",
    "    'precision_test': precision_score(y_test, pred_test_final_rf),\n",
    "    'recall_test': recall_score(y_test, pred_test_final_rf),\n",
    "    'f1': f1_score(y_test, pred_test_final_rf)\n",
    "}\n",
    "metrics_test_rf = pd.DataFrame(pd.Series(metrics_test_rf), columns=['random forest test data perform'])\n",
    "\n",
    "metrics_compare_test_final = pd.concat([metrics_test_tree, metrics_test_rf], axis=1)\n",
    "metrics_compare_test_final"
   ]
  },
  {
   "cell_type": "markdown",
   "id": "70144add",
   "metadata": {},
   "source": [
    "We can see that all of the four performance metrics get improved with the random forest model. Also, let's display the confusion matrices of both model's outputs on the test dataset:"
   ]
  },
  {
   "cell_type": "code",
   "execution_count": 58,
   "id": "edc3740d",
   "metadata": {},
   "outputs": [
    {
     "data": {
      "image/png": "[encoded data removed]",
      "text/plain": [
       "<Figure size 1200x400 with 4 Axes>"
      ]
     },
     "metadata": {},
     "output_type": "display_data"
    }
   ],
   "source": [
    "fig, axs = plt.subplots(1, 2, figsize=(12, 4))\n",
    "ConfusionMatrixDisplay.from_predictions(y_test, pred_test_final_tree, ax=axs[0])\n",
    "ConfusionMatrixDisplay.from_predictions(y_test, pred_test_final_rf, ax=axs[1])\n",
    "axs[0].set_title('Decision Tree on Test Set')\n",
    "axs[1].set_title('Random Forest On Test Set')\n",
    "\n",
    "plt.show()"
   ]
  },
  {
   "cell_type": "markdown",
   "id": "d2341d5f",
   "metadata": {},
   "source": [
    "With more instances classified correctly, our random forest model also outperforms the decision tree model on the test set. \n",
    "\n",
    "Lastly, let's also compare the auc score of these models on test set:"
   ]
  },
  {
   "cell_type": "code",
   "execution_count": 59,
   "id": "e5d8108a",
   "metadata": {},
   "outputs": [
    {
     "name": "stdout",
     "output_type": "stream",
     "text": [
      "Decision Tree - Area Under Curve: 0.6704045129334066\n",
      "Random Forest - Area Under Curve: 0.6877478982027974\n"
     ]
    }
   ],
   "source": [
    "#Compute the area under ROC curve\n",
    "print(\"Decision Tree - Area Under Curve:\", roc_auc_score(y_test, pred_test_final_tree))\n",
    "print(\"Random Forest - Area Under Curve:\", roc_auc_score(y_test, pred_test_final_rf))"
   ]
  },
  {
   "cell_type": "markdown",
   "id": "59286293",
   "metadata": {},
   "source": [
    "To conclude, random forest has the best model performance. We finally select the random forest as our machine learning model to deploy in production."
   ]
  },
  {
   "cell_type": "markdown",
   "id": "36257024",
   "metadata": {},
   "source": [
    "## Further thoughts\n",
    "So far, we have selected our final model to launch, which achieved good performance as far as accuracy score is concerned. But if we look at the recall scores of our model on training and test set, they are just around 40%, meaning that the ability of our model to detect positives is limited. Let's think one step further: imagine that as our startup grows and makes more profit, the leadership of the company would emphasize the ability of our model to identify churned customers in the future and thus decides to allocate enough resources into marketing activities to prevent customers from leaving, even at the cost of identifying customers who are actually not leaving as disloyal, i.e., the company is willing to take the risk of getting more false positives. In that case, our current model's recall is too low for this business purpose, so it would be nice that we have a \"back-up model\" - a modified version of our final model that satisfies this potential business requirement. Let's assume that our boss would be happy to have a model that delivers roughly 75% recall.\n",
    "\n",
    "One approach is to try further optimization on our model's hyperparameters to see if recall score could be improved. To let `RandomizedSearchCV` focus more on by recall score, we will apply multiple metric evaluation, where we set the parameter **\"refit='recall'\"** to denote the scorer, i.e. \"recall rate\", would be used to find the best parameters for refitting the estimator at the end. Let's see if this works:"
   ]
  },
  {
   "cell_type": "code",
   "execution_count": 60,
   "id": "3a38efa3",
   "metadata": {},
   "outputs": [
    {
     "data": {
      "text/html": [
       "<style>#sk-container-id-7 {color: black;background-color: white;}#sk-container-id-7 pre{padding: 0;}#sk-container-id-7 div.sk-toggleable {background-color: white;}#sk-container-id-7 label.sk-toggleable__label {cursor: pointer;display: block;width: 100%;margin-bottom: 0;padding: 0.3em;box-sizing: border-box;text-align: center;}#sk-container-id-7 label.sk-toggleable__label-arrow:before {content: \"▸\";float: left;margin-right: 0.25em;color: #696969;}#sk-container-id-7 label.sk-toggleable__label-arrow:hover:before {color: black;}#sk-container-id-7 div.sk-estimator:hover label.sk-toggleable__label-arrow:before {color: black;}#sk-container-id-7 div.sk-toggleable__content {max-height: 0;max-width: 0;overflow: hidden;text-align: left;background-color: #f0f8ff;}#sk-container-id-7 div.sk-toggleable__content pre {margin: 0.2em;color: black;border-radius: 0.25em;background-color: #f0f8ff;}#sk-container-id-7 input.sk-toggleable__control:checked~div.sk-toggleable__content {max-height: 200px;max-width: 100%;overflow: auto;}#sk-container-id-7 input.sk-toggleable__control:checked~label.sk-toggleable__label-arrow:before {content: \"▾\";}#sk-container-id-7 div.sk-estimator input.sk-toggleable__control:checked~label.sk-toggleable__label {background-color: #d4ebff;}#sk-container-id-7 div.sk-label input.sk-toggleable__control:checked~label.sk-toggleable__label {background-color: #d4ebff;}#sk-container-id-7 input.sk-hidden--visually {border: 0;clip: rect(1px 1px 1px 1px);clip: rect(1px, 1px, 1px, 1px);height: 1px;margin: -1px;overflow: hidden;padding: 0;position: absolute;width: 1px;}#sk-container-id-7 div.sk-estimator {font-family: monospace;background-color: #f0f8ff;border: 1px dotted black;border-radius: 0.25em;box-sizing: border-box;margin-bottom: 0.5em;}#sk-container-id-7 div.sk-estimator:hover {background-color: #d4ebff;}#sk-container-id-7 div.sk-parallel-item::after {content: \"\";width: 100%;border-bottom: 1px solid gray;flex-grow: 1;}#sk-container-id-7 div.sk-label:hover label.sk-toggleable__label {background-color: #d4ebff;}#sk-container-id-7 div.sk-serial::before {content: \"\";position: absolute;border-left: 1px solid gray;box-sizing: border-box;top: 0;bottom: 0;left: 50%;z-index: 0;}#sk-container-id-7 div.sk-serial {display: flex;flex-direction: column;align-items: center;background-color: white;padding-right: 0.2em;padding-left: 0.2em;position: relative;}#sk-container-id-7 div.sk-item {position: relative;z-index: 1;}#sk-container-id-7 div.sk-parallel {display: flex;align-items: stretch;justify-content: center;background-color: white;position: relative;}#sk-container-id-7 div.sk-item::before, #sk-container-id-7 div.sk-parallel-item::before {content: \"\";position: absolute;border-left: 1px solid gray;box-sizing: border-box;top: 0;bottom: 0;left: 50%;z-index: -1;}#sk-container-id-7 div.sk-parallel-item {display: flex;flex-direction: column;z-index: 1;position: relative;background-color: white;}#sk-container-id-7 div.sk-parallel-item:first-child::after {align-self: flex-end;width: 50%;}#sk-container-id-7 div.sk-parallel-item:last-child::after {align-self: flex-start;width: 50%;}#sk-container-id-7 div.sk-parallel-item:only-child::after {width: 0;}#sk-container-id-7 div.sk-dashed-wrapped {border: 1px dashed gray;margin: 0 0.4em 0.5em 0.4em;box-sizing: border-box;padding-bottom: 0.4em;background-color: white;}#sk-container-id-7 div.sk-label label {font-family: monospace;font-weight: bold;display: inline-block;line-height: 1.2em;}#sk-container-id-7 div.sk-label-container {text-align: center;}#sk-container-id-7 div.sk-container {/* jupyter's `normalize.less` sets `[hidden] { display: none; }` but bootstrap.min.css set `[hidden] { display: none !important; }` so we also need the `!important` here to be able to override the default hidden behavior on the sphinx rendered scikit-learn.org. See: https://github.com/scikit-learn/scikit-learn/issues/21755 */display: inline-block !important;position: relative;}#sk-container-id-7 div.sk-text-repr-fallback {display: none;}</style><div id=\"sk-container-id-7\" class=\"sk-top-container\"><div class=\"sk-text-repr-fallback\"><pre>RandomizedSearchCV(cv=5,\n",
       "                   estimator=Pipeline(steps=[(&#x27;preprocessing&#x27;,\n",
       "                                              ColumnTransformer(remainder=StandardScaler(),\n",
       "                                                                transformers=[(&#x27;cat&#x27;,\n",
       "                                                                               OneHotEncoder(handle_unknown=&#x27;ignore&#x27;,\n",
       "                                                                                             sparse_output=False),\n",
       "                                                                               &lt;sklearn.compose._column_transformer.make_column_selector object at 0x16c6761a0&gt;),\n",
       "                                                                              (&#x27;log&#x27;,\n",
       "                                                                               Pipeline(steps=[(&#x27;functiontransformer&#x27;,\n",
       "                                                                                                FunctionTransformer(feature_names...\n",
       "                   param_distributions={&#x27;forest__max_depth&#x27;: &lt;scipy.stats._distn_infrastructure.rv_discrete_frozen object at 0x177a860b0&gt;,\n",
       "                                        &#x27;forest__max_features&#x27;: &lt;scipy.stats._distn_infrastructure.rv_discrete_frozen object at 0x177a6db10&gt;},\n",
       "                   random_state=42, refit=&#x27;recall&#x27;,\n",
       "                   scoring={&#x27;accuracy&#x27;: make_scorer(accuracy_score),\n",
       "                            &#x27;precision&#x27;: make_scorer(precision_score),\n",
       "                            &#x27;recall&#x27;: make_scorer(recall_score)})</pre><b>In a Jupyter environment, please rerun this cell to show the HTML representation or trust the notebook. <br />On GitHub, the HTML representation is unable to render, please try loading this page with nbviewer.org.</b></div><div class=\"sk-container\" hidden><div class=\"sk-item sk-dashed-wrapped\"><div class=\"sk-label-container\"><div class=\"sk-label sk-toggleable\"><input class=\"sk-toggleable__control sk-hidden--visually\" id=\"sk-estimator-id-63\" type=\"checkbox\" ><label for=\"sk-estimator-id-63\" class=\"sk-toggleable__label sk-toggleable__label-arrow\">RandomizedSearchCV</label><div class=\"sk-toggleable__content\"><pre>RandomizedSearchCV(cv=5,\n",
       "                   estimator=Pipeline(steps=[(&#x27;preprocessing&#x27;,\n",
       "                                              ColumnTransformer(remainder=StandardScaler(),\n",
       "                                                                transformers=[(&#x27;cat&#x27;,\n",
       "                                                                               OneHotEncoder(handle_unknown=&#x27;ignore&#x27;,\n",
       "                                                                                             sparse_output=False),\n",
       "                                                                               &lt;sklearn.compose._column_transformer.make_column_selector object at 0x16c6761a0&gt;),\n",
       "                                                                              (&#x27;log&#x27;,\n",
       "                                                                               Pipeline(steps=[(&#x27;functiontransformer&#x27;,\n",
       "                                                                                                FunctionTransformer(feature_names...\n",
       "                   param_distributions={&#x27;forest__max_depth&#x27;: &lt;scipy.stats._distn_infrastructure.rv_discrete_frozen object at 0x177a860b0&gt;,\n",
       "                                        &#x27;forest__max_features&#x27;: &lt;scipy.stats._distn_infrastructure.rv_discrete_frozen object at 0x177a6db10&gt;},\n",
       "                   random_state=42, refit=&#x27;recall&#x27;,\n",
       "                   scoring={&#x27;accuracy&#x27;: make_scorer(accuracy_score),\n",
       "                            &#x27;precision&#x27;: make_scorer(precision_score),\n",
       "                            &#x27;recall&#x27;: make_scorer(recall_score)})</pre></div></div></div><div class=\"sk-parallel\"><div class=\"sk-parallel-item\"><div class=\"sk-item\"><div class=\"sk-label-container\"><div class=\"sk-label sk-toggleable\"><input class=\"sk-toggleable__control sk-hidden--visually\" id=\"sk-estimator-id-64\" type=\"checkbox\" ><label for=\"sk-estimator-id-64\" class=\"sk-toggleable__label sk-toggleable__label-arrow\">estimator: Pipeline</label><div class=\"sk-toggleable__content\"><pre>Pipeline(steps=[(&#x27;preprocessing&#x27;,\n",
       "                 ColumnTransformer(remainder=StandardScaler(),\n",
       "                                   transformers=[(&#x27;cat&#x27;,\n",
       "                                                  OneHotEncoder(handle_unknown=&#x27;ignore&#x27;,\n",
       "                                                                sparse_output=False),\n",
       "                                                  &lt;sklearn.compose._column_transformer.make_column_selector object at 0x16c6761a0&gt;),\n",
       "                                                 (&#x27;log&#x27;,\n",
       "                                                  Pipeline(steps=[(&#x27;functiontransformer&#x27;,\n",
       "                                                                   FunctionTransformer(feature_names_out=&#x27;one-to-one&#x27;,\n",
       "                                                                                       func=&lt;ufunc &#x27;log&#x27;&gt;)),\n",
       "                                                                  (&#x27;standardscaler&#x27;,\n",
       "                                                                   StandardScaler())]),\n",
       "                                                  [&#x27;CAge&#x27;])],\n",
       "                                   verbose_feature_names_out=False)),\n",
       "                (&#x27;forest&#x27;, RandomForestClassifier(random_state=42))])</pre></div></div></div><div class=\"sk-serial\"><div class=\"sk-item\"><div class=\"sk-serial\"><div class=\"sk-item sk-dashed-wrapped\"><div class=\"sk-label-container\"><div class=\"sk-label sk-toggleable\"><input class=\"sk-toggleable__control sk-hidden--visually\" id=\"sk-estimator-id-65\" type=\"checkbox\" ><label for=\"sk-estimator-id-65\" class=\"sk-toggleable__label sk-toggleable__label-arrow\">preprocessing: ColumnTransformer</label><div class=\"sk-toggleable__content\"><pre>ColumnTransformer(remainder=StandardScaler(),\n",
       "                  transformers=[(&#x27;cat&#x27;,\n",
       "                                 OneHotEncoder(handle_unknown=&#x27;ignore&#x27;,\n",
       "                                               sparse_output=False),\n",
       "                                 &lt;sklearn.compose._column_transformer.make_column_selector object at 0x16c6761a0&gt;),\n",
       "                                (&#x27;log&#x27;,\n",
       "                                 Pipeline(steps=[(&#x27;functiontransformer&#x27;,\n",
       "                                                  FunctionTransformer(feature_names_out=&#x27;one-to-one&#x27;,\n",
       "                                                                      func=&lt;ufunc &#x27;log&#x27;&gt;)),\n",
       "                                                 (&#x27;standardscaler&#x27;,\n",
       "                                                  StandardScaler())]),\n",
       "                                 [&#x27;CAge&#x27;])],\n",
       "                  verbose_feature_names_out=False)</pre></div></div></div><div class=\"sk-parallel\"><div class=\"sk-parallel-item\"><div class=\"sk-item\"><div class=\"sk-label-container\"><div class=\"sk-label sk-toggleable\"><input class=\"sk-toggleable__control sk-hidden--visually\" id=\"sk-estimator-id-66\" type=\"checkbox\" ><label for=\"sk-estimator-id-66\" class=\"sk-toggleable__label sk-toggleable__label-arrow\">cat</label><div class=\"sk-toggleable__content\"><pre>&lt;sklearn.compose._column_transformer.make_column_selector object at 0x16c6761a0&gt;</pre></div></div></div><div class=\"sk-serial\"><div class=\"sk-item\"><div class=\"sk-estimator sk-toggleable\"><input class=\"sk-toggleable__control sk-hidden--visually\" id=\"sk-estimator-id-67\" type=\"checkbox\" ><label for=\"sk-estimator-id-67\" class=\"sk-toggleable__label sk-toggleable__label-arrow\">OneHotEncoder</label><div class=\"sk-toggleable__content\"><pre>OneHotEncoder(handle_unknown=&#x27;ignore&#x27;, sparse_output=False)</pre></div></div></div></div></div></div><div class=\"sk-parallel-item\"><div class=\"sk-item\"><div class=\"sk-label-container\"><div class=\"sk-label sk-toggleable\"><input class=\"sk-toggleable__control sk-hidden--visually\" id=\"sk-estimator-id-68\" type=\"checkbox\" ><label for=\"sk-estimator-id-68\" class=\"sk-toggleable__label sk-toggleable__label-arrow\">log</label><div class=\"sk-toggleable__content\"><pre>[&#x27;CAge&#x27;]</pre></div></div></div><div class=\"sk-serial\"><div class=\"sk-item\"><div class=\"sk-serial\"><div class=\"sk-item\"><div class=\"sk-estimator sk-toggleable\"><input class=\"sk-toggleable__control sk-hidden--visually\" id=\"sk-estimator-id-69\" type=\"checkbox\" ><label for=\"sk-estimator-id-69\" class=\"sk-toggleable__label sk-toggleable__label-arrow\">FunctionTransformer</label><div class=\"sk-toggleable__content\"><pre>FunctionTransformer(feature_names_out=&#x27;one-to-one&#x27;, func=&lt;ufunc &#x27;log&#x27;&gt;)</pre></div></div></div><div class=\"sk-item\"><div class=\"sk-estimator sk-toggleable\"><input class=\"sk-toggleable__control sk-hidden--visually\" id=\"sk-estimator-id-70\" type=\"checkbox\" ><label for=\"sk-estimator-id-70\" class=\"sk-toggleable__label sk-toggleable__label-arrow\">StandardScaler</label><div class=\"sk-toggleable__content\"><pre>StandardScaler()</pre></div></div></div></div></div></div></div></div><div class=\"sk-parallel-item\"><div class=\"sk-item\"><div class=\"sk-label-container\"><div class=\"sk-label sk-toggleable\"><input class=\"sk-toggleable__control sk-hidden--visually\" id=\"sk-estimator-id-71\" type=\"checkbox\" ><label for=\"sk-estimator-id-71\" class=\"sk-toggleable__label sk-toggleable__label-arrow\">remainder</label><div class=\"sk-toggleable__content\"><pre>[&#x27;CCreditScore&#x27;, &#x27;CTenure&#x27;, &#x27;CBalance&#x27;, &#x27;CNumOfProducts&#x27;, &#x27;CEstimatedSalary&#x27;]</pre></div></div></div><div class=\"sk-serial\"><div class=\"sk-item\"><div class=\"sk-estimator sk-toggleable\"><input class=\"sk-toggleable__control sk-hidden--visually\" id=\"sk-estimator-id-72\" type=\"checkbox\" ><label for=\"sk-estimator-id-72\" class=\"sk-toggleable__label sk-toggleable__label-arrow\">StandardScaler</label><div class=\"sk-toggleable__content\"><pre>StandardScaler()</pre></div></div></div></div></div></div></div></div><div class=\"sk-item\"><div class=\"sk-estimator sk-toggleable\"><input class=\"sk-toggleable__control sk-hidden--visually\" id=\"sk-estimator-id-73\" type=\"checkbox\" ><label for=\"sk-estimator-id-73\" class=\"sk-toggleable__label sk-toggleable__label-arrow\">RandomForestClassifier</label><div class=\"sk-toggleable__content\"><pre>RandomForestClassifier(random_state=42)</pre></div></div></div></div></div></div></div></div></div></div></div></div>"
      ],
      "text/plain": [
       "RandomizedSearchCV(cv=5,\n",
       "                   estimator=Pipeline(steps=[('preprocessing',\n",
       "                                              ColumnTransformer(remainder=StandardScaler(),\n",
       "                                                                transformers=[('cat',\n",
       "                                                                               OneHotEncoder(handle_unknown='ignore',\n",
       "                                                                                             sparse_output=False),\n",
       "                                                                               <sklearn.compose._column_transformer.make_column_selector object at 0x16c6761a0>),\n",
       "                                                                              ('log',\n",
       "                                                                               Pipeline(steps=[('functiontransformer',\n",
       "                                                                                                FunctionTransformer(feature_names...\n",
       "                   param_distributions={'forest__max_depth': <scipy.stats._distn_infrastructure.rv_discrete_frozen object at 0x177a860b0>,\n",
       "                                        'forest__max_features': <scipy.stats._distn_infrastructure.rv_discrete_frozen object at 0x177a6db10>},\n",
       "                   random_state=42, refit='recall',\n",
       "                   scoring={'accuracy': make_scorer(accuracy_score),\n",
       "                            'precision': make_scorer(precision_score),\n",
       "                            'recall': make_scorer(recall_score)})"
      ]
     },
     "execution_count": 60,
     "metadata": {},
     "output_type": "execute_result"
    }
   ],
   "source": [
    "param_distribs = {\n",
    "    'forest__max_features': stats.randint(2, 16),\n",
    "    'forest__max_depth': stats.randint(1, 7),\n",
    "}\n",
    "\n",
    "scorers = {\n",
    "    'precision': make_scorer(precision_score),\n",
    "    'recall': make_scorer(recall_score),\n",
    "    'accuracy': make_scorer(accuracy_score)\n",
    "}\n",
    "\n",
    "#specify to focus on recall rate\n",
    "try_random_search_cv_rf = RandomizedSearchCV(full_pipeline_rf, param_distribs, scoring=scorers, refit='recall',\n",
    "                                       n_iter=10, cv=5, n_jobs=-1, random_state=SEED)\n",
    "try_random_search_cv_rf.fit(X_train, y_train)"
   ]
  },
  {
   "cell_type": "code",
   "execution_count": 61,
   "id": "0af684e2",
   "metadata": {},
   "outputs": [
    {
     "data": {
      "text/plain": [
       "{'forest__max_depth': 3, 'forest__max_features': 12}"
      ]
     },
     "execution_count": 61,
     "metadata": {},
     "output_type": "execute_result"
    }
   ],
   "source": [
    "#display the best hyperparameters in this case\n",
    "try_random_search_cv_rf.best_params_"
   ]
  },
  {
   "cell_type": "code",
   "execution_count": 62,
   "id": "ab069207",
   "metadata": {},
   "outputs": [],
   "source": [
    "#get the best model\n",
    "try_rf = try_random_search_cv_rf.best_estimator_"
   ]
  },
  {
   "cell_type": "markdown",
   "id": "6d1ea23b",
   "metadata": {},
   "source": [
    "Let's also display the performance metrics of this model on the training set:"
   ]
  },
  {
   "cell_type": "code",
   "execution_count": 63,
   "id": "0df80295",
   "metadata": {},
   "outputs": [
    {
     "data": {
      "text/html": [
       "<div>\n",
       "<style scoped>\n",
       "    .dataframe tbody tr th:only-of-type {\n",
       "        vertical-align: middle;\n",
       "    }\n",
       "\n",
       "    .dataframe tbody tr th {\n",
       "        vertical-align: top;\n",
       "    }\n",
       "\n",
       "    .dataframe thead th {\n",
       "        text-align: right;\n",
       "    }\n",
       "</style>\n",
       "<table border=\"1\" class=\"dataframe\">\n",
       "  <thead>\n",
       "    <tr style=\"text-align: right;\">\n",
       "      <th></th>\n",
       "      <th>metrics tree</th>\n",
       "      <th>metrics knn</th>\n",
       "      <th>metrics gnb</th>\n",
       "      <th>metrics knn best</th>\n",
       "      <th>metrics final tree</th>\n",
       "      <th>metrics final random forest</th>\n",
       "      <th>metrics try random forest</th>\n",
       "    </tr>\n",
       "  </thead>\n",
       "  <tbody>\n",
       "    <tr>\n",
       "      <th>accuracy_train</th>\n",
       "      <td>0.822660</td>\n",
       "      <td>0.871772</td>\n",
       "      <td>0.811315</td>\n",
       "      <td>0.850575</td>\n",
       "      <td>0.848186</td>\n",
       "      <td>0.859083</td>\n",
       "      <td>0.848933</td>\n",
       "    </tr>\n",
       "    <tr>\n",
       "      <th>accuracy_valid</th>\n",
       "      <td>0.822661</td>\n",
       "      <td>0.825496</td>\n",
       "      <td>0.811165</td>\n",
       "      <td>0.838185</td>\n",
       "      <td>0.851173</td>\n",
       "      <td>0.853561</td>\n",
       "      <td>0.846693</td>\n",
       "    </tr>\n",
       "    <tr>\n",
       "      <th>precision_train</th>\n",
       "      <td>0.636020</td>\n",
       "      <td>0.788971</td>\n",
       "      <td>0.570707</td>\n",
       "      <td>0.803008</td>\n",
       "      <td>0.754271</td>\n",
       "      <td>0.826705</td>\n",
       "      <td>0.742574</td>\n",
       "    </tr>\n",
       "    <tr>\n",
       "      <th>precision_valid</th>\n",
       "      <td>0.692462</td>\n",
       "      <td>0.632144</td>\n",
       "      <td>0.571498</td>\n",
       "      <td>0.768664</td>\n",
       "      <td>0.749444</td>\n",
       "      <td>0.801761</td>\n",
       "      <td>0.735085</td>\n",
       "    </tr>\n",
       "    <tr>\n",
       "      <th>recall_train</th>\n",
       "      <td>0.359687</td>\n",
       "      <td>0.529915</td>\n",
       "      <td>0.402422</td>\n",
       "      <td>0.380342</td>\n",
       "      <td>0.408832</td>\n",
       "      <td>0.414530</td>\n",
       "      <td>0.427350</td>\n",
       "    </tr>\n",
       "    <tr>\n",
       "      <th>recall_valid</th>\n",
       "      <td>0.286360</td>\n",
       "      <td>0.401007</td>\n",
       "      <td>0.401713</td>\n",
       "      <td>0.326924</td>\n",
       "      <td>0.437331</td>\n",
       "      <td>0.403142</td>\n",
       "      <td>0.424502</td>\n",
       "    </tr>\n",
       "    <tr>\n",
       "      <th>f1_train</th>\n",
       "      <td>0.459509</td>\n",
       "      <td>0.634001</td>\n",
       "      <td>0.472013</td>\n",
       "      <td>0.516191</td>\n",
       "      <td>0.530254</td>\n",
       "      <td>0.552182</td>\n",
       "      <td>0.542495</td>\n",
       "    </tr>\n",
       "    <tr>\n",
       "      <th>f1_valid</th>\n",
       "      <td>0.397881</td>\n",
       "      <td>0.490597</td>\n",
       "      <td>0.471333</td>\n",
       "      <td>0.458555</td>\n",
       "      <td>0.551771</td>\n",
       "      <td>0.535624</td>\n",
       "      <td>0.537270</td>\n",
       "    </tr>\n",
       "    <tr>\n",
       "      <th>auc_train</th>\n",
       "      <td>0.652553</td>\n",
       "      <td>0.746166</td>\n",
       "      <td>0.661079</td>\n",
       "      <td>0.677801</td>\n",
       "      <td>0.686758</td>\n",
       "      <td>0.695745</td>\n",
       "      <td>0.694034</td>\n",
       "    </tr>\n",
       "    <tr>\n",
       "      <th>auc_valid</th>\n",
       "      <td>0.793315</td>\n",
       "      <td>0.775113</td>\n",
       "      <td>0.789602</td>\n",
       "      <td>0.829730</td>\n",
       "      <td>0.808483</td>\n",
       "      <td>0.852077</td>\n",
       "      <td>0.827751</td>\n",
       "    </tr>\n",
       "  </tbody>\n",
       "</table>\n",
       "</div>"
      ],
      "text/plain": [
       "                 metrics tree  metrics knn  metrics gnb  metrics knn best  \\\n",
       "accuracy_train       0.822660     0.871772     0.811315          0.850575   \n",
       "accuracy_valid       0.822661     0.825496     0.811165          0.838185   \n",
       "precision_train      0.636020     0.788971     0.570707          0.803008   \n",
       "precision_valid      0.692462     0.632144     0.571498          0.768664   \n",
       "recall_train         0.359687     0.529915     0.402422          0.380342   \n",
       "recall_valid         0.286360     0.401007     0.401713          0.326924   \n",
       "f1_train             0.459509     0.634001     0.472013          0.516191   \n",
       "f1_valid             0.397881     0.490597     0.471333          0.458555   \n",
       "auc_train            0.652553     0.746166     0.661079          0.677801   \n",
       "auc_valid            0.793315     0.775113     0.789602          0.829730   \n",
       "\n",
       "                 metrics final tree  metrics final random forest  \\\n",
       "accuracy_train             0.848186                     0.859083   \n",
       "accuracy_valid             0.851173                     0.853561   \n",
       "precision_train            0.754271                     0.826705   \n",
       "precision_valid            0.749444                     0.801761   \n",
       "recall_train               0.408832                     0.414530   \n",
       "recall_valid               0.437331                     0.403142   \n",
       "f1_train                   0.530254                     0.552182   \n",
       "f1_valid                   0.551771                     0.535624   \n",
       "auc_train                  0.686758                     0.695745   \n",
       "auc_valid                  0.808483                     0.852077   \n",
       "\n",
       "                 metrics try random forest  \n",
       "accuracy_train                    0.848933  \n",
       "accuracy_valid                    0.846693  \n",
       "precision_train                   0.742574  \n",
       "precision_valid                   0.735085  \n",
       "recall_train                      0.427350  \n",
       "recall_valid                      0.424502  \n",
       "f1_train                          0.542495  \n",
       "f1_valid                          0.537270  \n",
       "auc_train                         0.694034  \n",
       "auc_valid                         0.827751  "
      ]
     },
     "execution_count": 63,
     "metadata": {},
     "output_type": "execute_result"
    }
   ],
   "source": [
    "#predict the label for train dataset\n",
    "try_y_pred_rf = try_rf.predict(X_train)\n",
    "\n",
    "# Calculate model accuracy, precision, recall and f1 score\n",
    "metrics_try_rf = pd.DataFrame(pd.Series(get_metrics(try_rf, try_y_pred_rf)), columns=['metrics try random forest'])\n",
    "pd.concat([metrics_compare_03, metrics_try_rf], axis=1)"
   ]
  },
  {
   "cell_type": "markdown",
   "id": "7c0cbcde",
   "metadata": {},
   "source": [
    "Let's also display the performance metrics of this model on the test set:"
   ]
  },
  {
   "cell_type": "code",
   "execution_count": 64,
   "id": "ca9a9ea6",
   "metadata": {},
   "outputs": [
    {
     "data": {
      "text/html": [
       "<div>\n",
       "<style scoped>\n",
       "    .dataframe tbody tr th:only-of-type {\n",
       "        vertical-align: middle;\n",
       "    }\n",
       "\n",
       "    .dataframe tbody tr th {\n",
       "        vertical-align: top;\n",
       "    }\n",
       "\n",
       "    .dataframe thead th {\n",
       "        text-align: right;\n",
       "    }\n",
       "</style>\n",
       "<table border=\"1\" class=\"dataframe\">\n",
       "  <thead>\n",
       "    <tr style=\"text-align: right;\">\n",
       "      <th></th>\n",
       "      <th>decision tree test data perform</th>\n",
       "      <th>random forest test data perform</th>\n",
       "      <th>try random forest test data perform</th>\n",
       "    </tr>\n",
       "  </thead>\n",
       "  <tbody>\n",
       "    <tr>\n",
       "      <th>accuracy_test</th>\n",
       "      <td>0.853636</td>\n",
       "      <td>0.866061</td>\n",
       "      <td>0.856061</td>\n",
       "    </tr>\n",
       "    <tr>\n",
       "      <th>precision_test</th>\n",
       "      <td>0.730650</td>\n",
       "      <td>0.802548</td>\n",
       "      <td>0.718663</td>\n",
       "    </tr>\n",
       "    <tr>\n",
       "      <th>recall_test</th>\n",
       "      <td>0.373418</td>\n",
       "      <td>0.398734</td>\n",
       "      <td>0.408228</td>\n",
       "    </tr>\n",
       "    <tr>\n",
       "      <th>f1</th>\n",
       "      <td>0.494241</td>\n",
       "      <td>0.532770</td>\n",
       "      <td>0.520686</td>\n",
       "    </tr>\n",
       "  </tbody>\n",
       "</table>\n",
       "</div>"
      ],
      "text/plain": [
       "                decision tree test data perform  \\\n",
       "accuracy_test                          0.853636   \n",
       "precision_test                         0.730650   \n",
       "recall_test                            0.373418   \n",
       "f1                                     0.494241   \n",
       "\n",
       "                random forest test data perform  \\\n",
       "accuracy_test                          0.866061   \n",
       "precision_test                         0.802548   \n",
       "recall_test                            0.398734   \n",
       "f1                                     0.532770   \n",
       "\n",
       "                try random forest test data perform  \n",
       "accuracy_test                              0.856061  \n",
       "precision_test                             0.718663  \n",
       "recall_test                                0.408228  \n",
       "f1                                         0.520686  "
      ]
     },
     "execution_count": 64,
     "metadata": {},
     "output_type": "execute_result"
    }
   ],
   "source": [
    "pred_test_try_rf = try_rf.predict(X_test)\n",
    "\n",
    "# Calculate the metrics on the test set\n",
    "try_metrics_test_rf = {\n",
    "    'accuracy_test': accuracy_score(y_test, pred_test_try_rf),\n",
    "    'precision_test': precision_score(y_test, pred_test_try_rf),\n",
    "    'recall_test': recall_score(y_test, pred_test_try_rf),\n",
    "    'f1': f1_score(y_test, pred_test_try_rf)\n",
    "}\n",
    "try_metrics_test_rf = pd.DataFrame(pd.Series(try_metrics_test_rf), columns=['try random forest test data perform'])\n",
    "\n",
    "pd.concat([metrics_test_tree, metrics_test_rf, try_metrics_test_rf], axis=1)"
   ]
  },
  {
   "cell_type": "markdown",
   "id": "d2328949",
   "metadata": {},
   "source": [
    "Well, this optimized model indeed improved the recall score, but is still far from our expectation (roughly 75% recall). \n",
    "\n",
    "Let's try another approach: we use `cross_val_predict` on training set to perform a k-fold cross-validation to get the \"out-of-sample\" predictions of class probabilities for each instance, and we will just use the probabilities of the positive class as scores. We will than tune the decision threshold of the model (which is 0.5 by default in random forest, meaning that if an instance has a predicted probability above 0.5, it would be predicted as positive, i.e., churned in our model, otherwise not churned.) to adjust the recall score."
   ]
  },
  {
   "cell_type": "markdown",
   "id": "cec247e4",
   "metadata": {},
   "source": [
    "Let's have a look at our current model's precision recall curve:"
   ]
  },
  {
   "cell_type": "code",
   "execution_count": 65,
   "id": "1797f43e",
   "metadata": {},
   "outputs": [],
   "source": [
    "#note that we predict the class probability here\n",
    "y_scores_train = cross_val_predict(final_rf, X_train, y_train, method='predict_proba', n_jobs=-1)[:,1]\n",
    "precisions, recalls, thresholds = precision_recall_curve(y_train, y_scores_train)"
   ]
  },
  {
   "cell_type": "code",
   "execution_count": 66,
   "id": "ceb4a690",
   "metadata": {},
   "outputs": [
    {
     "data": {
      "image/png": "[encoded data removed]",
      "text/plain": [
       "<Figure size 600x300 with 1 Axes>"
      ]
     },
     "metadata": {},
     "output_type": "display_data"
    }
   ],
   "source": [
    "#also display the default threshold for the model to make prediction\n",
    "threshold = 0.5\n",
    "\n",
    "plt.figure(figsize=(6, 3))\n",
    "plt.plot(thresholds, precisions[:-1], 'b--', label='Precision')\n",
    "plt.plot(thresholds, recalls[:-1], 'g-', label='Recall')\n",
    "plt.vlines(threshold, 0, 1.0, 'k', 'dotted', label='0.5 threshold')\n",
    "plt.grid()\n",
    "plt.legend(loc=\"center right\")\n",
    "plt.show()"
   ]
  },
  {
   "cell_type": "markdown",
   "id": "566b7787",
   "metadata": {},
   "source": [
    "At a threshold value of 0.5, precision is near 80% and recall is around 40%, which corresponds our evaluation results up to now. We then do the adjustment:"
   ]
  },
  {
   "cell_type": "code",
   "execution_count": 67,
   "id": "a15030f6",
   "metadata": {},
   "outputs": [],
   "source": [
    "def get_threshold(recalls, thresholds, desired_recall):\n",
    "    '''\n",
    "    returns a decision threshold to achieve the desired recall score\n",
    "    by inputting the recall- and threshold-list and the target recall\n",
    "    '''\n",
    "    idx_desired_recall = (recalls <= desired_recall/100).argmax()\n",
    "    return thresholds[idx_desired_recall]"
   ]
  },
  {
   "cell_type": "code",
   "execution_count": 68,
   "id": "286d9277",
   "metadata": {},
   "outputs": [
    {
     "data": {
      "text/plain": [
       "0.20420810562401928"
      ]
     },
     "execution_count": 68,
     "metadata": {},
     "output_type": "execute_result"
    }
   ],
   "source": [
    "#get the decision threshold of 75%-recall\n",
    "threshold_75_recall = get_threshold(recalls, thresholds, 75)\n",
    "threshold_75_recall"
   ]
  },
  {
   "cell_type": "markdown",
   "id": "dea3bf5e",
   "metadata": {},
   "source": [
    "Now that we find the decision threshold on the predicted instance scores that finally lead to our target recall value, we can inspect this on our training set. Customers with a score above the new threshold (instead of 0.5) will now be classified as churned."
   ]
  },
  {
   "cell_type": "code",
   "execution_count": 69,
   "id": "0669cd53",
   "metadata": {},
   "outputs": [
    {
     "name": "stdout",
     "output_type": "stream",
     "text": [
      "              precision    recall  f1-score   support\n",
      "\n",
      "           0       0.92      0.78      0.85      5295\n",
      "           1       0.48      0.75      0.58      1404\n",
      "\n",
      "    accuracy                           0.78      6699\n",
      "   macro avg       0.70      0.77      0.72      6699\n",
      "weighted avg       0.83      0.78      0.79      6699\n",
      "\n"
     ]
    }
   ],
   "source": [
    "y_train_pred_75 = (y_scores_train >= threshold_75_recall)\n",
    "\n",
    "#display the performance metrics\n",
    "print(classification_report(y_train, y_train_pred_75))"
   ]
  },
  {
   "cell_type": "markdown",
   "id": "d8db7b86",
   "metadata": {},
   "source": [
    "We achieved 75% recall, and an accuracy of 78% is still satisfactory. Let's also try this new model on the test set:"
   ]
  },
  {
   "cell_type": "code",
   "execution_count": 70,
   "id": "c03b23a5",
   "metadata": {},
   "outputs": [
    {
     "name": "stdout",
     "output_type": "stream",
     "text": [
      "              precision    recall  f1-score   support\n",
      "\n",
      "           0       0.93      0.80      0.86      2668\n",
      "           1       0.46      0.73      0.56       632\n",
      "\n",
      "    accuracy                           0.78      3300\n",
      "   macro avg       0.69      0.76      0.71      3300\n",
      "weighted avg       0.84      0.78      0.80      3300\n",
      "\n"
     ]
    }
   ],
   "source": [
    "y_test_pred_75 = (final_rf.predict_proba(X_test)[:,1] >= threshold_75_recall)\n",
    "\n",
    "print(classification_report(y_test, y_test_pred_75))"
   ]
  },
  {
   "cell_type": "markdown",
   "id": "e75b9175",
   "metadata": {},
   "source": [
    "This threshold also delivers good result (regarding both recall and accuracy) on the test set. Now we have a back-up model just in case that future business strategy requires higher recall rate."
   ]
  }
 ],
 "metadata": {
  "kernelspec": {
   "display_name": "Python 3 (ipykernel)",
   "language": "python",
   "name": "python3"
  },
  "language_info": {
   "codemirror_mode": {
    "name": "ipython",
    "version": 3
   },
   "file_extension": ".py",
   "mimetype": "text/x-python",
   "name": "python",
   "nbconvert_exporter": "python",
   "pygments_lexer": "ipython3",
   "version": "3.10.8"
  }
 },
 "nbformat": 4,
 "nbformat_minor": 5
}

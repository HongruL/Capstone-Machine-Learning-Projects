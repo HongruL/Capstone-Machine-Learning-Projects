{
 "cells": [
  {
   "attachments": {},
   "cell_type": "markdown",
   "id": "39f5d6aa",
   "metadata": {},
   "source": [
    "## Task 0 - Exploratory Data Analysis and Data Preparation\n",
    "Before building up our machine learning model, we would conduct exploratory data analysis and prepare the data at first."
   ]
  },
  {
   "cell_type": "code",
   "execution_count": 1,
   "id": "bd9e0b74",
   "metadata": {},
   "outputs": [],
   "source": [
    "#import necessary libraries\n",
    "import pandas as pd\n",
    "import numpy as np\n",
    "import matplotlib as mpl\n",
    "from matplotlib.ticker import FixedLocator, FixedFormatter\n",
    "import matplotlib.pyplot as plt\n",
    "import seaborn as sns\n",
    "from datetime import datetime, date, timedelta\n",
    "\n",
    "from sklearn.cluster import KMeans\n",
    "from sklearn.compose import ColumnTransformer, make_column_selector\n",
    "from sklearn.pipeline import make_pipeline\n",
    "from sklearn.preprocessing import StandardScaler, OneHotEncoder\n",
    "from sklearn.metrics import silhouette_score, silhouette_samples"
   ]
  },
  {
   "cell_type": "code",
   "execution_count": 2,
   "id": "ddeea1cf",
   "metadata": {},
   "outputs": [],
   "source": [
    "#matplotlib set up\n",
    "plt.rc('font', size=12)\n",
    "plt.rc('axes', labelsize=14, titlesize=14)\n",
    "plt.rc('legend', fontsize=12)\n",
    "plt.rc('xtick', labelsize=10)\n",
    "plt.rc('ytick', labelsize=10)\n",
    "plt.style.use('ggplot')"
   ]
  },
  {
   "cell_type": "code",
   "execution_count": 3,
   "id": "e046eceb",
   "metadata": {},
   "outputs": [],
   "source": [
    "#set seed to ensure model reproducibility\n",
    "SEED = 369"
   ]
  },
  {
   "cell_type": "code",
   "execution_count": 4,
   "id": "177e04ae",
   "metadata": {},
   "outputs": [],
   "source": [
    "#make sure to display all the columns of a dataset\n",
    "pd.set_option('display.max_columns', None)"
   ]
  },
  {
   "cell_type": "code",
   "execution_count": 5,
   "id": "66c6cdd5",
   "metadata": {},
   "outputs": [],
   "source": [
    "#load the data\n",
    "retail_original = pd.read_csv('03_Retail_Clustering.csv', sep=';')"
   ]
  },
  {
   "cell_type": "code",
   "execution_count": 6,
   "id": "b8ef95b4",
   "metadata": {},
   "outputs": [
    {
     "data": {
      "text/html": [
       "<div>\n",
       "<style scoped>\n",
       "    .dataframe tbody tr th:only-of-type {\n",
       "        vertical-align: middle;\n",
       "    }\n",
       "\n",
       "    .dataframe tbody tr th {\n",
       "        vertical-align: top;\n",
       "    }\n",
       "\n",
       "    .dataframe thead th {\n",
       "        text-align: right;\n",
       "    }\n",
       "</style>\n",
       "<table border=\"1\" class=\"dataframe\">\n",
       "  <thead>\n",
       "    <tr style=\"text-align: right;\">\n",
       "      <th></th>\n",
       "      <th>Year_Birth</th>\n",
       "      <th>Education</th>\n",
       "      <th>Marital_Status</th>\n",
       "      <th>Estimated_Income</th>\n",
       "      <th>Kid_home</th>\n",
       "      <th>Teen_home</th>\n",
       "      <th>Registration_date</th>\n",
       "      <th>Recency</th>\n",
       "      <th>Exist_Complain</th>\n",
       "      <th>MntWines</th>\n",
       "      <th>MntFruits</th>\n",
       "      <th>MntMeatProducts</th>\n",
       "      <th>MntFishProducts</th>\n",
       "      <th>MntSweetProducts</th>\n",
       "      <th>MntGoldProds</th>\n",
       "      <th>NumWebPurchases</th>\n",
       "      <th>NumCatalogPurchases</th>\n",
       "      <th>NumStorePurchases</th>\n",
       "    </tr>\n",
       "  </thead>\n",
       "  <tbody>\n",
       "    <tr>\n",
       "      <th>0</th>\n",
       "      <td>1957</td>\n",
       "      <td>Graduation</td>\n",
       "      <td>Single</td>\n",
       "      <td>58138.0</td>\n",
       "      <td>0</td>\n",
       "      <td>0</td>\n",
       "      <td>04.09.2020</td>\n",
       "      <td>58</td>\n",
       "      <td>0</td>\n",
       "      <td>635</td>\n",
       "      <td>88</td>\n",
       "      <td>546</td>\n",
       "      <td>172</td>\n",
       "      <td>88</td>\n",
       "      <td>88</td>\n",
       "      <td>8</td>\n",
       "      <td>10</td>\n",
       "      <td>4</td>\n",
       "    </tr>\n",
       "    <tr>\n",
       "      <th>1</th>\n",
       "      <td>1954</td>\n",
       "      <td>Graduation</td>\n",
       "      <td>Single</td>\n",
       "      <td>46344.0</td>\n",
       "      <td>1</td>\n",
       "      <td>1</td>\n",
       "      <td>08.03.2022</td>\n",
       "      <td>38</td>\n",
       "      <td>0</td>\n",
       "      <td>11</td>\n",
       "      <td>1</td>\n",
       "      <td>6</td>\n",
       "      <td>2</td>\n",
       "      <td>1</td>\n",
       "      <td>6</td>\n",
       "      <td>1</td>\n",
       "      <td>1</td>\n",
       "      <td>2</td>\n",
       "    </tr>\n",
       "    <tr>\n",
       "      <th>2</th>\n",
       "      <td>1965</td>\n",
       "      <td>Graduation</td>\n",
       "      <td>Together</td>\n",
       "      <td>71613.0</td>\n",
       "      <td>0</td>\n",
       "      <td>0</td>\n",
       "      <td>21.08.2021</td>\n",
       "      <td>26</td>\n",
       "      <td>0</td>\n",
       "      <td>426</td>\n",
       "      <td>49</td>\n",
       "      <td>127</td>\n",
       "      <td>111</td>\n",
       "      <td>21</td>\n",
       "      <td>42</td>\n",
       "      <td>8</td>\n",
       "      <td>2</td>\n",
       "      <td>10</td>\n",
       "    </tr>\n",
       "    <tr>\n",
       "      <th>3</th>\n",
       "      <td>1984</td>\n",
       "      <td>Graduation</td>\n",
       "      <td>Together</td>\n",
       "      <td>26646.0</td>\n",
       "      <td>1</td>\n",
       "      <td>0</td>\n",
       "      <td>10.02.2022</td>\n",
       "      <td>26</td>\n",
       "      <td>0</td>\n",
       "      <td>11</td>\n",
       "      <td>4</td>\n",
       "      <td>20</td>\n",
       "      <td>10</td>\n",
       "      <td>3</td>\n",
       "      <td>5</td>\n",
       "      <td>2</td>\n",
       "      <td>0</td>\n",
       "      <td>4</td>\n",
       "    </tr>\n",
       "    <tr>\n",
       "      <th>4</th>\n",
       "      <td>1981</td>\n",
       "      <td>PhD</td>\n",
       "      <td>Married</td>\n",
       "      <td>58293.0</td>\n",
       "      <td>1</td>\n",
       "      <td>0</td>\n",
       "      <td>19.01.2022</td>\n",
       "      <td>94</td>\n",
       "      <td>0</td>\n",
       "      <td>173</td>\n",
       "      <td>43</td>\n",
       "      <td>118</td>\n",
       "      <td>46</td>\n",
       "      <td>27</td>\n",
       "      <td>15</td>\n",
       "      <td>5</td>\n",
       "      <td>3</td>\n",
       "      <td>6</td>\n",
       "    </tr>\n",
       "  </tbody>\n",
       "</table>\n",
       "</div>"
      ],
      "text/plain": [
       "   Year_Birth   Education Marital_Status  Estimated_Income  Kid_home  \\\n",
       "0        1957  Graduation         Single           58138.0         0   \n",
       "1        1954  Graduation         Single           46344.0         1   \n",
       "2        1965  Graduation       Together           71613.0         0   \n",
       "3        1984  Graduation       Together           26646.0         1   \n",
       "4        1981         PhD        Married           58293.0         1   \n",
       "\n",
       "   Teen_home Registration_date  Recency  Exist_Complain  MntWines  MntFruits  \\\n",
       "0          0        04.09.2020       58               0       635         88   \n",
       "1          1        08.03.2022       38               0        11          1   \n",
       "2          0        21.08.2021       26               0       426         49   \n",
       "3          0        10.02.2022       26               0        11          4   \n",
       "4          0        19.01.2022       94               0       173         43   \n",
       "\n",
       "   MntMeatProducts  MntFishProducts  MntSweetProducts  MntGoldProds  \\\n",
       "0              546              172                88            88   \n",
       "1                6                2                 1             6   \n",
       "2              127              111                21            42   \n",
       "3               20               10                 3             5   \n",
       "4              118               46                27            15   \n",
       "\n",
       "   NumWebPurchases  NumCatalogPurchases  NumStorePurchases  \n",
       "0                8                   10                  4  \n",
       "1                1                    1                  2  \n",
       "2                8                    2                 10  \n",
       "3                2                    0                  4  \n",
       "4                5                    3                  6  "
      ]
     },
     "execution_count": 6,
     "metadata": {},
     "output_type": "execute_result"
    }
   ],
   "source": [
    "#first five records\n",
    "retail_original.head()"
   ]
  },
  {
   "cell_type": "code",
   "execution_count": 7,
   "id": "a94847ba",
   "metadata": {},
   "outputs": [
    {
     "data": {
      "text/html": [
       "<div>\n",
       "<style scoped>\n",
       "    .dataframe tbody tr th:only-of-type {\n",
       "        vertical-align: middle;\n",
       "    }\n",
       "\n",
       "    .dataframe tbody tr th {\n",
       "        vertical-align: top;\n",
       "    }\n",
       "\n",
       "    .dataframe thead th {\n",
       "        text-align: right;\n",
       "    }\n",
       "</style>\n",
       "<table border=\"1\" class=\"dataframe\">\n",
       "  <thead>\n",
       "    <tr style=\"text-align: right;\">\n",
       "      <th></th>\n",
       "      <th>Year_Birth</th>\n",
       "      <th>Education</th>\n",
       "      <th>Marital_Status</th>\n",
       "      <th>Estimated_Income</th>\n",
       "      <th>Kid_home</th>\n",
       "      <th>Teen_home</th>\n",
       "      <th>Registration_date</th>\n",
       "      <th>Recency</th>\n",
       "      <th>Exist_Complain</th>\n",
       "      <th>MntWines</th>\n",
       "      <th>MntFruits</th>\n",
       "      <th>MntMeatProducts</th>\n",
       "      <th>MntFishProducts</th>\n",
       "      <th>MntSweetProducts</th>\n",
       "      <th>MntGoldProds</th>\n",
       "      <th>NumWebPurchases</th>\n",
       "      <th>NumCatalogPurchases</th>\n",
       "      <th>NumStorePurchases</th>\n",
       "    </tr>\n",
       "  </thead>\n",
       "  <tbody>\n",
       "    <tr>\n",
       "      <th>2235</th>\n",
       "      <td>1967</td>\n",
       "      <td>Graduation</td>\n",
       "      <td>Married</td>\n",
       "      <td>61223.0</td>\n",
       "      <td>0</td>\n",
       "      <td>1</td>\n",
       "      <td>13.06.2021</td>\n",
       "      <td>46</td>\n",
       "      <td>0</td>\n",
       "      <td>709</td>\n",
       "      <td>43</td>\n",
       "      <td>182</td>\n",
       "      <td>42</td>\n",
       "      <td>118</td>\n",
       "      <td>247</td>\n",
       "      <td>9</td>\n",
       "      <td>3</td>\n",
       "      <td>4</td>\n",
       "    </tr>\n",
       "    <tr>\n",
       "      <th>2236</th>\n",
       "      <td>1946</td>\n",
       "      <td>PhD</td>\n",
       "      <td>Together</td>\n",
       "      <td>64014.0</td>\n",
       "      <td>2</td>\n",
       "      <td>1</td>\n",
       "      <td>10.06.2022</td>\n",
       "      <td>56</td>\n",
       "      <td>0</td>\n",
       "      <td>406</td>\n",
       "      <td>0</td>\n",
       "      <td>30</td>\n",
       "      <td>0</td>\n",
       "      <td>0</td>\n",
       "      <td>8</td>\n",
       "      <td>8</td>\n",
       "      <td>2</td>\n",
       "      <td>5</td>\n",
       "    </tr>\n",
       "    <tr>\n",
       "      <th>2237</th>\n",
       "      <td>1981</td>\n",
       "      <td>Graduation</td>\n",
       "      <td>Divorced</td>\n",
       "      <td>56981.0</td>\n",
       "      <td>0</td>\n",
       "      <td>0</td>\n",
       "      <td>25.01.2022</td>\n",
       "      <td>91</td>\n",
       "      <td>0</td>\n",
       "      <td>908</td>\n",
       "      <td>48</td>\n",
       "      <td>217</td>\n",
       "      <td>32</td>\n",
       "      <td>12</td>\n",
       "      <td>24</td>\n",
       "      <td>2</td>\n",
       "      <td>3</td>\n",
       "      <td>13</td>\n",
       "    </tr>\n",
       "    <tr>\n",
       "      <th>2238</th>\n",
       "      <td>1956</td>\n",
       "      <td>Master</td>\n",
       "      <td>Together</td>\n",
       "      <td>69245.0</td>\n",
       "      <td>0</td>\n",
       "      <td>1</td>\n",
       "      <td>24.01.2022</td>\n",
       "      <td>8</td>\n",
       "      <td>0</td>\n",
       "      <td>428</td>\n",
       "      <td>30</td>\n",
       "      <td>214</td>\n",
       "      <td>80</td>\n",
       "      <td>30</td>\n",
       "      <td>61</td>\n",
       "      <td>6</td>\n",
       "      <td>5</td>\n",
       "      <td>10</td>\n",
       "    </tr>\n",
       "    <tr>\n",
       "      <th>2239</th>\n",
       "      <td>1954</td>\n",
       "      <td>PhD</td>\n",
       "      <td>Married</td>\n",
       "      <td>52869.0</td>\n",
       "      <td>1</td>\n",
       "      <td>1</td>\n",
       "      <td>15.10.2020</td>\n",
       "      <td>40</td>\n",
       "      <td>0</td>\n",
       "      <td>84</td>\n",
       "      <td>3</td>\n",
       "      <td>61</td>\n",
       "      <td>2</td>\n",
       "      <td>1</td>\n",
       "      <td>21</td>\n",
       "      <td>3</td>\n",
       "      <td>1</td>\n",
       "      <td>4</td>\n",
       "    </tr>\n",
       "  </tbody>\n",
       "</table>\n",
       "</div>"
      ],
      "text/plain": [
       "      Year_Birth   Education Marital_Status  Estimated_Income  Kid_home  \\\n",
       "2235        1967  Graduation        Married           61223.0         0   \n",
       "2236        1946         PhD       Together           64014.0         2   \n",
       "2237        1981  Graduation       Divorced           56981.0         0   \n",
       "2238        1956      Master       Together           69245.0         0   \n",
       "2239        1954         PhD        Married           52869.0         1   \n",
       "\n",
       "      Teen_home Registration_date  Recency  Exist_Complain  MntWines  \\\n",
       "2235          1        13.06.2021       46               0       709   \n",
       "2236          1        10.06.2022       56               0       406   \n",
       "2237          0        25.01.2022       91               0       908   \n",
       "2238          1        24.01.2022        8               0       428   \n",
       "2239          1        15.10.2020       40               0        84   \n",
       "\n",
       "      MntFruits  MntMeatProducts  MntFishProducts  MntSweetProducts  \\\n",
       "2235         43              182               42               118   \n",
       "2236          0               30                0                 0   \n",
       "2237         48              217               32                12   \n",
       "2238         30              214               80                30   \n",
       "2239          3               61                2                 1   \n",
       "\n",
       "      MntGoldProds  NumWebPurchases  NumCatalogPurchases  NumStorePurchases  \n",
       "2235           247                9                    3                  4  \n",
       "2236             8                8                    2                  5  \n",
       "2237            24                2                    3                 13  \n",
       "2238            61                6                    5                 10  \n",
       "2239            21                3                    1                  4  "
      ]
     },
     "execution_count": 7,
     "metadata": {},
     "output_type": "execute_result"
    }
   ],
   "source": [
    "#last five records\n",
    "retail_original.tail()"
   ]
  },
  {
   "cell_type": "code",
   "execution_count": 8,
   "id": "5a3cf2bd",
   "metadata": {},
   "outputs": [
    {
     "name": "stdout",
     "output_type": "stream",
     "text": [
      "<class 'pandas.core.frame.DataFrame'>\n",
      "RangeIndex: 2240 entries, 0 to 2239\n",
      "Data columns (total 18 columns):\n",
      " #   Column               Non-Null Count  Dtype  \n",
      "---  ------               --------------  -----  \n",
      " 0   Year_Birth           2240 non-null   int64  \n",
      " 1   Education            2240 non-null   object \n",
      " 2   Marital_Status       2240 non-null   object \n",
      " 3   Estimated_Income     2216 non-null   float64\n",
      " 4   Kid_home             2240 non-null   int64  \n",
      " 5   Teen_home            2240 non-null   int64  \n",
      " 6   Registration_date    2240 non-null   object \n",
      " 7   Recency              2240 non-null   int64  \n",
      " 8   Exist_Complain       2240 non-null   int64  \n",
      " 9   MntWines             2240 non-null   int64  \n",
      " 10  MntFruits            2240 non-null   int64  \n",
      " 11  MntMeatProducts      2240 non-null   int64  \n",
      " 12  MntFishProducts      2240 non-null   int64  \n",
      " 13  MntSweetProducts     2240 non-null   int64  \n",
      " 14  MntGoldProds         2240 non-null   int64  \n",
      " 15  NumWebPurchases      2240 non-null   int64  \n",
      " 16  NumCatalogPurchases  2240 non-null   int64  \n",
      " 17  NumStorePurchases    2240 non-null   int64  \n",
      "dtypes: float64(1), int64(14), object(3)\n",
      "memory usage: 315.1+ KB\n"
     ]
    }
   ],
   "source": [
    "#a summary of all columns\n",
    "retail_original.info()"
   ]
  },
  {
   "attachments": {},
   "cell_type": "markdown",
   "id": "3f3f7690",
   "metadata": {},
   "source": [
    "In the preceding output, we can see that there are 2240 rows and 18 columns in the data. Out of these, 1 column (`Estimated_Income`) has missing values, 3 columns (`Education`, `Marital_Status` and `Registration_date`) are Strings, 1 column is float, and 14 are of datatype integer. Note that the values of `Registration_date` should be converted to datetime object to reflect the date of registration.\n",
    "\n",
    "We will then manipulate the data."
   ]
  },
  {
   "cell_type": "code",
   "execution_count": 9,
   "id": "18fbbaf7",
   "metadata": {},
   "outputs": [],
   "source": [
    "#make of copy of the original dataset to ensure it remains unchanged during the following analysis\n",
    "retail = retail_original.copy()"
   ]
  },
  {
   "cell_type": "code",
   "execution_count": 10,
   "id": "a34c26db",
   "metadata": {},
   "outputs": [
    {
     "data": {
      "text/plain": [
       "0   2020-09-04\n",
       "1   2022-03-08\n",
       "2   2021-08-21\n",
       "3   2022-02-10\n",
       "4   2022-01-19\n",
       "Name: Registration_date, dtype: datetime64[ns]"
      ]
     },
     "execution_count": 10,
     "metadata": {},
     "output_type": "execute_result"
    }
   ],
   "source": [
    "#convert to datetime\n",
    "retail['Registration_date'] = pd.to_datetime(retail_original.Registration_date, format='%d.%m.%Y')\n",
    "retail['Registration_date'].head()"
   ]
  },
  {
   "attachments": {},
   "cell_type": "markdown",
   "id": "fc820f2b",
   "metadata": {},
   "source": [
    "This looks fine but only a registration date won't be very helpful for a meaningful clustering, because what is actually useful for us is the membership duration of a customer, so we will further convert `Registration_date` to a new column `Member_days` which represents the membership duration in days (the same unit as `Recency` column. We define the duration as the time span in days between the registration of a customer and the present date, which we will take \"2023-01-01\" (we will avoid the approach like \"date.today()\" which is a non-deterministic function because it returns a different value on a different day when this notebook is run. We thus specify the date as \"2023-01-01\" just to ensure that the output of the analysis in this project will be the same even when the script is run at a different time in the future.)"
   ]
  },
  {
   "cell_type": "code",
   "execution_count": 11,
   "id": "bab89c19",
   "metadata": {},
   "outputs": [
    {
     "data": {
      "text/plain": [
       "datetime.datetime(2023, 1, 1, 0, 0)"
      ]
     },
     "execution_count": 11,
     "metadata": {},
     "output_type": "execute_result"
    }
   ],
   "source": [
    "#assign the value of the present date\n",
    "today = datetime(2023, 1, 1)\n",
    "today"
   ]
  },
  {
   "cell_type": "code",
   "execution_count": 12,
   "id": "64e27eca",
   "metadata": {},
   "outputs": [
    {
     "data": {
      "text/plain": [
       "0       849\n",
       "1       299\n",
       "2       498\n",
       "3       325\n",
       "4       347\n",
       "       ... \n",
       "2235    567\n",
       "2236    205\n",
       "2237    341\n",
       "2238    342\n",
       "2239    808\n",
       "Name: Member_days, Length: 2240, dtype: int64"
      ]
     },
     "execution_count": 12,
     "metadata": {},
     "output_type": "execute_result"
    }
   ],
   "source": [
    "retail['Member_days'] = (today - retail.Registration_date).apply(lambda x: x.days)\n",
    "retail['Member_days']"
   ]
  },
  {
   "attachments": {},
   "cell_type": "markdown",
   "id": "d575fa50",
   "metadata": {},
   "source": [
    "Then drop the `Registration_date` column."
   ]
  },
  {
   "cell_type": "code",
   "execution_count": 13,
   "id": "2f0bfd33",
   "metadata": {},
   "outputs": [],
   "source": [
    "retail.drop('Registration_date', axis=1, inplace=True)"
   ]
  },
  {
   "attachments": {},
   "cell_type": "markdown",
   "id": "ef184423",
   "metadata": {},
   "source": [
    "Here, will verify the data consistency - make sure that the number of days since customer's last purchase is no longer than the duration of the customer's membership:"
   ]
  },
  {
   "cell_type": "code",
   "execution_count": 14,
   "id": "ee01695c",
   "metadata": {},
   "outputs": [
    {
     "data": {
      "text/plain": [
       "0"
      ]
     },
     "execution_count": 14,
     "metadata": {},
     "output_type": "execute_result"
    }
   ],
   "source": [
    "#no inconsistency\n",
    "sum(retail.Member_days < retail.Recency)"
   ]
  },
  {
   "attachments": {},
   "cell_type": "markdown",
   "id": "dcd9f584",
   "metadata": {},
   "source": [
    "Then, take a look at the descriptive statistics of the data using the describe function."
   ]
  },
  {
   "cell_type": "code",
   "execution_count": 15,
   "id": "c4153521",
   "metadata": {},
   "outputs": [
    {
     "data": {
      "text/html": [
       "<div>\n",
       "<style scoped>\n",
       "    .dataframe tbody tr th:only-of-type {\n",
       "        vertical-align: middle;\n",
       "    }\n",
       "\n",
       "    .dataframe tbody tr th {\n",
       "        vertical-align: top;\n",
       "    }\n",
       "\n",
       "    .dataframe thead th {\n",
       "        text-align: right;\n",
       "    }\n",
       "</style>\n",
       "<table border=\"1\" class=\"dataframe\">\n",
       "  <thead>\n",
       "    <tr style=\"text-align: right;\">\n",
       "      <th></th>\n",
       "      <th>count</th>\n",
       "      <th>mean</th>\n",
       "      <th>std</th>\n",
       "      <th>min</th>\n",
       "      <th>25%</th>\n",
       "      <th>50%</th>\n",
       "      <th>75%</th>\n",
       "      <th>max</th>\n",
       "    </tr>\n",
       "  </thead>\n",
       "  <tbody>\n",
       "    <tr>\n",
       "      <th>Year_Birth</th>\n",
       "      <td>2240.0</td>\n",
       "      <td>1968.805804</td>\n",
       "      <td>11.984069</td>\n",
       "      <td>1893.0</td>\n",
       "      <td>1959.00</td>\n",
       "      <td>1970.0</td>\n",
       "      <td>1977.00</td>\n",
       "      <td>1996.0</td>\n",
       "    </tr>\n",
       "    <tr>\n",
       "      <th>Estimated_Income</th>\n",
       "      <td>2216.0</td>\n",
       "      <td>52247.251354</td>\n",
       "      <td>25173.076661</td>\n",
       "      <td>1730.0</td>\n",
       "      <td>35303.00</td>\n",
       "      <td>51381.5</td>\n",
       "      <td>68522.00</td>\n",
       "      <td>666666.0</td>\n",
       "    </tr>\n",
       "    <tr>\n",
       "      <th>Kid_home</th>\n",
       "      <td>2240.0</td>\n",
       "      <td>0.444196</td>\n",
       "      <td>0.538398</td>\n",
       "      <td>0.0</td>\n",
       "      <td>0.00</td>\n",
       "      <td>0.0</td>\n",
       "      <td>1.00</td>\n",
       "      <td>2.0</td>\n",
       "    </tr>\n",
       "    <tr>\n",
       "      <th>Teen_home</th>\n",
       "      <td>2240.0</td>\n",
       "      <td>0.506250</td>\n",
       "      <td>0.544538</td>\n",
       "      <td>0.0</td>\n",
       "      <td>0.00</td>\n",
       "      <td>0.0</td>\n",
       "      <td>1.00</td>\n",
       "      <td>2.0</td>\n",
       "    </tr>\n",
       "    <tr>\n",
       "      <th>Recency</th>\n",
       "      <td>2240.0</td>\n",
       "      <td>49.109375</td>\n",
       "      <td>28.962453</td>\n",
       "      <td>0.0</td>\n",
       "      <td>24.00</td>\n",
       "      <td>49.0</td>\n",
       "      <td>74.00</td>\n",
       "      <td>99.0</td>\n",
       "    </tr>\n",
       "    <tr>\n",
       "      <th>Exist_Complain</th>\n",
       "      <td>2240.0</td>\n",
       "      <td>0.009375</td>\n",
       "      <td>0.096391</td>\n",
       "      <td>0.0</td>\n",
       "      <td>0.00</td>\n",
       "      <td>0.0</td>\n",
       "      <td>0.00</td>\n",
       "      <td>1.0</td>\n",
       "    </tr>\n",
       "    <tr>\n",
       "      <th>MntWines</th>\n",
       "      <td>2240.0</td>\n",
       "      <td>303.935714</td>\n",
       "      <td>336.597393</td>\n",
       "      <td>0.0</td>\n",
       "      <td>23.75</td>\n",
       "      <td>173.5</td>\n",
       "      <td>504.25</td>\n",
       "      <td>1493.0</td>\n",
       "    </tr>\n",
       "    <tr>\n",
       "      <th>MntFruits</th>\n",
       "      <td>2240.0</td>\n",
       "      <td>26.302232</td>\n",
       "      <td>39.773434</td>\n",
       "      <td>0.0</td>\n",
       "      <td>1.00</td>\n",
       "      <td>8.0</td>\n",
       "      <td>33.00</td>\n",
       "      <td>199.0</td>\n",
       "    </tr>\n",
       "    <tr>\n",
       "      <th>MntMeatProducts</th>\n",
       "      <td>2240.0</td>\n",
       "      <td>166.950000</td>\n",
       "      <td>225.715373</td>\n",
       "      <td>0.0</td>\n",
       "      <td>16.00</td>\n",
       "      <td>67.0</td>\n",
       "      <td>232.00</td>\n",
       "      <td>1725.0</td>\n",
       "    </tr>\n",
       "    <tr>\n",
       "      <th>MntFishProducts</th>\n",
       "      <td>2240.0</td>\n",
       "      <td>37.525446</td>\n",
       "      <td>54.628979</td>\n",
       "      <td>0.0</td>\n",
       "      <td>3.00</td>\n",
       "      <td>12.0</td>\n",
       "      <td>50.00</td>\n",
       "      <td>259.0</td>\n",
       "    </tr>\n",
       "    <tr>\n",
       "      <th>MntSweetProducts</th>\n",
       "      <td>2240.0</td>\n",
       "      <td>27.062946</td>\n",
       "      <td>41.280498</td>\n",
       "      <td>0.0</td>\n",
       "      <td>1.00</td>\n",
       "      <td>8.0</td>\n",
       "      <td>33.00</td>\n",
       "      <td>263.0</td>\n",
       "    </tr>\n",
       "    <tr>\n",
       "      <th>MntGoldProds</th>\n",
       "      <td>2240.0</td>\n",
       "      <td>44.021875</td>\n",
       "      <td>52.167439</td>\n",
       "      <td>0.0</td>\n",
       "      <td>9.00</td>\n",
       "      <td>24.0</td>\n",
       "      <td>56.00</td>\n",
       "      <td>362.0</td>\n",
       "    </tr>\n",
       "    <tr>\n",
       "      <th>NumWebPurchases</th>\n",
       "      <td>2240.0</td>\n",
       "      <td>4.084821</td>\n",
       "      <td>2.778714</td>\n",
       "      <td>0.0</td>\n",
       "      <td>2.00</td>\n",
       "      <td>4.0</td>\n",
       "      <td>6.00</td>\n",
       "      <td>27.0</td>\n",
       "    </tr>\n",
       "    <tr>\n",
       "      <th>NumCatalogPurchases</th>\n",
       "      <td>2240.0</td>\n",
       "      <td>2.662054</td>\n",
       "      <td>2.923101</td>\n",
       "      <td>0.0</td>\n",
       "      <td>0.00</td>\n",
       "      <td>2.0</td>\n",
       "      <td>4.00</td>\n",
       "      <td>28.0</td>\n",
       "    </tr>\n",
       "    <tr>\n",
       "      <th>NumStorePurchases</th>\n",
       "      <td>2240.0</td>\n",
       "      <td>5.790179</td>\n",
       "      <td>3.250958</td>\n",
       "      <td>0.0</td>\n",
       "      <td>3.00</td>\n",
       "      <td>5.0</td>\n",
       "      <td>8.00</td>\n",
       "      <td>13.0</td>\n",
       "    </tr>\n",
       "    <tr>\n",
       "      <th>Member_days</th>\n",
       "      <td>2240.0</td>\n",
       "      <td>539.582143</td>\n",
       "      <td>202.122512</td>\n",
       "      <td>186.0</td>\n",
       "      <td>366.75</td>\n",
       "      <td>541.5</td>\n",
       "      <td>715.00</td>\n",
       "      <td>885.0</td>\n",
       "    </tr>\n",
       "  </tbody>\n",
       "</table>\n",
       "</div>"
      ],
      "text/plain": [
       "                      count          mean           std     min       25%  \\\n",
       "Year_Birth           2240.0   1968.805804     11.984069  1893.0   1959.00   \n",
       "Estimated_Income     2216.0  52247.251354  25173.076661  1730.0  35303.00   \n",
       "Kid_home             2240.0      0.444196      0.538398     0.0      0.00   \n",
       "Teen_home            2240.0      0.506250      0.544538     0.0      0.00   \n",
       "Recency              2240.0     49.109375     28.962453     0.0     24.00   \n",
       "Exist_Complain       2240.0      0.009375      0.096391     0.0      0.00   \n",
       "MntWines             2240.0    303.935714    336.597393     0.0     23.75   \n",
       "MntFruits            2240.0     26.302232     39.773434     0.0      1.00   \n",
       "MntMeatProducts      2240.0    166.950000    225.715373     0.0     16.00   \n",
       "MntFishProducts      2240.0     37.525446     54.628979     0.0      3.00   \n",
       "MntSweetProducts     2240.0     27.062946     41.280498     0.0      1.00   \n",
       "MntGoldProds         2240.0     44.021875     52.167439     0.0      9.00   \n",
       "NumWebPurchases      2240.0      4.084821      2.778714     0.0      2.00   \n",
       "NumCatalogPurchases  2240.0      2.662054      2.923101     0.0      0.00   \n",
       "NumStorePurchases    2240.0      5.790179      3.250958     0.0      3.00   \n",
       "Member_days          2240.0    539.582143    202.122512   186.0    366.75   \n",
       "\n",
       "                         50%       75%       max  \n",
       "Year_Birth            1970.0   1977.00    1996.0  \n",
       "Estimated_Income     51381.5  68522.00  666666.0  \n",
       "Kid_home                 0.0      1.00       2.0  \n",
       "Teen_home                0.0      1.00       2.0  \n",
       "Recency                 49.0     74.00      99.0  \n",
       "Exist_Complain           0.0      0.00       1.0  \n",
       "MntWines               173.5    504.25    1493.0  \n",
       "MntFruits                8.0     33.00     199.0  \n",
       "MntMeatProducts         67.0    232.00    1725.0  \n",
       "MntFishProducts         12.0     50.00     259.0  \n",
       "MntSweetProducts         8.0     33.00     263.0  \n",
       "MntGoldProds            24.0     56.00     362.0  \n",
       "NumWebPurchases          4.0      6.00      27.0  \n",
       "NumCatalogPurchases      2.0      4.00      28.0  \n",
       "NumStorePurchases        5.0      8.00      13.0  \n",
       "Member_days            541.5    715.00     885.0  "
      ]
     },
     "execution_count": 15,
     "metadata": {},
     "output_type": "execute_result"
    }
   ],
   "source": [
    "retail.describe().T"
   ]
  },
  {
   "attachments": {},
   "cell_type": "markdown",
   "id": "108ffe9a",
   "metadata": {},
   "source": [
    "From these results, we can see the central tendency as well as the range of the numerical data. We can already tell that the column `Year_Birth` needs further analysis because there seems to be outliers, for an active customer is highly unlikely to be born in 1893. Let's also have a look at the descriptive statistics of the columns of \"object\" datatype:"
   ]
  },
  {
   "cell_type": "code",
   "execution_count": 16,
   "id": "26ae37a7",
   "metadata": {},
   "outputs": [
    {
     "data": {
      "text/html": [
       "<div>\n",
       "<style scoped>\n",
       "    .dataframe tbody tr th:only-of-type {\n",
       "        vertical-align: middle;\n",
       "    }\n",
       "\n",
       "    .dataframe tbody tr th {\n",
       "        vertical-align: top;\n",
       "    }\n",
       "\n",
       "    .dataframe thead th {\n",
       "        text-align: right;\n",
       "    }\n",
       "</style>\n",
       "<table border=\"1\" class=\"dataframe\">\n",
       "  <thead>\n",
       "    <tr style=\"text-align: right;\">\n",
       "      <th></th>\n",
       "      <th>count</th>\n",
       "      <th>unique</th>\n",
       "      <th>top</th>\n",
       "      <th>freq</th>\n",
       "    </tr>\n",
       "  </thead>\n",
       "  <tbody>\n",
       "    <tr>\n",
       "      <th>Education</th>\n",
       "      <td>2240</td>\n",
       "      <td>5</td>\n",
       "      <td>Graduation</td>\n",
       "      <td>1127</td>\n",
       "    </tr>\n",
       "    <tr>\n",
       "      <th>Marital_Status</th>\n",
       "      <td>2240</td>\n",
       "      <td>8</td>\n",
       "      <td>Married</td>\n",
       "      <td>864</td>\n",
       "    </tr>\n",
       "  </tbody>\n",
       "</table>\n",
       "</div>"
      ],
      "text/plain": [
       "               count unique         top  freq\n",
       "Education       2240      5  Graduation  1127\n",
       "Marital_Status  2240      8     Married   864"
      ]
     },
     "execution_count": 16,
     "metadata": {},
     "output_type": "execute_result"
    }
   ],
   "source": [
    "retail.describe(include='O').T"
   ]
  },
  {
   "attachments": {},
   "cell_type": "markdown",
   "id": "a924173b",
   "metadata": {},
   "source": [
    "We can see that most of the customers are with graduation and are married. Then check unique values of the `Education`, `Marital_Status`, `Kid_home`, `Teen_home` and `Exist_Complain` column to see if there are any unreasonable and noisy data."
   ]
  },
  {
   "cell_type": "code",
   "execution_count": 17,
   "id": "e4d04225",
   "metadata": {},
   "outputs": [
    {
     "name": "stdout",
     "output_type": "stream",
     "text": [
      "Unique values of column \"Education\": ['Graduation' 'PhD' 'Master' 'Basic' '2n Cycle']\n",
      "Unique values of column \"Marital_Status\": ['Single' 'Together' 'Married' 'Divorced' 'Widow' 'Alone' 'Absurd' 'YOLO']\n",
      "Unique values of column \"Kids_home\": [0 1 2]\n",
      "Unique values of column \"Teen_home\": [0 1 2]\n",
      "Unique values of column \"Exist_Complain\": [0 1]\n"
     ]
    }
   ],
   "source": [
    "print('Unique values of column \"Education\": {}'.format(retail.Education.unique()))\n",
    "print('Unique values of column \"Marital_Status\": {}'.format(retail.Marital_Status.unique()))\n",
    "print('Unique values of column \"Kids_home\": {}'.format(retail.Kid_home.unique()))\n",
    "print('Unique values of column \"Teen_home\": {}'.format(retail.Teen_home.unique()))\n",
    "print('Unique values of column \"Exist_Complain\": {}'.format(retail.Exist_Complain.unique()))"
   ]
  },
  {
   "attachments": {},
   "cell_type": "markdown",
   "id": "a281e94f",
   "metadata": {},
   "source": [
    "As the `Exist_Complain` column should be categorical by nature, we will convert its datatype from \"int\" to \"categorical\":"
   ]
  },
  {
   "cell_type": "code",
   "execution_count": 18,
   "id": "03af7520",
   "metadata": {},
   "outputs": [],
   "source": [
    "retail['Exist_Complain'] = retail.Exist_Complain.astype('category')"
   ]
  },
  {
   "attachments": {},
   "cell_type": "markdown",
   "id": "af82e535",
   "metadata": {},
   "source": [
    "Also, we see that there are too many unique values in `Marital_Status`, which carry redundant information and could be misleading for the clustering later on. To keep these values simple, we will change the data in as follows:\n",
    "- 'Married’,'Together'should be labeled 'Relationship'\n",
    "- 'Divorced','Widow','Alone','YOLO','Absurd' should be labeled 'Single'"
   ]
  },
  {
   "cell_type": "code",
   "execution_count": 19,
   "id": "124a1877",
   "metadata": {},
   "outputs": [
    {
     "name": "stdout",
     "output_type": "stream",
     "text": [
      "['Single' 'Relationship']\n"
     ]
    }
   ],
   "source": [
    "#Create mappings and replace\n",
    "mappings = {\n",
    "            'Married':'Relationship', \n",
    "            'Together':'Relationship',\n",
    "            'Divorced':'Single', \n",
    "            'Widow':'Single', \n",
    "            'Alone':'Single', \n",
    "            'YOLO':'Single', \n",
    "            'Absurd':'Single'\n",
    "}\n",
    "retail['Marital_Status'] = retail.Marital_Status.replace(mappings)\n",
    "\n",
    "#check the unique values again\n",
    "print(retail.Marital_Status.unique())"
   ]
  },
  {
   "attachments": {},
   "cell_type": "markdown",
   "id": "d8b7afd0",
   "metadata": {},
   "source": [
    "### Feature Extraction\n",
    "Apart from removing redundant information in a single column as above, we can also combine similar columns into one single column to reduce the dimension of the dataset. For instance, we will add a new column `Children`, which is the number of children, i.e. \"kids\" or \"teenagers\" in customer's household and delete the two original columns `Kid_home` and `Teen_home`."
   ]
  },
  {
   "cell_type": "code",
   "execution_count": 20,
   "id": "d2222a93",
   "metadata": {},
   "outputs": [],
   "source": [
    "retail['Children'] = retail.Kid_home + retail.Teen_home\n",
    "retail.drop(columns=['Kid_home', 'Teen_home'], inplace=True)"
   ]
  },
  {
   "cell_type": "code",
   "execution_count": 21,
   "id": "1d3e8dd4",
   "metadata": {},
   "outputs": [
    {
     "data": {
      "text/html": [
       "<div>\n",
       "<style scoped>\n",
       "    .dataframe tbody tr th:only-of-type {\n",
       "        vertical-align: middle;\n",
       "    }\n",
       "\n",
       "    .dataframe tbody tr th {\n",
       "        vertical-align: top;\n",
       "    }\n",
       "\n",
       "    .dataframe thead th {\n",
       "        text-align: right;\n",
       "    }\n",
       "</style>\n",
       "<table border=\"1\" class=\"dataframe\">\n",
       "  <thead>\n",
       "    <tr style=\"text-align: right;\">\n",
       "      <th></th>\n",
       "      <th>Year_Birth</th>\n",
       "      <th>Education</th>\n",
       "      <th>Marital_Status</th>\n",
       "      <th>Estimated_Income</th>\n",
       "      <th>Recency</th>\n",
       "      <th>Exist_Complain</th>\n",
       "      <th>MntWines</th>\n",
       "      <th>MntFruits</th>\n",
       "      <th>MntMeatProducts</th>\n",
       "      <th>MntFishProducts</th>\n",
       "      <th>MntSweetProducts</th>\n",
       "      <th>MntGoldProds</th>\n",
       "      <th>NumWebPurchases</th>\n",
       "      <th>NumCatalogPurchases</th>\n",
       "      <th>NumStorePurchases</th>\n",
       "      <th>Member_days</th>\n",
       "      <th>Children</th>\n",
       "    </tr>\n",
       "  </thead>\n",
       "  <tbody>\n",
       "    <tr>\n",
       "      <th>0</th>\n",
       "      <td>1957</td>\n",
       "      <td>Graduation</td>\n",
       "      <td>Single</td>\n",
       "      <td>58138.0</td>\n",
       "      <td>58</td>\n",
       "      <td>0</td>\n",
       "      <td>635</td>\n",
       "      <td>88</td>\n",
       "      <td>546</td>\n",
       "      <td>172</td>\n",
       "      <td>88</td>\n",
       "      <td>88</td>\n",
       "      <td>8</td>\n",
       "      <td>10</td>\n",
       "      <td>4</td>\n",
       "      <td>849</td>\n",
       "      <td>0</td>\n",
       "    </tr>\n",
       "    <tr>\n",
       "      <th>1</th>\n",
       "      <td>1954</td>\n",
       "      <td>Graduation</td>\n",
       "      <td>Single</td>\n",
       "      <td>46344.0</td>\n",
       "      <td>38</td>\n",
       "      <td>0</td>\n",
       "      <td>11</td>\n",
       "      <td>1</td>\n",
       "      <td>6</td>\n",
       "      <td>2</td>\n",
       "      <td>1</td>\n",
       "      <td>6</td>\n",
       "      <td>1</td>\n",
       "      <td>1</td>\n",
       "      <td>2</td>\n",
       "      <td>299</td>\n",
       "      <td>2</td>\n",
       "    </tr>\n",
       "    <tr>\n",
       "      <th>2</th>\n",
       "      <td>1965</td>\n",
       "      <td>Graduation</td>\n",
       "      <td>Relationship</td>\n",
       "      <td>71613.0</td>\n",
       "      <td>26</td>\n",
       "      <td>0</td>\n",
       "      <td>426</td>\n",
       "      <td>49</td>\n",
       "      <td>127</td>\n",
       "      <td>111</td>\n",
       "      <td>21</td>\n",
       "      <td>42</td>\n",
       "      <td>8</td>\n",
       "      <td>2</td>\n",
       "      <td>10</td>\n",
       "      <td>498</td>\n",
       "      <td>0</td>\n",
       "    </tr>\n",
       "    <tr>\n",
       "      <th>3</th>\n",
       "      <td>1984</td>\n",
       "      <td>Graduation</td>\n",
       "      <td>Relationship</td>\n",
       "      <td>26646.0</td>\n",
       "      <td>26</td>\n",
       "      <td>0</td>\n",
       "      <td>11</td>\n",
       "      <td>4</td>\n",
       "      <td>20</td>\n",
       "      <td>10</td>\n",
       "      <td>3</td>\n",
       "      <td>5</td>\n",
       "      <td>2</td>\n",
       "      <td>0</td>\n",
       "      <td>4</td>\n",
       "      <td>325</td>\n",
       "      <td>1</td>\n",
       "    </tr>\n",
       "    <tr>\n",
       "      <th>4</th>\n",
       "      <td>1981</td>\n",
       "      <td>PhD</td>\n",
       "      <td>Relationship</td>\n",
       "      <td>58293.0</td>\n",
       "      <td>94</td>\n",
       "      <td>0</td>\n",
       "      <td>173</td>\n",
       "      <td>43</td>\n",
       "      <td>118</td>\n",
       "      <td>46</td>\n",
       "      <td>27</td>\n",
       "      <td>15</td>\n",
       "      <td>5</td>\n",
       "      <td>3</td>\n",
       "      <td>6</td>\n",
       "      <td>347</td>\n",
       "      <td>1</td>\n",
       "    </tr>\n",
       "  </tbody>\n",
       "</table>\n",
       "</div>"
      ],
      "text/plain": [
       "   Year_Birth   Education Marital_Status  Estimated_Income  Recency  \\\n",
       "0        1957  Graduation         Single           58138.0       58   \n",
       "1        1954  Graduation         Single           46344.0       38   \n",
       "2        1965  Graduation   Relationship           71613.0       26   \n",
       "3        1984  Graduation   Relationship           26646.0       26   \n",
       "4        1981         PhD   Relationship           58293.0       94   \n",
       "\n",
       "  Exist_Complain  MntWines  MntFruits  MntMeatProducts  MntFishProducts  \\\n",
       "0              0       635         88              546              172   \n",
       "1              0        11          1                6                2   \n",
       "2              0       426         49              127              111   \n",
       "3              0        11          4               20               10   \n",
       "4              0       173         43              118               46   \n",
       "\n",
       "   MntSweetProducts  MntGoldProds  NumWebPurchases  NumCatalogPurchases  \\\n",
       "0                88            88                8                   10   \n",
       "1                 1             6                1                    1   \n",
       "2                21            42                8                    2   \n",
       "3                 3             5                2                    0   \n",
       "4                27            15                5                    3   \n",
       "\n",
       "   NumStorePurchases  Member_days  Children  \n",
       "0                  4          849         0  \n",
       "1                  2          299         2  \n",
       "2                 10          498         0  \n",
       "3                  4          325         1  \n",
       "4                  6          347         1  "
      ]
     },
     "execution_count": 21,
     "metadata": {},
     "output_type": "execute_result"
    }
   ],
   "source": [
    "#check the first lines again\n",
    "retail.head()"
   ]
  },
  {
   "attachments": {},
   "cell_type": "markdown",
   "id": "06680d71",
   "metadata": {},
   "source": [
    "### Handel Missing Values"
   ]
  },
  {
   "cell_type": "code",
   "execution_count": 22,
   "id": "9bb5322b",
   "metadata": {},
   "outputs": [
    {
     "data": {
      "text/plain": [
       "Year_Birth             False\n",
       "Education              False\n",
       "Marital_Status         False\n",
       "Estimated_Income        True\n",
       "Recency                False\n",
       "Exist_Complain         False\n",
       "MntWines               False\n",
       "MntFruits              False\n",
       "MntMeatProducts        False\n",
       "MntFishProducts        False\n",
       "MntSweetProducts       False\n",
       "MntGoldProds           False\n",
       "NumWebPurchases        False\n",
       "NumCatalogPurchases    False\n",
       "NumStorePurchases      False\n",
       "Member_days            False\n",
       "Children               False\n",
       "dtype: bool"
      ]
     },
     "execution_count": 22,
     "metadata": {},
     "output_type": "execute_result"
    }
   ],
   "source": [
    "retail.isna().any()"
   ]
  },
  {
   "attachments": {},
   "cell_type": "markdown",
   "id": "787e8908",
   "metadata": {},
   "source": [
    "Consistent with our perious overview, `Estimated_Income` column has missing values. We could simply replace the NAN with the mean of it, however, to make the outcome more precise, as we assume that the income level of a customer is affected by his or her level of education, we will instead calculate the average income of customers of groups with different educations, and then replace the `Estimated_Income` null values with the mean `Estimated_Income` value of that particular customer group."
   ]
  },
  {
   "cell_type": "code",
   "execution_count": 23,
   "id": "607c6972",
   "metadata": {},
   "outputs": [
    {
     "data": {
      "text/plain": [
       "Education\n",
       "2n Cycle      47633.190000\n",
       "Basic         20306.259259\n",
       "Graduation    52720.373656\n",
       "Master        52917.534247\n",
       "PhD           56145.313929\n",
       "Name: Estimated_Income, dtype: float64"
      ]
     },
     "execution_count": 23,
     "metadata": {},
     "output_type": "execute_result"
    }
   ],
   "source": [
    "#display the average income of each education group\n",
    "income_groups = retail.groupby('Education').Estimated_Income.mean()\n",
    "income_groups"
   ]
  },
  {
   "cell_type": "code",
   "execution_count": 24,
   "id": "40c5d58f",
   "metadata": {},
   "outputs": [
    {
     "data": {
      "image/png": "[encoded data removed]",
      "text/plain": [
       "<Figure size 600x400 with 1 Axes>"
      ]
     },
     "metadata": {},
     "output_type": "display_data"
    }
   ],
   "source": [
    "#visualize the result above\n",
    "income_groups.plot(kind='bar', rot=0, figsize=(6,4))\n",
    "plt.show()"
   ]
  },
  {
   "attachments": {},
   "cell_type": "markdown",
   "id": "c3fa07fe",
   "metadata": {},
   "source": [
    "Indeed, `Estimated_Income` varies among customers with different educational qualifications as this bar plot suggests."
   ]
  },
  {
   "cell_type": "code",
   "execution_count": 25,
   "id": "4f8c5db3",
   "metadata": {},
   "outputs": [
    {
     "data": {
      "text/plain": [
       "array(['Graduation', 'PhD', '2n Cycle', 'Master'], dtype=object)"
      ]
     },
     "execution_count": 25,
     "metadata": {},
     "output_type": "execute_result"
    }
   ],
   "source": [
    "#display the unique values of the educations of the missing data\n",
    "retail.loc[retail.Estimated_Income.isna(), 'Education'].unique()"
   ]
  },
  {
   "attachments": {},
   "cell_type": "markdown",
   "id": "a06135ca",
   "metadata": {},
   "source": [
    "We define a function to replace missing data with average income value of different groups:"
   ]
  },
  {
   "cell_type": "code",
   "execution_count": 26,
   "id": "e3fe95bc",
   "metadata": {},
   "outputs": [],
   "source": [
    "def impute_income(cols):\n",
    "    '''\n",
    "    returns the average income of different educational level groups\n",
    "    '''\n",
    "    education = cols[0]\n",
    "    income = cols[1]\n",
    "    \n",
    "    if pd.isna(income):\n",
    "        \n",
    "        if education == 'Graduation':\n",
    "            return income_groups['Graduation']\n",
    "        elif education == 'PhD':\n",
    "            return income_groups['PhD']\n",
    "        elif education == '2n Cycle':\n",
    "            return income_groups['2n Cycle']\n",
    "        elif education == 'Master':\n",
    "            return income_groups['Master']\n",
    "        \n",
    "    else:\n",
    "        return income"
   ]
  },
  {
   "cell_type": "code",
   "execution_count": 27,
   "id": "58ca39a6",
   "metadata": {},
   "outputs": [],
   "source": [
    "#apply the impute function above\n",
    "retail['Estimated_Income'] = retail[['Education', 'Estimated_Income']].apply(impute_income, axis=1)"
   ]
  },
  {
   "cell_type": "code",
   "execution_count": 28,
   "id": "236081ee",
   "metadata": {},
   "outputs": [
    {
     "data": {
      "text/plain": [
       "False"
      ]
     },
     "execution_count": 28,
     "metadata": {},
     "output_type": "execute_result"
    }
   ],
   "source": [
    "#check na again\n",
    "retail.Estimated_Income.isna().any()"
   ]
  },
  {
   "attachments": {},
   "cell_type": "markdown",
   "id": "7d29186a",
   "metadata": {},
   "source": [
    "No more missing values in `Estimated_Income` column."
   ]
  },
  {
   "attachments": {},
   "cell_type": "markdown",
   "id": "f82970cd",
   "metadata": {},
   "source": [
    "Just as the original `Marital_Status` column, `Education` column also contains redundant information, for example \"2n Cycle\" is just another name of \"Master\". For this reason, we would change the \"2n Cycle\" to \"Master\" (More information about \"2n Cycle\" please refer to [here](https://www.studera.nu/startpage/higher-education-studies/higher-education-in-sweden/study-levels-and-degrees/#)). Moreover, we will rename \"Graduation\" to \"Bachelor\" to make it's meaning clearer (for more info refer to [here](https://www.quora.com/What-is-graduation-post-graduation-and-undergraduation-Im-little-confused?no_redirect=1)). Moreover, here is an explanation of [\"Basic\"](https://uis.unesco.org/en/glossary-term/basic-education) education."
   ]
  },
  {
   "cell_type": "code",
   "execution_count": 29,
   "id": "c6e3d7f0",
   "metadata": {},
   "outputs": [
    {
     "name": "stdout",
     "output_type": "stream",
     "text": [
      "['Bachelor' 'PhD' 'Master' 'Basic']\n"
     ]
    }
   ],
   "source": [
    "#Create mappings and replace\n",
    "edu_mappings = {\n",
    "            '2n Cycle':'Master', \n",
    "            'Graduation':'Bachelor'\n",
    "}\n",
    "retail['Education'] = retail.Education.replace(edu_mappings)\n",
    "\n",
    "#check the unique values again\n",
    "print(retail.Education.unique())"
   ]
  },
  {
   "attachments": {},
   "cell_type": "markdown",
   "id": "8c2cbe97",
   "metadata": {},
   "source": [
    "### Check and Remove Outliers"
   ]
  },
  {
   "attachments": {},
   "cell_type": "markdown",
   "id": "a0f3edd4",
   "metadata": {},
   "source": [
    "As we will conduct K-means clustering later on, and K-means algorithms can be quite sensitive to outliers. We will therefore use boxplots to detect the potential outliers as individual points and then remove them. Let's look at the `Year_Birth` column first."
   ]
  },
  {
   "cell_type": "code",
   "execution_count": 30,
   "id": "dc83cc79",
   "metadata": {},
   "outputs": [
    {
     "data": {
      "image/png": "[encoded data removed]",
      "text/plain": [
       "<Figure size 600x400 with 1 Axes>"
      ]
     },
     "metadata": {},
     "output_type": "display_data"
    }
   ],
   "source": [
    "#display the outliers of Year_Birth\n",
    "retail.boxplot('Year_Birth', figsize=(6, 4))\n",
    "plt.show()"
   ]
  },
  {
   "cell_type": "code",
   "execution_count": 31,
   "id": "0072abd6",
   "metadata": {},
   "outputs": [
    {
     "data": {
      "text/plain": [
       "239     1893\n",
       "339     1899\n",
       "192     1900\n",
       "1950    1940\n",
       "424     1941\n",
       "        ... \n",
       "747     1995\n",
       "1850    1995\n",
       "696     1995\n",
       "1170    1996\n",
       "46      1996\n",
       "Name: Year_Birth, Length: 2240, dtype: int64"
      ]
     },
     "execution_count": 31,
     "metadata": {},
     "output_type": "execute_result"
    }
   ],
   "source": [
    "retail.Year_Birth.sort_values()"
   ]
  },
  {
   "attachments": {},
   "cell_type": "markdown",
   "id": "a8e79785",
   "metadata": {},
   "source": [
    "An active customer with the year of birth beyond 1900 is highly unlikely and we treat these data as noises and thus drop these observations."
   ]
  },
  {
   "cell_type": "code",
   "execution_count": 32,
   "id": "090ce8f0",
   "metadata": {},
   "outputs": [],
   "source": [
    "retail.drop(index=retail[retail.Year_Birth <= 1900].index, inplace=True)"
   ]
  },
  {
   "cell_type": "code",
   "execution_count": 33,
   "id": "56d0cfc6",
   "metadata": {},
   "outputs": [
    {
     "data": {
      "text/plain": [
       "0"
      ]
     },
     "execution_count": 33,
     "metadata": {},
     "output_type": "execute_result"
    }
   ],
   "source": [
    "#unreasonable age cleaned\n",
    "retail.loc[retail.Year_Birth <= 1900, 'Year_Birth'].count()"
   ]
  },
  {
   "attachments": {},
   "cell_type": "markdown",
   "id": "30a17049",
   "metadata": {},
   "source": [
    "Like the registration date of a customer, the year of birth alone also doesn't give us much information, we will instead convert the year of birth values to the age of the customers (new column `Age`) and drop the original column:"
   ]
  },
  {
   "cell_type": "code",
   "execution_count": 34,
   "id": "948a68aa",
   "metadata": {},
   "outputs": [],
   "source": [
    "#new column age\n",
    "retail['Age'] = today.year - retail.Year_Birth\n",
    "\n",
    "#drop original column\n",
    "retail.drop('Year_Birth', axis=1, inplace=True)"
   ]
  },
  {
   "attachments": {},
   "cell_type": "markdown",
   "id": "c36adce9",
   "metadata": {},
   "source": [
    "For the other numerical columns, we log-scale the y-axis to make the boxplot more readable."
   ]
  },
  {
   "cell_type": "code",
   "execution_count": 35,
   "id": "c97fd844",
   "metadata": {},
   "outputs": [
    {
     "data": {
      "image/png": "[encoded data removed]",
      "text/plain": [
       "<Figure size 2000x800 with 1 Axes>"
      ]
     },
     "metadata": {},
     "output_type": "display_data"
    }
   ],
   "source": [
    "plt.figure(figsize=(20,8))\n",
    "retail.select_dtypes(np.number).boxplot(rot=45)\n",
    "plt.yscale('log')\n",
    "plt.show()"
   ]
  },
  {
   "cell_type": "code",
   "execution_count": 36,
   "id": "cc3a8e26",
   "metadata": {},
   "outputs": [
    {
     "data": {
      "text/plain": [
       "array([0, 2, 1, 3])"
      ]
     },
     "execution_count": 36,
     "metadata": {},
     "output_type": "execute_result"
    }
   ],
   "source": [
    "#unique values in \"Children\" column\n",
    "retail.Children.unique()"
   ]
  },
  {
   "attachments": {},
   "cell_type": "markdown",
   "id": "0df1a6d7",
   "metadata": {},
   "source": [
    "As the boxplots suggest, there are outliers in the dataset (dots beyond the Whiskers). However, these outliers are valid data points derived from a heavy-tailed distribution or rare events, so we will use the \"winsorizing\" technique to handle them by replacing all the outliers with the inter quartile range multiplied by 1.5, i.e. 1.5 x (q75% - q25%) (Inter-quartile-range rule). In this way, we can keep all observations remain in the dataset that may contain useful information. Please note that we won't manipulate the values in `Children` column as it has only 4 values (0,1,2,3) and all of them make sense.\n",
    "\n",
    "We will create a winsorizing() function and perform the manipulation on the above mentioned columns:"
   ]
  },
  {
   "cell_type": "code",
   "execution_count": 37,
   "id": "541c80c6",
   "metadata": {},
   "outputs": [],
   "source": [
    "def winsorizing(df, column):\n",
    "    '''\n",
    "    use the \"winsorizing\" technique to replace outliers of a column \n",
    "    with the inter quartile range multiplied by 1.5\n",
    "    '''\n",
    "    q25, q75 = np.quantile(df[column], [0.25, 0.75])\n",
    "    iqr = q75 - q25 #inter quartile range\n",
    "    lower_limit, upper_limit = q25 - 1.5*iqr, q75 + 1.5*iqr\n",
    "    \n",
    "    df.loc[df[column] < lower_limit, column] = lower_limit\n",
    "    df.loc[df[column] > upper_limit, column] = upper_limit\n",
    "    print(f'The \"{column}\" column is winsorized.')"
   ]
  },
  {
   "cell_type": "code",
   "execution_count": 38,
   "id": "14192c07",
   "metadata": {},
   "outputs": [
    {
     "data": {
      "text/plain": [
       "['Estimated_Income',\n",
       " 'Recency',\n",
       " 'MntWines',\n",
       " 'MntFruits',\n",
       " 'MntMeatProducts',\n",
       " 'MntFishProducts',\n",
       " 'MntSweetProducts',\n",
       " 'MntGoldProds',\n",
       " 'NumWebPurchases',\n",
       " 'NumCatalogPurchases',\n",
       " 'NumStorePurchases',\n",
       " 'Member_days',\n",
       " 'Age']"
      ]
     },
     "execution_count": 38,
     "metadata": {},
     "output_type": "execute_result"
    }
   ],
   "source": [
    "#the columns to be manipulated\n",
    "column_towinsorize = list(retail.select_dtypes(np.number).columns)\n",
    "column_towinsorize.remove('Children') # exclude \"Children\" column\n",
    "column_towinsorize"
   ]
  },
  {
   "cell_type": "code",
   "execution_count": 39,
   "id": "70b59ef9",
   "metadata": {},
   "outputs": [
    {
     "name": "stdout",
     "output_type": "stream",
     "text": [
      "The \"Estimated_Income\" column is winsorized.\n",
      "The \"Recency\" column is winsorized.\n",
      "The \"MntWines\" column is winsorized.\n",
      "The \"MntFruits\" column is winsorized.\n",
      "The \"MntMeatProducts\" column is winsorized.\n",
      "The \"MntFishProducts\" column is winsorized.\n",
      "The \"MntSweetProducts\" column is winsorized.\n",
      "The \"MntGoldProds\" column is winsorized.\n",
      "The \"NumWebPurchases\" column is winsorized.\n",
      "The \"NumCatalogPurchases\" column is winsorized.\n",
      "The \"NumStorePurchases\" column is winsorized.\n",
      "The \"Member_days\" column is winsorized.\n",
      "The \"Age\" column is winsorized.\n"
     ]
    }
   ],
   "source": [
    "#perform winsorizing\n",
    "for column in column_towinsorize:\n",
    "    winsorizing(retail, column)"
   ]
  },
  {
   "attachments": {},
   "cell_type": "markdown",
   "id": "9f2656c1",
   "metadata": {},
   "source": [
    "Let's view the winsorized dataset:"
   ]
  },
  {
   "cell_type": "code",
   "execution_count": 40,
   "id": "80c3a64a",
   "metadata": {},
   "outputs": [
    {
     "data": {
      "image/png": "[encoded data removed]",
      "text/plain": [
       "<Figure size 2000x800 with 1 Axes>"
      ]
     },
     "metadata": {},
     "output_type": "display_data"
    }
   ],
   "source": [
    "plt.figure(figsize=(20,8))\n",
    "retail[column_towinsorize].boxplot(rot=45)\n",
    "plt.yscale('log')\n",
    "plt.show()"
   ]
  },
  {
   "attachments": {},
   "cell_type": "markdown",
   "id": "1f31ccf5",
   "metadata": {},
   "source": [
    "As the boxplot of the new dataset suggests, we removed the outliers. Let's have a final view of our prepared dataset:"
   ]
  },
  {
   "cell_type": "code",
   "execution_count": 41,
   "id": "88235118",
   "metadata": {},
   "outputs": [
    {
     "data": {
      "text/html": [
       "<div>\n",
       "<style scoped>\n",
       "    .dataframe tbody tr th:only-of-type {\n",
       "        vertical-align: middle;\n",
       "    }\n",
       "\n",
       "    .dataframe tbody tr th {\n",
       "        vertical-align: top;\n",
       "    }\n",
       "\n",
       "    .dataframe thead th {\n",
       "        text-align: right;\n",
       "    }\n",
       "</style>\n",
       "<table border=\"1\" class=\"dataframe\">\n",
       "  <thead>\n",
       "    <tr style=\"text-align: right;\">\n",
       "      <th></th>\n",
       "      <th>Education</th>\n",
       "      <th>Marital_Status</th>\n",
       "      <th>Estimated_Income</th>\n",
       "      <th>Recency</th>\n",
       "      <th>Exist_Complain</th>\n",
       "      <th>MntWines</th>\n",
       "      <th>MntFruits</th>\n",
       "      <th>MntMeatProducts</th>\n",
       "      <th>MntFishProducts</th>\n",
       "      <th>MntSweetProducts</th>\n",
       "      <th>MntGoldProds</th>\n",
       "      <th>NumWebPurchases</th>\n",
       "      <th>NumCatalogPurchases</th>\n",
       "      <th>NumStorePurchases</th>\n",
       "      <th>Member_days</th>\n",
       "      <th>Children</th>\n",
       "      <th>Age</th>\n",
       "    </tr>\n",
       "  </thead>\n",
       "  <tbody>\n",
       "    <tr>\n",
       "      <th>0</th>\n",
       "      <td>Bachelor</td>\n",
       "      <td>Single</td>\n",
       "      <td>58138.0</td>\n",
       "      <td>58</td>\n",
       "      <td>0</td>\n",
       "      <td>635</td>\n",
       "      <td>81</td>\n",
       "      <td>546</td>\n",
       "      <td>120.5</td>\n",
       "      <td>81</td>\n",
       "      <td>88.0</td>\n",
       "      <td>8</td>\n",
       "      <td>10</td>\n",
       "      <td>4.0</td>\n",
       "      <td>849</td>\n",
       "      <td>0</td>\n",
       "      <td>66</td>\n",
       "    </tr>\n",
       "    <tr>\n",
       "      <th>1</th>\n",
       "      <td>Bachelor</td>\n",
       "      <td>Single</td>\n",
       "      <td>46344.0</td>\n",
       "      <td>38</td>\n",
       "      <td>0</td>\n",
       "      <td>11</td>\n",
       "      <td>1</td>\n",
       "      <td>6</td>\n",
       "      <td>2.0</td>\n",
       "      <td>1</td>\n",
       "      <td>6.0</td>\n",
       "      <td>1</td>\n",
       "      <td>1</td>\n",
       "      <td>2.0</td>\n",
       "      <td>299</td>\n",
       "      <td>2</td>\n",
       "      <td>69</td>\n",
       "    </tr>\n",
       "    <tr>\n",
       "      <th>2</th>\n",
       "      <td>Bachelor</td>\n",
       "      <td>Relationship</td>\n",
       "      <td>71613.0</td>\n",
       "      <td>26</td>\n",
       "      <td>0</td>\n",
       "      <td>426</td>\n",
       "      <td>49</td>\n",
       "      <td>127</td>\n",
       "      <td>111.0</td>\n",
       "      <td>21</td>\n",
       "      <td>42.0</td>\n",
       "      <td>8</td>\n",
       "      <td>2</td>\n",
       "      <td>10.0</td>\n",
       "      <td>498</td>\n",
       "      <td>0</td>\n",
       "      <td>58</td>\n",
       "    </tr>\n",
       "    <tr>\n",
       "      <th>3</th>\n",
       "      <td>Bachelor</td>\n",
       "      <td>Relationship</td>\n",
       "      <td>26646.0</td>\n",
       "      <td>26</td>\n",
       "      <td>0</td>\n",
       "      <td>11</td>\n",
       "      <td>4</td>\n",
       "      <td>20</td>\n",
       "      <td>10.0</td>\n",
       "      <td>3</td>\n",
       "      <td>5.0</td>\n",
       "      <td>2</td>\n",
       "      <td>0</td>\n",
       "      <td>4.0</td>\n",
       "      <td>325</td>\n",
       "      <td>1</td>\n",
       "      <td>39</td>\n",
       "    </tr>\n",
       "    <tr>\n",
       "      <th>4</th>\n",
       "      <td>PhD</td>\n",
       "      <td>Relationship</td>\n",
       "      <td>58293.0</td>\n",
       "      <td>94</td>\n",
       "      <td>0</td>\n",
       "      <td>173</td>\n",
       "      <td>43</td>\n",
       "      <td>118</td>\n",
       "      <td>46.0</td>\n",
       "      <td>27</td>\n",
       "      <td>15.0</td>\n",
       "      <td>5</td>\n",
       "      <td>3</td>\n",
       "      <td>6.0</td>\n",
       "      <td>347</td>\n",
       "      <td>1</td>\n",
       "      <td>42</td>\n",
       "    </tr>\n",
       "  </tbody>\n",
       "</table>\n",
       "</div>"
      ],
      "text/plain": [
       "  Education Marital_Status  Estimated_Income  Recency Exist_Complain  \\\n",
       "0  Bachelor         Single           58138.0       58              0   \n",
       "1  Bachelor         Single           46344.0       38              0   \n",
       "2  Bachelor   Relationship           71613.0       26              0   \n",
       "3  Bachelor   Relationship           26646.0       26              0   \n",
       "4       PhD   Relationship           58293.0       94              0   \n",
       "\n",
       "   MntWines  MntFruits  MntMeatProducts  MntFishProducts  MntSweetProducts  \\\n",
       "0       635         81              546            120.5                81   \n",
       "1        11          1                6              2.0                 1   \n",
       "2       426         49              127            111.0                21   \n",
       "3        11          4               20             10.0                 3   \n",
       "4       173         43              118             46.0                27   \n",
       "\n",
       "   MntGoldProds  NumWebPurchases  NumCatalogPurchases  NumStorePurchases  \\\n",
       "0          88.0                8                   10                4.0   \n",
       "1           6.0                1                    1                2.0   \n",
       "2          42.0                8                    2               10.0   \n",
       "3           5.0                2                    0                4.0   \n",
       "4          15.0                5                    3                6.0   \n",
       "\n",
       "   Member_days  Children  Age  \n",
       "0          849         0   66  \n",
       "1          299         2   69  \n",
       "2          498         0   58  \n",
       "3          325         1   39  \n",
       "4          347         1   42  "
      ]
     },
     "execution_count": 41,
     "metadata": {},
     "output_type": "execute_result"
    }
   ],
   "source": [
    "retail.head()"
   ]
  },
  {
   "cell_type": "code",
   "execution_count": 42,
   "id": "1d1ec6fb",
   "metadata": {
    "scrolled": false
   },
   "outputs": [
    {
     "name": "stdout",
     "output_type": "stream",
     "text": [
      "<class 'pandas.core.frame.DataFrame'>\n",
      "Int64Index: 2237 entries, 0 to 2239\n",
      "Data columns (total 17 columns):\n",
      " #   Column               Non-Null Count  Dtype   \n",
      "---  ------               --------------  -----   \n",
      " 0   Education            2237 non-null   object  \n",
      " 1   Marital_Status       2237 non-null   object  \n",
      " 2   Estimated_Income     2237 non-null   float64 \n",
      " 3   Recency              2237 non-null   int64   \n",
      " 4   Exist_Complain       2237 non-null   category\n",
      " 5   MntWines             2237 non-null   int64   \n",
      " 6   MntFruits            2237 non-null   int64   \n",
      " 7   MntMeatProducts      2237 non-null   int64   \n",
      " 8   MntFishProducts      2237 non-null   float64 \n",
      " 9   MntSweetProducts     2237 non-null   int64   \n",
      " 10  MntGoldProds         2237 non-null   float64 \n",
      " 11  NumWebPurchases      2237 non-null   int64   \n",
      " 12  NumCatalogPurchases  2237 non-null   int64   \n",
      " 13  NumStorePurchases    2237 non-null   float64 \n",
      " 14  Member_days          2237 non-null   int64   \n",
      " 15  Children             2237 non-null   int64   \n",
      " 16  Age                  2237 non-null   int64   \n",
      "dtypes: category(1), float64(4), int64(10), object(2)\n",
      "memory usage: 299.4+ KB\n"
     ]
    }
   ],
   "source": [
    "retail.info()"
   ]
  },
  {
   "cell_type": "code",
   "execution_count": 43,
   "id": "e68bac3a",
   "metadata": {},
   "outputs": [
    {
     "data": {
      "text/html": [
       "<div>\n",
       "<style scoped>\n",
       "    .dataframe tbody tr th:only-of-type {\n",
       "        vertical-align: middle;\n",
       "    }\n",
       "\n",
       "    .dataframe tbody tr th {\n",
       "        vertical-align: top;\n",
       "    }\n",
       "\n",
       "    .dataframe thead th {\n",
       "        text-align: right;\n",
       "    }\n",
       "</style>\n",
       "<table border=\"1\" class=\"dataframe\">\n",
       "  <thead>\n",
       "    <tr style=\"text-align: right;\">\n",
       "      <th></th>\n",
       "      <th>count</th>\n",
       "      <th>mean</th>\n",
       "      <th>std</th>\n",
       "      <th>min</th>\n",
       "      <th>25%</th>\n",
       "      <th>50%</th>\n",
       "      <th>75%</th>\n",
       "      <th>max</th>\n",
       "    </tr>\n",
       "  </thead>\n",
       "  <tbody>\n",
       "    <tr>\n",
       "      <th>Estimated_Income</th>\n",
       "      <td>2237.0</td>\n",
       "      <td>51870.451909</td>\n",
       "      <td>20937.880606</td>\n",
       "      <td>1730.0</td>\n",
       "      <td>35523.0</td>\n",
       "      <td>51569.0</td>\n",
       "      <td>68281.0</td>\n",
       "      <td>117418.0</td>\n",
       "    </tr>\n",
       "    <tr>\n",
       "      <th>Recency</th>\n",
       "      <td>2237.0</td>\n",
       "      <td>49.104604</td>\n",
       "      <td>28.956073</td>\n",
       "      <td>0.0</td>\n",
       "      <td>24.0</td>\n",
       "      <td>49.0</td>\n",
       "      <td>74.0</td>\n",
       "      <td>99.0</td>\n",
       "    </tr>\n",
       "    <tr>\n",
       "      <th>MntWines</th>\n",
       "      <td>2237.0</td>\n",
       "      <td>302.154671</td>\n",
       "      <td>330.983171</td>\n",
       "      <td>0.0</td>\n",
       "      <td>24.0</td>\n",
       "      <td>174.0</td>\n",
       "      <td>504.0</td>\n",
       "      <td>1224.0</td>\n",
       "    </tr>\n",
       "    <tr>\n",
       "      <th>MntFruits</th>\n",
       "      <td>2237.0</td>\n",
       "      <td>21.669200</td>\n",
       "      <td>27.240885</td>\n",
       "      <td>0.0</td>\n",
       "      <td>1.0</td>\n",
       "      <td>8.0</td>\n",
       "      <td>33.0</td>\n",
       "      <td>81.0</td>\n",
       "    </tr>\n",
       "    <tr>\n",
       "      <th>MntMeatProducts</th>\n",
       "      <td>2237.0</td>\n",
       "      <td>150.821189</td>\n",
       "      <td>178.679174</td>\n",
       "      <td>0.0</td>\n",
       "      <td>16.0</td>\n",
       "      <td>67.0</td>\n",
       "      <td>232.0</td>\n",
       "      <td>556.0</td>\n",
       "    </tr>\n",
       "    <tr>\n",
       "      <th>MntFishProducts</th>\n",
       "      <td>2237.0</td>\n",
       "      <td>32.106169</td>\n",
       "      <td>40.352941</td>\n",
       "      <td>0.0</td>\n",
       "      <td>3.0</td>\n",
       "      <td>12.0</td>\n",
       "      <td>50.0</td>\n",
       "      <td>120.5</td>\n",
       "    </tr>\n",
       "    <tr>\n",
       "      <th>MntSweetProducts</th>\n",
       "      <td>2237.0</td>\n",
       "      <td>21.936969</td>\n",
       "      <td>27.537924</td>\n",
       "      <td>0.0</td>\n",
       "      <td>1.0</td>\n",
       "      <td>8.0</td>\n",
       "      <td>33.0</td>\n",
       "      <td>81.0</td>\n",
       "    </tr>\n",
       "    <tr>\n",
       "      <th>MntGoldProds</th>\n",
       "      <td>2237.0</td>\n",
       "      <td>39.472061</td>\n",
       "      <td>39.902834</td>\n",
       "      <td>0.0</td>\n",
       "      <td>9.0</td>\n",
       "      <td>24.0</td>\n",
       "      <td>56.0</td>\n",
       "      <td>126.5</td>\n",
       "    </tr>\n",
       "    <tr>\n",
       "      <th>NumWebPurchases</th>\n",
       "      <td>2237.0</td>\n",
       "      <td>4.063031</td>\n",
       "      <td>2.647957</td>\n",
       "      <td>0.0</td>\n",
       "      <td>2.0</td>\n",
       "      <td>4.0</td>\n",
       "      <td>6.0</td>\n",
       "      <td>12.0</td>\n",
       "    </tr>\n",
       "    <tr>\n",
       "      <th>NumCatalogPurchases</th>\n",
       "      <td>2237.0</td>\n",
       "      <td>2.624497</td>\n",
       "      <td>2.734901</td>\n",
       "      <td>0.0</td>\n",
       "      <td>0.0</td>\n",
       "      <td>2.0</td>\n",
       "      <td>4.0</td>\n",
       "      <td>10.0</td>\n",
       "    </tr>\n",
       "    <tr>\n",
       "      <th>NumStorePurchases</th>\n",
       "      <td>2237.0</td>\n",
       "      <td>5.794367</td>\n",
       "      <td>3.250940</td>\n",
       "      <td>0.0</td>\n",
       "      <td>3.0</td>\n",
       "      <td>5.0</td>\n",
       "      <td>8.0</td>\n",
       "      <td>13.0</td>\n",
       "    </tr>\n",
       "    <tr>\n",
       "      <th>Member_days</th>\n",
       "      <td>2237.0</td>\n",
       "      <td>539.790344</td>\n",
       "      <td>202.137961</td>\n",
       "      <td>186.0</td>\n",
       "      <td>367.0</td>\n",
       "      <td>542.0</td>\n",
       "      <td>715.0</td>\n",
       "      <td>885.0</td>\n",
       "    </tr>\n",
       "    <tr>\n",
       "      <th>Children</th>\n",
       "      <td>2237.0</td>\n",
       "      <td>0.950827</td>\n",
       "      <td>0.752037</td>\n",
       "      <td>0.0</td>\n",
       "      <td>0.0</td>\n",
       "      <td>1.0</td>\n",
       "      <td>1.0</td>\n",
       "      <td>3.0</td>\n",
       "    </tr>\n",
       "    <tr>\n",
       "      <th>Age</th>\n",
       "      <td>2237.0</td>\n",
       "      <td>54.098346</td>\n",
       "      <td>11.701917</td>\n",
       "      <td>27.0</td>\n",
       "      <td>46.0</td>\n",
       "      <td>53.0</td>\n",
       "      <td>64.0</td>\n",
       "      <td>83.0</td>\n",
       "    </tr>\n",
       "  </tbody>\n",
       "</table>\n",
       "</div>"
      ],
      "text/plain": [
       "                      count          mean           std     min      25%  \\\n",
       "Estimated_Income     2237.0  51870.451909  20937.880606  1730.0  35523.0   \n",
       "Recency              2237.0     49.104604     28.956073     0.0     24.0   \n",
       "MntWines             2237.0    302.154671    330.983171     0.0     24.0   \n",
       "MntFruits            2237.0     21.669200     27.240885     0.0      1.0   \n",
       "MntMeatProducts      2237.0    150.821189    178.679174     0.0     16.0   \n",
       "MntFishProducts      2237.0     32.106169     40.352941     0.0      3.0   \n",
       "MntSweetProducts     2237.0     21.936969     27.537924     0.0      1.0   \n",
       "MntGoldProds         2237.0     39.472061     39.902834     0.0      9.0   \n",
       "NumWebPurchases      2237.0      4.063031      2.647957     0.0      2.0   \n",
       "NumCatalogPurchases  2237.0      2.624497      2.734901     0.0      0.0   \n",
       "NumStorePurchases    2237.0      5.794367      3.250940     0.0      3.0   \n",
       "Member_days          2237.0    539.790344    202.137961   186.0    367.0   \n",
       "Children             2237.0      0.950827      0.752037     0.0      0.0   \n",
       "Age                  2237.0     54.098346     11.701917    27.0     46.0   \n",
       "\n",
       "                         50%      75%       max  \n",
       "Estimated_Income     51569.0  68281.0  117418.0  \n",
       "Recency                 49.0     74.0      99.0  \n",
       "MntWines               174.0    504.0    1224.0  \n",
       "MntFruits                8.0     33.0      81.0  \n",
       "MntMeatProducts         67.0    232.0     556.0  \n",
       "MntFishProducts         12.0     50.0     120.5  \n",
       "MntSweetProducts         8.0     33.0      81.0  \n",
       "MntGoldProds            24.0     56.0     126.5  \n",
       "NumWebPurchases          4.0      6.0      12.0  \n",
       "NumCatalogPurchases      2.0      4.0      10.0  \n",
       "NumStorePurchases        5.0      8.0      13.0  \n",
       "Member_days            542.0    715.0     885.0  \n",
       "Children                 1.0      1.0       3.0  \n",
       "Age                     53.0     64.0      83.0  "
      ]
     },
     "execution_count": 43,
     "metadata": {},
     "output_type": "execute_result"
    }
   ],
   "source": [
    "retail.describe().T"
   ]
  },
  {
   "cell_type": "code",
   "execution_count": 44,
   "id": "1f7fa9a5",
   "metadata": {},
   "outputs": [
    {
     "data": {
      "text/html": [
       "<div>\n",
       "<style scoped>\n",
       "    .dataframe tbody tr th:only-of-type {\n",
       "        vertical-align: middle;\n",
       "    }\n",
       "\n",
       "    .dataframe tbody tr th {\n",
       "        vertical-align: top;\n",
       "    }\n",
       "\n",
       "    .dataframe thead th {\n",
       "        text-align: right;\n",
       "    }\n",
       "</style>\n",
       "<table border=\"1\" class=\"dataframe\">\n",
       "  <thead>\n",
       "    <tr style=\"text-align: right;\">\n",
       "      <th></th>\n",
       "      <th>count</th>\n",
       "      <th>unique</th>\n",
       "      <th>top</th>\n",
       "      <th>freq</th>\n",
       "    </tr>\n",
       "  </thead>\n",
       "  <tbody>\n",
       "    <tr>\n",
       "      <th>Education</th>\n",
       "      <td>2237</td>\n",
       "      <td>4</td>\n",
       "      <td>Bachelor</td>\n",
       "      <td>1127</td>\n",
       "    </tr>\n",
       "    <tr>\n",
       "      <th>Marital_Status</th>\n",
       "      <td>2237</td>\n",
       "      <td>2</td>\n",
       "      <td>Relationship</td>\n",
       "      <td>1443</td>\n",
       "    </tr>\n",
       "    <tr>\n",
       "      <th>Exist_Complain</th>\n",
       "      <td>2237</td>\n",
       "      <td>2</td>\n",
       "      <td>0</td>\n",
       "      <td>2217</td>\n",
       "    </tr>\n",
       "  </tbody>\n",
       "</table>\n",
       "</div>"
      ],
      "text/plain": [
       "               count unique           top  freq\n",
       "Education       2237      4      Bachelor  1127\n",
       "Marital_Status  2237      2  Relationship  1443\n",
       "Exist_Complain  2237      2             0  2217"
      ]
     },
     "execution_count": 44,
     "metadata": {},
     "output_type": "execute_result"
    }
   ],
   "source": [
    "retail.describe(include=['O', 'category']).T"
   ]
  },
  {
   "attachments": {},
   "cell_type": "markdown",
   "id": "7cc612db",
   "metadata": {},
   "source": [
    "Now that we engineered the features, replaced the null values and handeled the outliers, it is a good starting point for cluster analysis with K-means algorithm. As the last step of data preparation, we will create a processing pipeline containing the transformation of all the categorical features with one-hot encoding and the numerical features with standard-scaler, because we have to ensure that all features are measured on the same scale."
   ]
  },
  {
   "cell_type": "code",
   "execution_count": 45,
   "id": "d4dd8ec7",
   "metadata": {},
   "outputs": [],
   "source": [
    "#create a preprocessing pipeline\n",
    "preprocessing = ColumnTransformer([\n",
    "    ('cat', OneHotEncoder(sparse_output=False, handle_unknown='ignore'), make_column_selector(dtype_exclude=np.number))\n",
    "], remainder=StandardScaler(), verbose_feature_names_out=False)"
   ]
  },
  {
   "attachments": {},
   "cell_type": "markdown",
   "id": "595e9601",
   "metadata": {},
   "source": [
    "## Task 1\n",
    "Cluster the existing data based on appropriate procedures."
   ]
  },
  {
   "cell_type": "code",
   "execution_count": 46,
   "id": "8b38432e",
   "metadata": {},
   "outputs": [
    {
     "data": {
      "text/html": [
       "<div>\n",
       "<style scoped>\n",
       "    .dataframe tbody tr th:only-of-type {\n",
       "        vertical-align: middle;\n",
       "    }\n",
       "\n",
       "    .dataframe tbody tr th {\n",
       "        vertical-align: top;\n",
       "    }\n",
       "\n",
       "    .dataframe thead th {\n",
       "        text-align: right;\n",
       "    }\n",
       "</style>\n",
       "<table border=\"1\" class=\"dataframe\">\n",
       "  <thead>\n",
       "    <tr style=\"text-align: right;\">\n",
       "      <th></th>\n",
       "      <th>Education_Bachelor</th>\n",
       "      <th>Education_Basic</th>\n",
       "      <th>Education_Master</th>\n",
       "      <th>Education_PhD</th>\n",
       "      <th>Marital_Status_Relationship</th>\n",
       "      <th>Marital_Status_Single</th>\n",
       "      <th>Exist_Complain_0</th>\n",
       "      <th>Exist_Complain_1</th>\n",
       "      <th>Estimated_Income</th>\n",
       "      <th>Recency</th>\n",
       "      <th>MntWines</th>\n",
       "      <th>MntFruits</th>\n",
       "      <th>MntMeatProducts</th>\n",
       "      <th>MntFishProducts</th>\n",
       "      <th>MntSweetProducts</th>\n",
       "      <th>MntGoldProds</th>\n",
       "      <th>NumWebPurchases</th>\n",
       "      <th>NumCatalogPurchases</th>\n",
       "      <th>NumStorePurchases</th>\n",
       "      <th>Member_days</th>\n",
       "      <th>Children</th>\n",
       "      <th>Age</th>\n",
       "    </tr>\n",
       "  </thead>\n",
       "  <tbody>\n",
       "    <tr>\n",
       "      <th>0</th>\n",
       "      <td>1.0</td>\n",
       "      <td>0.0</td>\n",
       "      <td>0.0</td>\n",
       "      <td>0.0</td>\n",
       "      <td>0.0</td>\n",
       "      <td>1.0</td>\n",
       "      <td>1.0</td>\n",
       "      <td>0.0</td>\n",
       "      <td>0.299407</td>\n",
       "      <td>0.307272</td>\n",
       "      <td>1.005851</td>\n",
       "      <td>2.178493</td>\n",
       "      <td>2.212161</td>\n",
       "      <td>2.191007</td>\n",
       "      <td>2.145268</td>\n",
       "      <td>1.216425</td>\n",
       "      <td>1.487127</td>\n",
       "      <td>2.697411</td>\n",
       "      <td>-0.552077</td>\n",
       "      <td>1.530038</td>\n",
       "      <td>-1.264618</td>\n",
       "      <td>1.017296</td>\n",
       "    </tr>\n",
       "    <tr>\n",
       "      <th>1</th>\n",
       "      <td>1.0</td>\n",
       "      <td>0.0</td>\n",
       "      <td>0.0</td>\n",
       "      <td>0.0</td>\n",
       "      <td>0.0</td>\n",
       "      <td>1.0</td>\n",
       "      <td>1.0</td>\n",
       "      <td>0.0</td>\n",
       "      <td>-0.264004</td>\n",
       "      <td>-0.383584</td>\n",
       "      <td>-0.879863</td>\n",
       "      <td>-0.758926</td>\n",
       "      <td>-0.810691</td>\n",
       "      <td>-0.746238</td>\n",
       "      <td>-0.760466</td>\n",
       "      <td>-0.839027</td>\n",
       "      <td>-1.157011</td>\n",
       "      <td>-0.594120</td>\n",
       "      <td>-1.167421</td>\n",
       "      <td>-1.191484</td>\n",
       "      <td>1.395420</td>\n",
       "      <td>1.273722</td>\n",
       "    </tr>\n",
       "    <tr>\n",
       "      <th>2</th>\n",
       "      <td>1.0</td>\n",
       "      <td>0.0</td>\n",
       "      <td>0.0</td>\n",
       "      <td>0.0</td>\n",
       "      <td>1.0</td>\n",
       "      <td>0.0</td>\n",
       "      <td>1.0</td>\n",
       "      <td>0.0</td>\n",
       "      <td>0.943121</td>\n",
       "      <td>-0.798098</td>\n",
       "      <td>0.374258</td>\n",
       "      <td>1.003525</td>\n",
       "      <td>-0.133348</td>\n",
       "      <td>1.955532</td>\n",
       "      <td>-0.034032</td>\n",
       "      <td>0.063367</td>\n",
       "      <td>1.487127</td>\n",
       "      <td>-0.228395</td>\n",
       "      <td>1.293956</td>\n",
       "      <td>-0.206788</td>\n",
       "      <td>-1.264618</td>\n",
       "      <td>0.333495</td>\n",
       "    </tr>\n",
       "    <tr>\n",
       "      <th>3</th>\n",
       "      <td>1.0</td>\n",
       "      <td>0.0</td>\n",
       "      <td>0.0</td>\n",
       "      <td>0.0</td>\n",
       "      <td>1.0</td>\n",
       "      <td>0.0</td>\n",
       "      <td>1.0</td>\n",
       "      <td>0.0</td>\n",
       "      <td>-1.204997</td>\n",
       "      <td>-0.798098</td>\n",
       "      <td>-0.879863</td>\n",
       "      <td>-0.648773</td>\n",
       "      <td>-0.732321</td>\n",
       "      <td>-0.547943</td>\n",
       "      <td>-0.687822</td>\n",
       "      <td>-0.864093</td>\n",
       "      <td>-0.779277</td>\n",
       "      <td>-0.959846</td>\n",
       "      <td>-0.552077</td>\n",
       "      <td>-1.062830</td>\n",
       "      <td>0.065401</td>\n",
       "      <td>-1.290534</td>\n",
       "    </tr>\n",
       "    <tr>\n",
       "      <th>4</th>\n",
       "      <td>0.0</td>\n",
       "      <td>0.0</td>\n",
       "      <td>0.0</td>\n",
       "      <td>1.0</td>\n",
       "      <td>1.0</td>\n",
       "      <td>0.0</td>\n",
       "      <td>1.0</td>\n",
       "      <td>0.0</td>\n",
       "      <td>0.306812</td>\n",
       "      <td>1.550812</td>\n",
       "      <td>-0.390302</td>\n",
       "      <td>0.783219</td>\n",
       "      <td>-0.183729</td>\n",
       "      <td>0.344385</td>\n",
       "      <td>0.183898</td>\n",
       "      <td>-0.613428</td>\n",
       "      <td>0.353925</td>\n",
       "      <td>0.137331</td>\n",
       "      <td>0.063267</td>\n",
       "      <td>-0.953970</td>\n",
       "      <td>0.065401</td>\n",
       "      <td>-1.034108</td>\n",
       "    </tr>\n",
       "  </tbody>\n",
       "</table>\n",
       "</div>"
      ],
      "text/plain": [
       "   Education_Bachelor  Education_Basic  Education_Master  Education_PhD  \\\n",
       "0                 1.0              0.0               0.0            0.0   \n",
       "1                 1.0              0.0               0.0            0.0   \n",
       "2                 1.0              0.0               0.0            0.0   \n",
       "3                 1.0              0.0               0.0            0.0   \n",
       "4                 0.0              0.0               0.0            1.0   \n",
       "\n",
       "   Marital_Status_Relationship  Marital_Status_Single  Exist_Complain_0  \\\n",
       "0                          0.0                    1.0               1.0   \n",
       "1                          0.0                    1.0               1.0   \n",
       "2                          1.0                    0.0               1.0   \n",
       "3                          1.0                    0.0               1.0   \n",
       "4                          1.0                    0.0               1.0   \n",
       "\n",
       "   Exist_Complain_1  Estimated_Income   Recency  MntWines  MntFruits  \\\n",
       "0               0.0          0.299407  0.307272  1.005851   2.178493   \n",
       "1               0.0         -0.264004 -0.383584 -0.879863  -0.758926   \n",
       "2               0.0          0.943121 -0.798098  0.374258   1.003525   \n",
       "3               0.0         -1.204997 -0.798098 -0.879863  -0.648773   \n",
       "4               0.0          0.306812  1.550812 -0.390302   0.783219   \n",
       "\n",
       "   MntMeatProducts  MntFishProducts  MntSweetProducts  MntGoldProds  \\\n",
       "0         2.212161         2.191007          2.145268      1.216425   \n",
       "1        -0.810691        -0.746238         -0.760466     -0.839027   \n",
       "2        -0.133348         1.955532         -0.034032      0.063367   \n",
       "3        -0.732321        -0.547943         -0.687822     -0.864093   \n",
       "4        -0.183729         0.344385          0.183898     -0.613428   \n",
       "\n",
       "   NumWebPurchases  NumCatalogPurchases  NumStorePurchases  Member_days  \\\n",
       "0         1.487127             2.697411          -0.552077     1.530038   \n",
       "1        -1.157011            -0.594120          -1.167421    -1.191484   \n",
       "2         1.487127            -0.228395           1.293956    -0.206788   \n",
       "3        -0.779277            -0.959846          -0.552077    -1.062830   \n",
       "4         0.353925             0.137331           0.063267    -0.953970   \n",
       "\n",
       "   Children       Age  \n",
       "0 -1.264618  1.017296  \n",
       "1  1.395420  1.273722  \n",
       "2 -1.264618  0.333495  \n",
       "3  0.065401 -1.290534  \n",
       "4  0.065401 -1.034108  "
      ]
     },
     "execution_count": 46,
     "metadata": {},
     "output_type": "execute_result"
    }
   ],
   "source": [
    "#check the preprocessing pipeline\n",
    "pd.DataFrame(preprocessing.fit_transform(retail), columns=preprocessing.get_feature_names_out()).head()"
   ]
  },
  {
   "attachments": {},
   "cell_type": "markdown",
   "id": "c0ae343f",
   "metadata": {},
   "source": [
    "Our processing pipeline functions well, we can now build and train the K-means clusterer.\n",
    "\n",
    "Since the number of clusters (k) influences the clustering results a lot, we will experimentally find the optimal k by using the following 3 approaches:\n",
    "- elbow method - plotting the inertia as a function of the number of clusters k\n",
    "- plotting silhouette score and k\n",
    "- silhouette diagram"
   ]
  },
  {
   "attachments": {},
   "cell_type": "markdown",
   "id": "282f9526",
   "metadata": {},
   "source": [
    "### Elbow Method"
   ]
  },
  {
   "cell_type": "code",
   "execution_count": 47,
   "id": "2d39e549",
   "metadata": {},
   "outputs": [],
   "source": [
    "#define the range of k and compute the inertias within this range\n",
    "k_range = range(1, 50)\n",
    "#a list of models\n",
    "kmeans_per_k = [make_pipeline(preprocessing, \n",
    "                              KMeans(n_clusters=k, n_init=10, random_state=SEED)).fit(retail) for k in k_range]\n",
    "inertias = [model[-1].inertia_ for model in kmeans_per_k]"
   ]
  },
  {
   "cell_type": "code",
   "execution_count": 48,
   "id": "27c189fe",
   "metadata": {},
   "outputs": [
    {
     "data": {
      "image/png": "[encoded data removed]",
      "text/plain": [
       "<Figure size 1600x600 with 1 Axes>"
      ]
     },
     "metadata": {},
     "output_type": "display_data"
    }
   ],
   "source": [
    "plt.figure(figsize=(16, 6))\n",
    "plt.plot(k_range, inertias, 'bo-')\n",
    "plt.xticks(k_range)\n",
    "plt.xlabel('$k$')\n",
    "plt.ylabel('Inertia')\n",
    "plt.show()"
   ]
  },
  {
   "attachments": {},
   "cell_type": "markdown",
   "id": "ec2e17b8",
   "metadata": {},
   "source": [
    "The goal of elbow method is to find the k value where inertia starts decreasing slowly. We can see from the chart that k=2 or k=3 are good choise of number of clusters.\n",
    "\n",
    "However, this elbow technique for choosing the best value for the number of clusters is rather coarse, for this case, it is very hard to decide between k=2 and 3. So, we will also display the silhouette scores, which is a more precise (but also more computationally expensive) approach:"
   ]
  },
  {
   "attachments": {},
   "cell_type": "markdown",
   "id": "da950ce4",
   "metadata": {},
   "source": [
    "### silhouette score"
   ]
  },
  {
   "cell_type": "code",
   "execution_count": 49,
   "id": "cd7d615c",
   "metadata": {},
   "outputs": [],
   "source": [
    "#get the transformed data\n",
    "retail_transformed = preprocessing.fit_transform(retail)\n",
    "#calculate the silhouette scores\n",
    "silhouette_scores = [silhouette_score(retail_transformed, \n",
    "                                      model[-1].labels_) for model in kmeans_per_k[1:]]"
   ]
  },
  {
   "cell_type": "code",
   "execution_count": 50,
   "id": "264af18f",
   "metadata": {},
   "outputs": [
    {
     "data": {
      "image/png": "[encoded data removed]",
      "text/plain": [
       "<Figure size 1800x600 with 1 Axes>"
      ]
     },
     "metadata": {},
     "output_type": "display_data"
    }
   ],
   "source": [
    "plt.figure(figsize=(18, 6))\n",
    "plt.plot(k_range[1:], silhouette_scores, \"bo-\")\n",
    "plt.xlabel(\"$k$\")\n",
    "plt.ylabel(\"Silhouette score\")\n",
    "plt.xticks(k_range[1:])\n",
    "plt.show()"
   ]
  },
  {
   "attachments": {},
   "cell_type": "markdown",
   "id": "353f71a3",
   "metadata": {},
   "source": [
    "As the silhouette scores suggest, k=2 is far better than k=3. Nevertheless, we will also create a silhouette diagram for a more informative visualization. In the silhouette diagram, each knife-shape’s height indicates the number of instances in the cluster, and its width represents the sorted silhouette coefficients of the instances in that cluster. And The vertical dashed lines represent the mean silhouette score for each number of clusters:"
   ]
  },
  {
   "attachments": {},
   "cell_type": "markdown",
   "id": "7400daee",
   "metadata": {},
   "source": [
    "### Silhouette Diagram"
   ]
  },
  {
   "cell_type": "code",
   "execution_count": 51,
   "id": "20473015",
   "metadata": {},
   "outputs": [
    {
     "data": {
      "image/png": "[encoded data removed]",
      "text/plain": [
       "<Figure size 1100x900 with 4 Axes>"
      ]
     },
     "metadata": {},
     "output_type": "display_data"
    }
   ],
   "source": [
    "plt.figure(figsize=(11, 9))\n",
    "\n",
    "for k in (2, 3, 4, 5):\n",
    "    plt.subplot(2, 2, k - 1)\n",
    "    \n",
    "    y_pred = kmeans_per_k[k - 1][-1].labels_\n",
    "    silhouette_coefficients = silhouette_samples(retail_transformed, y_pred)\n",
    "\n",
    "    padding = len(retail_transformed) // 30\n",
    "    pos = padding\n",
    "    ticks = []\n",
    "    for i in range(k):\n",
    "        coeffs = silhouette_coefficients[y_pred == i]\n",
    "        coeffs.sort()\n",
    "\n",
    "        color = mpl.cm.Spectral(i / k)\n",
    "        plt.fill_betweenx(np.arange(pos, pos + len(coeffs)), 0, coeffs,\n",
    "                          facecolor=color, edgecolor=color, alpha=0.7)\n",
    "        ticks.append(pos + len(coeffs) // 2)\n",
    "        pos += len(coeffs) + padding\n",
    "\n",
    "    plt.gca().yaxis.set_major_locator(FixedLocator(ticks))\n",
    "    plt.gca().yaxis.set_major_formatter(FixedFormatter(range(k)))\n",
    "    if k in (2, 4):\n",
    "        plt.ylabel(\"Cluster\")\n",
    "    \n",
    "    if k in (4, 5):\n",
    "        plt.gca().set_xticks([-0.1, 0, 0.2, 0.4, 0.6, 0.8, 1])\n",
    "        plt.xlabel(\"Silhouette Coefficient\")\n",
    "    else:\n",
    "        plt.tick_params(labelbottom=False)\n",
    "\n",
    "    plt.axvline(x=silhouette_scores[k - 2], color=\"red\", linestyle=\"--\")\n",
    "    plt.title(\"$k={}$\".format(k), fontsize=16)\n",
    "\n",
    "plt.show()"
   ]
  },
  {
   "attachments": {},
   "cell_type": "markdown",
   "id": "f3b7f6ae",
   "metadata": {},
   "source": [
    "The silhouette diagram also suggest a preference of the number of clusters of 2 over 3 for two reasons: on the one hand, k=2 delivers a better silhouette score (dashed line) and on the other hand, when k=3, the clusters have very different size - the cluster at index 1 (the second from the bottom) is rather big."
   ]
  },
  {
   "attachments": {},
   "cell_type": "markdown",
   "id": "c3251c49",
   "metadata": {},
   "source": [
    "Now that, we have decided the optimal the number of clusters as two, let's have a deeper look at the two clusters:"
   ]
  },
  {
   "attachments": {},
   "cell_type": "markdown",
   "id": "3d9a3df5",
   "metadata": {},
   "source": [
    "## Task 2\n",
    "Describe the clusters found based on the characteristics of the attributes of the customers and the cluster size."
   ]
  },
  {
   "cell_type": "code",
   "execution_count": 52,
   "id": "f8a0db50",
   "metadata": {},
   "outputs": [
    {
     "data": {
      "text/plain": [
       "22348.288520326347"
      ]
     },
     "execution_count": 52,
     "metadata": {},
     "output_type": "execute_result"
    }
   ],
   "source": [
    "#get the kmeans (k=2) model\n",
    "kmeans2 = kmeans_per_k[1][-1]\n",
    "\n",
    "#have a look at the inertia of the model\n",
    "kmeans2.inertia_"
   ]
  },
  {
   "attachments": {},
   "cell_type": "markdown",
   "id": "b6280431",
   "metadata": {},
   "source": [
    "As the clusters are represented by their centroids, let's display the two cluster centers by wrapping them into a dataframe:"
   ]
  },
  {
   "cell_type": "code",
   "execution_count": 53,
   "id": "f43530b0",
   "metadata": {},
   "outputs": [
    {
     "data": {
      "text/html": [
       "<div>\n",
       "<style scoped>\n",
       "    .dataframe tbody tr th:only-of-type {\n",
       "        vertical-align: middle;\n",
       "    }\n",
       "\n",
       "    .dataframe tbody tr th {\n",
       "        vertical-align: top;\n",
       "    }\n",
       "\n",
       "    .dataframe thead th {\n",
       "        text-align: right;\n",
       "    }\n",
       "</style>\n",
       "<table border=\"1\" class=\"dataframe\">\n",
       "  <thead>\n",
       "    <tr style=\"text-align: right;\">\n",
       "      <th></th>\n",
       "      <th>Education_Bachelor</th>\n",
       "      <th>Education_Basic</th>\n",
       "      <th>Education_Master</th>\n",
       "      <th>Education_PhD</th>\n",
       "      <th>Marital_Status_Relationship</th>\n",
       "      <th>Marital_Status_Single</th>\n",
       "      <th>Exist_Complain_0</th>\n",
       "      <th>Exist_Complain_1</th>\n",
       "      <th>Estimated_Income</th>\n",
       "      <th>Recency</th>\n",
       "      <th>MntWines</th>\n",
       "      <th>MntFruits</th>\n",
       "      <th>MntMeatProducts</th>\n",
       "      <th>MntFishProducts</th>\n",
       "      <th>MntSweetProducts</th>\n",
       "      <th>MntGoldProds</th>\n",
       "      <th>NumWebPurchases</th>\n",
       "      <th>NumCatalogPurchases</th>\n",
       "      <th>NumStorePurchases</th>\n",
       "      <th>Member_days</th>\n",
       "      <th>Children</th>\n",
       "      <th>Age</th>\n",
       "    </tr>\n",
       "  </thead>\n",
       "  <tbody>\n",
       "    <tr>\n",
       "      <th>0</th>\n",
       "      <td>0.483822</td>\n",
       "      <td>0.039127</td>\n",
       "      <td>0.267118</td>\n",
       "      <td>0.209932</td>\n",
       "      <td>0.659142</td>\n",
       "      <td>0.340858</td>\n",
       "      <td>0.990218</td>\n",
       "      <td>0.009782</td>\n",
       "      <td>-0.619937</td>\n",
       "      <td>-0.015024</td>\n",
       "      <td>-0.595203</td>\n",
       "      <td>-0.583433</td>\n",
       "      <td>-0.643867</td>\n",
       "      <td>-0.582969</td>\n",
       "      <td>-0.583258</td>\n",
       "      <td>-0.454174</td>\n",
       "      <td>-0.436502</td>\n",
       "      <td>-0.636224</td>\n",
       "      <td>-0.584025</td>\n",
       "      <td>-0.091512</td>\n",
       "      <td>0.40366</td>\n",
       "      <td>-0.090794</td>\n",
       "    </tr>\n",
       "    <tr>\n",
       "      <th>1</th>\n",
       "      <td>0.533040</td>\n",
       "      <td>0.002203</td>\n",
       "      <td>0.237885</td>\n",
       "      <td>0.226872</td>\n",
       "      <td>0.624449</td>\n",
       "      <td>0.375551</td>\n",
       "      <td>0.992291</td>\n",
       "      <td>0.007709</td>\n",
       "      <td>0.907374</td>\n",
       "      <td>0.021989</td>\n",
       "      <td>0.871173</td>\n",
       "      <td>0.853945</td>\n",
       "      <td>0.942399</td>\n",
       "      <td>0.853267</td>\n",
       "      <td>0.853689</td>\n",
       "      <td>0.664755</td>\n",
       "      <td>0.638890</td>\n",
       "      <td>0.931213</td>\n",
       "      <td>0.854812</td>\n",
       "      <td>0.133942</td>\n",
       "      <td>-0.59082</td>\n",
       "      <td>0.132891</td>\n",
       "    </tr>\n",
       "  </tbody>\n",
       "</table>\n",
       "</div>"
      ],
      "text/plain": [
       "   Education_Bachelor  Education_Basic  Education_Master  Education_PhD  \\\n",
       "0            0.483822         0.039127          0.267118       0.209932   \n",
       "1            0.533040         0.002203          0.237885       0.226872   \n",
       "\n",
       "   Marital_Status_Relationship  Marital_Status_Single  Exist_Complain_0  \\\n",
       "0                     0.659142               0.340858          0.990218   \n",
       "1                     0.624449               0.375551          0.992291   \n",
       "\n",
       "   Exist_Complain_1  Estimated_Income   Recency  MntWines  MntFruits  \\\n",
       "0          0.009782         -0.619937 -0.015024 -0.595203  -0.583433   \n",
       "1          0.007709          0.907374  0.021989  0.871173   0.853945   \n",
       "\n",
       "   MntMeatProducts  MntFishProducts  MntSweetProducts  MntGoldProds  \\\n",
       "0        -0.643867        -0.582969         -0.583258     -0.454174   \n",
       "1         0.942399         0.853267          0.853689      0.664755   \n",
       "\n",
       "   NumWebPurchases  NumCatalogPurchases  NumStorePurchases  Member_days  \\\n",
       "0        -0.436502            -0.636224          -0.584025    -0.091512   \n",
       "1         0.638890             0.931213           0.854812     0.133942   \n",
       "\n",
       "   Children       Age  \n",
       "0   0.40366 -0.090794  \n",
       "1  -0.59082  0.132891  "
      ]
     },
     "execution_count": 53,
     "metadata": {},
     "output_type": "execute_result"
    }
   ],
   "source": [
    "#centroids\n",
    "pd.DataFrame(kmeans2.cluster_centers_, columns=preprocessing.get_feature_names_out())"
   ]
  },
  {
   "attachments": {},
   "cell_type": "markdown",
   "id": "0be4b822",
   "metadata": {},
   "source": [
    "Please note that the `cluster_centers_` attribute of the k-means model are the centroids of the transformed dataset, i.e. the values of the numerical columns are standardised, which makes it very difficult to directly interpret (for example an estimated income of -0.62, or a recency of 0.02 etc. which make no sense). Thus, we create a function below to transform the centroids (the values in their numerical columns to be specific) back to its original scale to ensure interpretability:"
   ]
  },
  {
   "cell_type": "code",
   "execution_count": 54,
   "id": "16ab523f",
   "metadata": {},
   "outputs": [],
   "source": [
    "def get_centroids(k=2):\n",
    "    '''\n",
    "    outputs the unscaled cluster centers by specifying the number of clusters k.\n",
    "    '''\n",
    "    kmeans = kmeans_per_k[k-1][-1] #get the model with the specific k\n",
    "    \n",
    "    num_cols = preprocessing.get_feature_names_out()[-14:] #numerical columns\n",
    "    cat_cols = preprocessing.get_feature_names_out()[:-14] #categorical columns\n",
    "    centroids = pd.DataFrame(kmeans.cluster_centers_, \n",
    "                             columns=preprocessing.get_feature_names_out()) #the centroids with standardised values\n",
    "    #sepatate the centroids by numerical and categorical columns, the values in categorical columns will stay unchanged\n",
    "    cat_centroids = centroids[cat_cols] \n",
    "    num_centroids = centroids[num_cols]\n",
    "    \n",
    "    scaler = preprocessing.named_transformers_['remainder'] #get the standard scaler that previously transformed the data during fitting\n",
    "    inverse_num_centroids = pd.DataFrame(scaler.inverse_transform(num_centroids), \n",
    "                                         columns=num_cols) #convert numerical columns of centroids to original scale\n",
    "    inverse_centroids = pd.concat([cat_centroids, inverse_num_centroids], axis=1) #concatenate the columns\n",
    "    \n",
    "    return inverse_centroids"
   ]
  },
  {
   "cell_type": "code",
   "execution_count": 55,
   "id": "611dcd8d",
   "metadata": {},
   "outputs": [
    {
     "data": {
      "text/html": [
       "<div>\n",
       "<style scoped>\n",
       "    .dataframe tbody tr th:only-of-type {\n",
       "        vertical-align: middle;\n",
       "    }\n",
       "\n",
       "    .dataframe tbody tr th {\n",
       "        vertical-align: top;\n",
       "    }\n",
       "\n",
       "    .dataframe thead th {\n",
       "        text-align: right;\n",
       "    }\n",
       "</style>\n",
       "<table border=\"1\" class=\"dataframe\">\n",
       "  <thead>\n",
       "    <tr style=\"text-align: right;\">\n",
       "      <th></th>\n",
       "      <th>Education_Bachelor</th>\n",
       "      <th>Education_Basic</th>\n",
       "      <th>Education_Master</th>\n",
       "      <th>Education_PhD</th>\n",
       "      <th>Marital_Status_Relationship</th>\n",
       "      <th>Marital_Status_Single</th>\n",
       "      <th>Exist_Complain_0</th>\n",
       "      <th>Exist_Complain_1</th>\n",
       "      <th>Estimated_Income</th>\n",
       "      <th>Recency</th>\n",
       "      <th>MntWines</th>\n",
       "      <th>MntFruits</th>\n",
       "      <th>MntMeatProducts</th>\n",
       "      <th>MntFishProducts</th>\n",
       "      <th>MntSweetProducts</th>\n",
       "      <th>MntGoldProds</th>\n",
       "      <th>NumWebPurchases</th>\n",
       "      <th>NumCatalogPurchases</th>\n",
       "      <th>NumStorePurchases</th>\n",
       "      <th>Member_days</th>\n",
       "      <th>Children</th>\n",
       "      <th>Age</th>\n",
       "    </tr>\n",
       "  </thead>\n",
       "  <tbody>\n",
       "    <tr>\n",
       "      <th>0</th>\n",
       "      <td>0.483822</td>\n",
       "      <td>0.039127</td>\n",
       "      <td>0.267118</td>\n",
       "      <td>0.209932</td>\n",
       "      <td>0.659142</td>\n",
       "      <td>0.340858</td>\n",
       "      <td>0.990218</td>\n",
       "      <td>0.009782</td>\n",
       "      <td>38893.190281</td>\n",
       "      <td>48.669676</td>\n",
       "      <td>105.196388</td>\n",
       "      <td>5.779533</td>\n",
       "      <td>35.801354</td>\n",
       "      <td>8.586907</td>\n",
       "      <td>5.878856</td>\n",
       "      <td>21.353273</td>\n",
       "      <td>2.907449</td>\n",
       "      <td>0.884876</td>\n",
       "      <td>3.896163</td>\n",
       "      <td>521.296464</td>\n",
       "      <td>1.254327</td>\n",
       "      <td>53.036117</td>\n",
       "    </tr>\n",
       "    <tr>\n",
       "      <th>1</th>\n",
       "      <td>0.533040</td>\n",
       "      <td>0.002203</td>\n",
       "      <td>0.237885</td>\n",
       "      <td>0.226872</td>\n",
       "      <td>0.624449</td>\n",
       "      <td>0.375551</td>\n",
       "      <td>0.992291</td>\n",
       "      <td>0.007709</td>\n",
       "      <td>70864.703786</td>\n",
       "      <td>49.741189</td>\n",
       "      <td>590.433921</td>\n",
       "      <td>44.926211</td>\n",
       "      <td>319.170705</td>\n",
       "      <td>66.530286</td>\n",
       "      <td>45.440529</td>\n",
       "      <td>65.991740</td>\n",
       "      <td>5.754405</td>\n",
       "      <td>5.170705</td>\n",
       "      <td>8.572687</td>\n",
       "      <td>566.859031</td>\n",
       "      <td>0.506608</td>\n",
       "      <td>55.653084</td>\n",
       "    </tr>\n",
       "  </tbody>\n",
       "</table>\n",
       "</div>"
      ],
      "text/plain": [
       "   Education_Bachelor  Education_Basic  Education_Master  Education_PhD  \\\n",
       "0            0.483822         0.039127          0.267118       0.209932   \n",
       "1            0.533040         0.002203          0.237885       0.226872   \n",
       "\n",
       "   Marital_Status_Relationship  Marital_Status_Single  Exist_Complain_0  \\\n",
       "0                     0.659142               0.340858          0.990218   \n",
       "1                     0.624449               0.375551          0.992291   \n",
       "\n",
       "   Exist_Complain_1  Estimated_Income    Recency    MntWines  MntFruits  \\\n",
       "0          0.009782      38893.190281  48.669676  105.196388   5.779533   \n",
       "1          0.007709      70864.703786  49.741189  590.433921  44.926211   \n",
       "\n",
       "   MntMeatProducts  MntFishProducts  MntSweetProducts  MntGoldProds  \\\n",
       "0        35.801354         8.586907          5.878856     21.353273   \n",
       "1       319.170705        66.530286         45.440529     65.991740   \n",
       "\n",
       "   NumWebPurchases  NumCatalogPurchases  NumStorePurchases  Member_days  \\\n",
       "0         2.907449             0.884876           3.896163   521.296464   \n",
       "1         5.754405             5.170705           8.572687   566.859031   \n",
       "\n",
       "   Children        Age  \n",
       "0  1.254327  53.036117  \n",
       "1  0.506608  55.653084  "
      ]
     },
     "execution_count": 55,
     "metadata": {},
     "output_type": "execute_result"
    }
   ],
   "source": [
    "#display centroids in original scale\n",
    "centroids_origin_scale = get_centroids(2)\n",
    "centroids_origin_scale"
   ]
  },
  {
   "attachments": {},
   "cell_type": "markdown",
   "id": "875d6bd0",
   "metadata": {},
   "source": [
    "Now we have the centroids that are transformed back to the original scale for a better overview. The centroids represent a typical customer for each of the two clusters. And the values of the attributes are their interpretations.\n",
    "1. We could describe a typical profile of the customers in cluster 0 as:\n",
    "- has one or two children\n",
    "- is around 53 years old\n",
    "- well educated with a bachelor degree or above\n",
    "- not single\n",
    "- hasn't complainted within the last year\n",
    "- has an estimated income of around 38893.19€\n",
    "- became a customer about 521 day ago\n",
    "- made last purchase about 49 days ago\n",
    "- spent around 105.20€ on wine, 5.78€ on fruits, 35.80€ on meat, 8.59€ on fish, 5.88€ on sweets and 21.35€ on gold in the last 2 years\n",
    "- made around 3 purchases through the company’s website, less than once using a catalog and nearly 4 directly in stores\n",
    "2. We could describe a typical profile of the customers in cluster 1 as:\n",
    "- tends to have no or only one children\n",
    "- is around 55 years old\n",
    "- well educated with a bachelor degree or above\n",
    "- not single\n",
    "- hasn't complainted within the last year\n",
    "- has an estimated income of around 70864.70€\n",
    "- became a customer about 567 day ago\n",
    "- made last purchase about 50 days ago\n",
    "- spent around 590.43€ on wine, 44.93€ on fruits, 319.17€ on meat, 66.53€ on fish, 45.44€ on sweets and 65.99€ on gold in the last 2 years\n",
    "- made around 6 purchases through the company’s website, 5 using a catalog and nearly 9 directly in stores\n",
    "\n",
    "Furthermore, if we compare the profiles of the two customer segments, we can find the major differences are:\n",
    "- customers in cluster 1 tend to have more bachelor or phd degrees than those in cluster 0, whereas the basic education has more weight in customers of cluster 0;\n",
    "- customers in cluster 0 have more children than those in cluster 1, which almost have no children;\n",
    "- the income of customers in cluster 0 is significant lower;\n",
    "- customers in cluster 1 have longer membership and spent several times more on all of the articles (such as wine, fruit, meat, fish, sweets and gold) in the last 2 years than those in cluster 0 did;\n",
    "- the number of perchases on different channels (web, catalog and store purchases) made by customers in cluster 1 is more than twice of what customers in cluster 0 made"
   ]
  },
  {
   "attachments": {},
   "cell_type": "markdown",
   "id": "682d1b36",
   "metadata": {},
   "source": [
    "To further visualize the results of clustering, we create the following heatmap, which will display the difference between the two clusters as described above visually. To make the heatmap easier to read, we put all attributes on the same scale:"
   ]
  },
  {
   "cell_type": "code",
   "execution_count": 56,
   "id": "299de133",
   "metadata": {},
   "outputs": [
    {
     "data": {
      "image/png": "[encoded data removed]",
      "text/plain": [
       "<Figure size 2000x600 with 2 Axes>"
      ]
     },
     "metadata": {},
     "output_type": "display_data"
    }
   ],
   "source": [
    "x_labels = preprocessing.get_feature_names_out() #the attributes\n",
    "y_labels = [\"Cluster 0\",\"Cluster 1\"] #two clusters\n",
    "\n",
    "scaler = StandardScaler()\n",
    "scaled_centroids = scaler.fit_transform(centroids_origin_scale) #scale the centroids\n",
    "plt.figure(figsize=(20,6))\n",
    "sns.heatmap(scaled_centroids, fmt='.2f', cmap='RdYlGn', xticklabels=x_labels, yticklabels=y_labels)\n",
    "plt.show()"
   ]
  },
  {
   "attachments": {},
   "cell_type": "markdown",
   "id": "9c29d103",
   "metadata": {},
   "source": [
    "## Task 3\n",
    "What recommendation could you give the marketing department based on your analysis?"
   ]
  },
  {
   "attachments": {},
   "cell_type": "markdown",
   "id": "9696e366",
   "metadata": {},
   "source": [
    "According to the analysis above, customers in cluster 1 made far more purchases on average that those in cluster 0, hence, customers in cluster 1 should be the target customers.\n",
    "\n",
    "- Firstly, the marketing department should in future identify the potential customers that belong to cluster 1 based on the profile analysed on task 2 (such as higher income, less children etc.) and make these the target segment; \n",
    "- Secondly, the marketing department should focus on this segment and launch different marketing campaign or activities, e.g., online and offline advertising, coupons, on different channels such as web, catalog and store.\n",
    "- Lastly, after the customer segmentation is completed, the marketing department could, together with the data science department develop a recommender systems to suggest content that other users in the same cluster enjoyed."
   ]
  }
 ],
 "metadata": {
  "kernelspec": {
   "display_name": "Python 3 (ipykernel)",
   "language": "python",
   "name": "python3"
  },
  "language_info": {
   "codemirror_mode": {
    "name": "ipython",
    "version": 3
   },
   "file_extension": ".py",
   "mimetype": "text/x-python",
   "name": "python",
   "nbconvert_exporter": "python",
   "pygments_lexer": "ipython3",
   "version": "3.10.8"
  }
 },
 "nbformat": 4,
 "nbformat_minor": 5
}
